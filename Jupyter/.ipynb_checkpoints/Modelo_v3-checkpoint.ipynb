{
 "cells": [
  {
   "cell_type": "markdown",
   "metadata": {},
   "source": [
    "# Prediciendo El Rating De Las Aplicaciones En Google Play Store"
   ]
  },
  {
   "cell_type": "markdown",
   "metadata": {},
   "source": [
    "### Descripción\n",
    "\n",
    "El mercado de las aplicaciones móviles cada vez es más competitivo y entender que variables pueden favorecer a la hora de diseñar dichas aplicaciones puede ser de gran ayuda en la toma de decisiones de negocio.  \n",
    "\n",
    "El objetivo de esta competencia será analizar y clasificar el rating de las aplicaciones móviles en el mercado Android de Google Play Store. "
   ]
  },
  {
   "cell_type": "markdown",
   "metadata": {},
   "source": [
    "\n",
    "### Dataset\n",
    "\n",
    "El conjunto de datos contiene características principales de las aplicaciones en el mercado de Google Play Store. \n",
    "\n",
    "Definición de variables:\n",
    "\n",
    "#### ID  = Identificador único de la aplicación\n",
    "#### App  = Nombre de la aplicación\n",
    "#### Category  =  Categoría de la aplicación \n",
    "#### Reviews = Numero de reseñas de la aplicación \n",
    "#### Size  = Tamaño de la aplicación \n",
    "#### Installs  = Numero de descargas/instalaciones en el equipo\n",
    "#### Type = Gratis (Free) o Paid (Paga)\n",
    "#### Price  = Precio de la aplicación en dólares\n",
    "#### Content rating = Calificación de contenido\n",
    "#### Genres = Géneros\n",
    "#### Last Updated = Ultimo día de actualización \n",
    "#### Current Ver = Versión actual de la aplicación \n",
    "#### Android Ver = Versión de Android requerida\n",
    "#### Rating = Calificación de la aplicación "
   ]
  },
  {
   "cell_type": "markdown",
   "metadata": {},
   "source": [
    "# Loading & Exploring the Data Structure"
   ]
  },
  {
   "cell_type": "markdown",
   "metadata": {},
   "source": [
    "Cargue de librerias"
   ]
  },
  {
   "cell_type": "code",
   "execution_count": 1,
   "metadata": {},
   "outputs": [],
   "source": [
    "import pandas as pd\n",
    "import numpy as np\n",
    "import matplotlib.pyplot as plt\n",
    "import seaborn as sns\n",
    "import missingno as msno\n",
    "from time import time\n",
    "\n",
    "from math import sqrt\n",
    "import statsmodels.api as sm\n",
    "from statsmodels.formula.api import ols\n",
    "import scipy.stats as st\n",
    "from scipy.special import boxcox1p\n",
    "\n",
    "from sklearn.cluster import KMeans\n",
    "from sklearn import svm\n",
    "from sklearn.metrics import mean_absolute_error, mean_squared_error\n",
    "from sklearn.model_selection import train_test_split, KFold, cross_val_score, GridSearchCV\n",
    "from sklearn.preprocessing import RobustScaler, LabelEncoder, StandardScaler\n",
    "from sklearn.linear_model import Lasso, Ridge\n",
    "from sklearn.pipeline import make_pipeline\n",
    "from xgboost.sklearn import XGBClassifier"
   ]
  },
  {
   "cell_type": "markdown",
   "metadata": {},
   "source": [
    "Cargue de datasets"
   ]
  },
  {
   "cell_type": "code",
   "execution_count": 2,
   "metadata": {},
   "outputs": [],
   "source": [
    "train = pd.read_csv(\"../data/Train.csv\")\n",
    "test = pd.read_csv(\"../data/Test.csv\")"
   ]
  },
  {
   "cell_type": "code",
   "execution_count": 3,
   "metadata": {},
   "outputs": [
    {
     "name": "stdout",
     "output_type": "stream",
     "text": [
      "Dimensions of Train Dataset:(5788, 14)\n",
      "Dimensions of Test Dataset:(1448, 13)\n"
     ]
    }
   ],
   "source": [
    "print(\"Dimensions of Train Dataset:\" + str(train.shape))\n",
    "print(\"Dimensions of Test Dataset:\" + str(test.shape))"
   ]
  },
  {
   "cell_type": "code",
   "execution_count": 4,
   "metadata": {},
   "outputs": [
    {
     "data": {
      "text/plain": [
       "array([1., 0.])"
      ]
     },
     "execution_count": 4,
     "metadata": {},
     "output_type": "execute_result"
    }
   ],
   "source": [
    "train['Rating'].unique()"
   ]
  },
  {
   "cell_type": "code",
   "execution_count": 5,
   "metadata": {},
   "outputs": [
    {
     "name": "stdout",
     "output_type": "stream",
     "text": [
      "<class 'pandas.core.frame.DataFrame'>\n",
      "RangeIndex: 5788 entries, 0 to 5787\n",
      "Data columns (total 14 columns):\n",
      " #   Column          Non-Null Count  Dtype  \n",
      "---  ------          --------------  -----  \n",
      " 0   ID              5788 non-null   int64  \n",
      " 1   App             5788 non-null   object \n",
      " 2   Category        5788 non-null   object \n",
      " 3   Rating          5788 non-null   float64\n",
      " 4   Reviews         5788 non-null   int64  \n",
      " 5   Size            5788 non-null   object \n",
      " 6   Installs        5788 non-null   object \n",
      " 7   Type            5788 non-null   object \n",
      " 8   Price           5788 non-null   object \n",
      " 9   Content Rating  5788 non-null   object \n",
      " 10  Genres          5788 non-null   object \n",
      " 11  Last Updated    5788 non-null   object \n",
      " 12  Current Ver     5788 non-null   object \n",
      " 13  Android Ver     5788 non-null   object \n",
      "dtypes: float64(1), int64(2), object(11)\n",
      "memory usage: 633.2+ KB\n"
     ]
    }
   ],
   "source": [
    "train.iloc[:,0:18].info()"
   ]
  },
  {
   "cell_type": "markdown",
   "metadata": {},
   "source": [
    "A continuación, vamos a definir algunas variables que se utilizarán en análisis posteriores, además de ser necesarias para el archivo de envío."
   ]
  },
  {
   "cell_type": "code",
   "execution_count": 6,
   "metadata": {},
   "outputs": [],
   "source": [
    "y_train = train['Rating']\n",
    "test_id = test['ID']\n",
    "\n",
    "#Tamaño de los datasets\n",
    "ntrain = train.shape[0]\n",
    "ntest = test.shape[0]"
   ]
  },
  {
   "cell_type": "markdown",
   "metadata": {},
   "source": [
    "ahora vamos a combinar la base train y test para explorar los datos e imputar los valores faltantes."
   ]
  },
  {
   "cell_type": "code",
   "execution_count": 7,
   "metadata": {},
   "outputs": [],
   "source": [
    "all_data = pd.concat((train, test), sort=True).reset_index(drop=True)\n",
    "all_data['Dataset'] = np.repeat(['Train', 'Test'], [ntrain, ntest], axis=0)\n",
    "all_data.drop('ID', axis=1,inplace=True)"
   ]
  },
  {
   "cell_type": "markdown",
   "metadata": {},
   "source": [
    "# Exploring the Variables\n",
    "\n",
    "## Exploracion variable de respuesta"
   ]
  },
  {
   "cell_type": "markdown",
   "metadata": {},
   "source": [
    "Dado que es un ranking normalmente debería ser una variable continua (1 - 5) sin embargo esat variable solo tiene 1 y 0"
   ]
  },
  {
   "cell_type": "markdown",
   "metadata": {},
   "source": [
    "# Data Imputation\n",
    "\n",
    "\n",
    "Completitud de los datos\n",
    "\n",
    "Solo encontramos que los datos de Rating del data frame Test son las faltantes, de resto no hay datos faltantes"
   ]
  },
  {
   "cell_type": "code",
   "execution_count": 8,
   "metadata": {
    "scrolled": true
   },
   "outputs": [
    {
     "data": {
      "text/html": [
       "<div>\n",
       "<style scoped>\n",
       "    .dataframe tbody tr th:only-of-type {\n",
       "        vertical-align: middle;\n",
       "    }\n",
       "\n",
       "    .dataframe tbody tr th {\n",
       "        vertical-align: top;\n",
       "    }\n",
       "\n",
       "    .dataframe thead th {\n",
       "        text-align: right;\n",
       "    }\n",
       "</style>\n",
       "<table border=\"1\" class=\"dataframe\">\n",
       "  <thead>\n",
       "    <tr style=\"text-align: right;\">\n",
       "      <th></th>\n",
       "      <th>Number of Missing Values</th>\n",
       "    </tr>\n",
       "  </thead>\n",
       "  <tbody>\n",
       "    <tr>\n",
       "      <th>Rating</th>\n",
       "      <td>1448</td>\n",
       "    </tr>\n",
       "  </tbody>\n",
       "</table>\n",
       "</div>"
      ],
      "text/plain": [
       "        Number of Missing Values\n",
       "Rating                      1448"
      ]
     },
     "metadata": {},
     "output_type": "display_data"
    }
   ],
   "source": [
    "cols_with_missing_values = all_data.isnull().sum().sort_values(ascending=False)\n",
    "display(pd.DataFrame(cols_with_missing_values[cols_with_missing_values[cols_with_missing_values > 0].index], \n",
    "                     columns=[\"Number of Missing Values\"]))"
   ]
  },
  {
   "cell_type": "markdown",
   "metadata": {},
   "source": [
    "# Feature Engineering"
   ]
  },
  {
   "cell_type": "code",
   "execution_count": 9,
   "metadata": {},
   "outputs": [
    {
     "data": {
      "text/html": [
       "<div>\n",
       "<style scoped>\n",
       "    .dataframe tbody tr th:only-of-type {\n",
       "        vertical-align: middle;\n",
       "    }\n",
       "\n",
       "    .dataframe tbody tr th {\n",
       "        vertical-align: top;\n",
       "    }\n",
       "\n",
       "    .dataframe thead th {\n",
       "        text-align: right;\n",
       "    }\n",
       "</style>\n",
       "<table border=\"1\" class=\"dataframe\">\n",
       "  <thead>\n",
       "    <tr style=\"text-align: right;\">\n",
       "      <th></th>\n",
       "      <th>Android Ver</th>\n",
       "      <th>App</th>\n",
       "      <th>Category</th>\n",
       "      <th>Content Rating</th>\n",
       "      <th>Current Ver</th>\n",
       "      <th>Genres</th>\n",
       "      <th>Installs</th>\n",
       "      <th>Last Updated</th>\n",
       "      <th>Price</th>\n",
       "      <th>Rating</th>\n",
       "      <th>Reviews</th>\n",
       "      <th>Size</th>\n",
       "      <th>Type</th>\n",
       "      <th>Dataset</th>\n",
       "    </tr>\n",
       "  </thead>\n",
       "  <tbody>\n",
       "    <tr>\n",
       "      <th>0</th>\n",
       "      <td>4.0 and up</td>\n",
       "      <td>GPS Status &amp; Toolbox</td>\n",
       "      <td>TRAVEL_AND_LOCAL</td>\n",
       "      <td>Everyone</td>\n",
       "      <td>8.1.171</td>\n",
       "      <td>Travel &amp; Local</td>\n",
       "      <td>10,000,000+</td>\n",
       "      <td>June 13, 2018</td>\n",
       "      <td>0</td>\n",
       "      <td>1.0</td>\n",
       "      <td>149723</td>\n",
       "      <td>4.1M</td>\n",
       "      <td>Free</td>\n",
       "      <td>Train</td>\n",
       "    </tr>\n",
       "    <tr>\n",
       "      <th>1</th>\n",
       "      <td>4.1 and up</td>\n",
       "      <td>Fish|Hunt FL</td>\n",
       "      <td>LIFESTYLE</td>\n",
       "      <td>Everyone</td>\n",
       "      <td>3.2.0</td>\n",
       "      <td>Lifestyle</td>\n",
       "      <td>100,000+</td>\n",
       "      <td>March 22, 2018</td>\n",
       "      <td>0</td>\n",
       "      <td>0.0</td>\n",
       "      <td>853</td>\n",
       "      <td>34M</td>\n",
       "      <td>Free</td>\n",
       "      <td>Train</td>\n",
       "    </tr>\n",
       "    <tr>\n",
       "      <th>2</th>\n",
       "      <td>Varies with device</td>\n",
       "      <td>Allrecipes Dinner Spinner</td>\n",
       "      <td>FOOD_AND_DRINK</td>\n",
       "      <td>Everyone</td>\n",
       "      <td>Varies with device</td>\n",
       "      <td>Food &amp; Drink</td>\n",
       "      <td>5,000,000+</td>\n",
       "      <td>April 10, 2018</td>\n",
       "      <td>0</td>\n",
       "      <td>1.0</td>\n",
       "      <td>61881</td>\n",
       "      <td>Varies with device</td>\n",
       "      <td>Free</td>\n",
       "      <td>Train</td>\n",
       "    </tr>\n",
       "    <tr>\n",
       "      <th>3</th>\n",
       "      <td>2.3 and up</td>\n",
       "      <td>Don't touch my phone</td>\n",
       "      <td>TOOLS</td>\n",
       "      <td>Everyone</td>\n",
       "      <td>30</td>\n",
       "      <td>Tools</td>\n",
       "      <td>5,000,000+</td>\n",
       "      <td>October 19, 2016</td>\n",
       "      <td>0</td>\n",
       "      <td>0.0</td>\n",
       "      <td>21943</td>\n",
       "      <td>2.3M</td>\n",
       "      <td>Free</td>\n",
       "      <td>Train</td>\n",
       "    </tr>\n",
       "    <tr>\n",
       "      <th>4</th>\n",
       "      <td>4.1 and up</td>\n",
       "      <td>BM SPM Practice</td>\n",
       "      <td>FAMILY</td>\n",
       "      <td>Everyone</td>\n",
       "      <td>1.0</td>\n",
       "      <td>Education</td>\n",
       "      <td>1,000+</td>\n",
       "      <td>January 24, 2018</td>\n",
       "      <td>0</td>\n",
       "      <td>1.0</td>\n",
       "      <td>6</td>\n",
       "      <td>9.2M</td>\n",
       "      <td>Free</td>\n",
       "      <td>Train</td>\n",
       "    </tr>\n",
       "  </tbody>\n",
       "</table>\n",
       "</div>"
      ],
      "text/plain": [
       "          Android Ver                        App          Category  \\\n",
       "0          4.0 and up       GPS Status & Toolbox  TRAVEL_AND_LOCAL   \n",
       "1          4.1 and up               Fish|Hunt FL         LIFESTYLE   \n",
       "2  Varies with device  Allrecipes Dinner Spinner    FOOD_AND_DRINK   \n",
       "3          2.3 and up       Don't touch my phone             TOOLS   \n",
       "4          4.1 and up            BM SPM Practice            FAMILY   \n",
       "\n",
       "  Content Rating         Current Ver          Genres     Installs  \\\n",
       "0       Everyone             8.1.171  Travel & Local  10,000,000+   \n",
       "1       Everyone               3.2.0       Lifestyle     100,000+   \n",
       "2       Everyone  Varies with device    Food & Drink   5,000,000+   \n",
       "3       Everyone                  30           Tools   5,000,000+   \n",
       "4       Everyone                 1.0       Education       1,000+   \n",
       "\n",
       "       Last Updated Price  Rating  Reviews                Size  Type Dataset  \n",
       "0     June 13, 2018     0     1.0   149723                4.1M  Free   Train  \n",
       "1    March 22, 2018     0     0.0      853                 34M  Free   Train  \n",
       "2    April 10, 2018     0     1.0    61881  Varies with device  Free   Train  \n",
       "3  October 19, 2016     0     0.0    21943                2.3M  Free   Train  \n",
       "4  January 24, 2018     0     1.0        6                9.2M  Free   Train  "
      ]
     },
     "execution_count": 9,
     "metadata": {},
     "output_type": "execute_result"
    }
   ],
   "source": [
    "all_data.head()"
   ]
  },
  {
   "cell_type": "markdown",
   "metadata": {},
   "source": [
    "### Android Ver\n",
    "\n",
    "Vamos a crear dos columnas nuevas, la primera es la versión minima de android, la segunda la versión maxima"
   ]
  },
  {
   "cell_type": "code",
   "execution_count": 10,
   "metadata": {},
   "outputs": [],
   "source": [
    "#version minima \n",
    "all_data['Ver Min'] =  pd.to_numeric(all_data['Android Ver'].str[:3], errors='coerce') "
   ]
  },
  {
   "cell_type": "code",
   "execution_count": 11,
   "metadata": {},
   "outputs": [],
   "source": [
    "#Reemplazamos por la mediana\n",
    "all_data['Ver Min'].fillna(all_data['Ver Min'].median(), inplace=True)"
   ]
  },
  {
   "cell_type": "code",
   "execution_count": 12,
   "metadata": {},
   "outputs": [],
   "source": [
    "#version maxima\n",
    "all_data['Ver Max'] = all_data['Android Ver'].str[-5:]"
   ]
  },
  {
   "cell_type": "code",
   "execution_count": 13,
   "metadata": {},
   "outputs": [
    {
     "data": {
      "text/plain": [
       "array(['nd up', 'evice', '7.1.1', '- 8.0', '- 6.0'], dtype=object)"
      ]
     },
     "execution_count": 13,
     "metadata": {},
     "output_type": "execute_result"
    }
   ],
   "source": [
    "all_data['Ver Max'].unique()"
   ]
  },
  {
   "cell_type": "code",
   "execution_count": 14,
   "metadata": {},
   "outputs": [],
   "source": [
    "all_data['Ver Max'] = all_data['Ver Max'].replace('7.1.1', '7.1')\n",
    "all_data['Ver Max'] = all_data['Ver Max'].replace('- 8.0', '8.0')\n",
    "all_data['Ver Max'] = all_data['Ver Max'].replace('- 6.0', '6.0')\n",
    "all_data['Ver Max'] = all_data['Ver Max'].replace('nd up', '9.0') #Version vigente para la fecha del data frame"
   ]
  },
  {
   "cell_type": "code",
   "execution_count": 15,
   "metadata": {},
   "outputs": [],
   "source": [
    "#Convertimos en numerica\n",
    "all_data['Ver Max'] =  pd.to_numeric(all_data['Ver Max'].str[:3], errors='coerce') "
   ]
  },
  {
   "cell_type": "code",
   "execution_count": 16,
   "metadata": {},
   "outputs": [],
   "source": [
    "#Reemplazamos por la mediana\n",
    "all_data['Ver Max'].fillna(all_data['Ver Max'].median(), inplace=True)"
   ]
  },
  {
   "cell_type": "code",
   "execution_count": 17,
   "metadata": {},
   "outputs": [],
   "source": [
    "#Eliminamos la variable de version original\n",
    "\n",
    "all_data.drop(['Android Ver'], axis=1, inplace=True)"
   ]
  },
  {
   "cell_type": "markdown",
   "metadata": {},
   "source": [
    "### Category"
   ]
  },
  {
   "cell_type": "code",
   "execution_count": 18,
   "metadata": {},
   "outputs": [],
   "source": [
    "Category_agrup =  all_data[['Category', 'Rating']].groupby(['Category']).agg(['mean', 'count'])"
   ]
  },
  {
   "cell_type": "code",
   "execution_count": 19,
   "metadata": {},
   "outputs": [],
   "source": [
    "Category_agrup.columns = ['mean', 'count']\n",
    "Category_agrup.reset_index(inplace=True)"
   ]
  },
  {
   "cell_type": "code",
   "execution_count": 20,
   "metadata": {},
   "outputs": [],
   "source": [
    "#Category_agrup.sort_values(by=['mean'], ascending=False)"
   ]
  },
  {
   "cell_type": "code",
   "execution_count": 21,
   "metadata": {},
   "outputs": [],
   "source": [
    "R_by_category =  all_data[all_data['Dataset'] == 'Train'].groupby(['Category']).mean()"
   ]
  },
  {
   "cell_type": "code",
   "execution_count": 22,
   "metadata": {},
   "outputs": [],
   "source": [
    "R_by_category.reset_index(level=0, inplace=True)"
   ]
  },
  {
   "cell_type": "code",
   "execution_count": 23,
   "metadata": {},
   "outputs": [],
   "source": [
    "R_by_category.drop(['Reviews', 'Ver Min', 'Ver Max'], axis=1, inplace=True)"
   ]
  },
  {
   "cell_type": "code",
   "execution_count": 24,
   "metadata": {},
   "outputs": [],
   "source": [
    "R_by_category.columns = ['Category', 'Rating_cat']"
   ]
  },
  {
   "cell_type": "code",
   "execution_count": 25,
   "metadata": {},
   "outputs": [],
   "source": [
    "all_data = pd.merge(all_data, R_by_category[['Category', 'Rating_cat']], left_on= ['Category'], right_on=['Category'], how = 'left')"
   ]
  },
  {
   "cell_type": "code",
   "execution_count": 26,
   "metadata": {},
   "outputs": [],
   "source": [
    "#Eliminamos la variable de version original\n",
    "\n",
    "all_data.drop(['Category'], axis=1, inplace=True)"
   ]
  },
  {
   "cell_type": "markdown",
   "metadata": {},
   "source": [
    "### Genres"
   ]
  },
  {
   "cell_type": "code",
   "execution_count": 27,
   "metadata": {},
   "outputs": [],
   "source": [
    "a = all_data['Genres'].str.split(\";\", n = 1, expand = True)"
   ]
  },
  {
   "cell_type": "code",
   "execution_count": 28,
   "metadata": {},
   "outputs": [],
   "source": [
    "a.columns = ['Genre_1', 'Genre_2']"
   ]
  },
  {
   "cell_type": "code",
   "execution_count": 29,
   "metadata": {},
   "outputs": [],
   "source": [
    "a = a['Genre_1'].str.split(\"&\", n = 1, expand = True)"
   ]
  },
  {
   "cell_type": "code",
   "execution_count": 30,
   "metadata": {},
   "outputs": [],
   "source": [
    "a.columns = ['Genre_1', 'Genre_2']"
   ]
  },
  {
   "cell_type": "code",
   "execution_count": 31,
   "metadata": {},
   "outputs": [],
   "source": [
    "all_data['Genres'] = a['Genre_1']"
   ]
  },
  {
   "cell_type": "code",
   "execution_count": 32,
   "metadata": {},
   "outputs": [],
   "source": [
    "Genres_agrup =  all_data[['Genres', 'Rating']].groupby(['Genres']).agg(['mean', 'count'])"
   ]
  },
  {
   "cell_type": "code",
   "execution_count": 33,
   "metadata": {},
   "outputs": [],
   "source": [
    "R_by_Genre =  all_data[all_data['Dataset'] == 'Train'].groupby(['Genres']).sum()"
   ]
  },
  {
   "cell_type": "code",
   "execution_count": 34,
   "metadata": {},
   "outputs": [],
   "source": [
    "R_by_Genre.reset_index(level=0, inplace=True)"
   ]
  },
  {
   "cell_type": "code",
   "execution_count": 35,
   "metadata": {},
   "outputs": [],
   "source": [
    "R_by_Genre.drop(['Reviews', 'Ver Min', 'Ver Max', 'Rating_cat'], axis=1, inplace=True)"
   ]
  },
  {
   "cell_type": "code",
   "execution_count": 36,
   "metadata": {},
   "outputs": [],
   "source": [
    "R_by_Genre.columns = ['Genres', 'Rating_Gen']"
   ]
  },
  {
   "cell_type": "code",
   "execution_count": 37,
   "metadata": {},
   "outputs": [],
   "source": [
    "all_data = pd.merge(all_data, R_by_Genre[['Genres', 'Rating_Gen']], left_on= ['Genres'], right_on=['Genres'], how = 'left')"
   ]
  },
  {
   "cell_type": "code",
   "execution_count": 38,
   "metadata": {},
   "outputs": [],
   "source": [
    "all_data.drop(['Genres'], axis=1, inplace=True)"
   ]
  },
  {
   "cell_type": "markdown",
   "metadata": {},
   "source": [
    "## Last Update"
   ]
  },
  {
   "cell_type": "code",
   "execution_count": 39,
   "metadata": {},
   "outputs": [],
   "source": [
    "all_data['Last Updated']  = all_data['Last Updated'] = pd.to_datetime(all_data['Last Updated'])"
   ]
  },
  {
   "cell_type": "code",
   "execution_count": 40,
   "metadata": {},
   "outputs": [],
   "source": [
    "all_data['Last Updated_days']  = all_data['Last Updated'] .max() - all_data['Last Updated']"
   ]
  },
  {
   "cell_type": "code",
   "execution_count": 41,
   "metadata": {},
   "outputs": [],
   "source": [
    "all_data['Last Updated_days'] = all_data['Last Updated_days'].apply(lambda x: x.days)"
   ]
  },
  {
   "cell_type": "code",
   "execution_count": 42,
   "metadata": {},
   "outputs": [],
   "source": [
    "all_data['Last Updated_days'] = all_data['Last Updated_days']/360"
   ]
  },
  {
   "cell_type": "code",
   "execution_count": 43,
   "metadata": {},
   "outputs": [],
   "source": [
    "all_data.drop(['Last Updated'], axis=1, inplace=True)"
   ]
  },
  {
   "cell_type": "markdown",
   "metadata": {},
   "source": [
    "## Installs"
   ]
  },
  {
   "cell_type": "code",
   "execution_count": 44,
   "metadata": {},
   "outputs": [],
   "source": [
    "install_agrup =  all_data[['Installs', 'Rating']].groupby(['Installs']).agg(['mean', 'count'])"
   ]
  },
  {
   "cell_type": "code",
   "execution_count": 45,
   "metadata": {},
   "outputs": [],
   "source": [
    "all_data['Installs'] = all_data['Installs'].str.replace(r'\\D', '')"
   ]
  },
  {
   "cell_type": "code",
   "execution_count": 46,
   "metadata": {},
   "outputs": [],
   "source": [
    "all_data['Installs'] = all_data['Installs'].astype(float)"
   ]
  },
  {
   "cell_type": "code",
   "execution_count": 47,
   "metadata": {},
   "outputs": [
    {
     "data": {
      "text/plain": [
       "7236"
      ]
     },
     "execution_count": 47,
     "metadata": {},
     "output_type": "execute_result"
    }
   ],
   "source": [
    "len(all_data)"
   ]
  },
  {
   "cell_type": "code",
   "execution_count": 48,
   "metadata": {},
   "outputs": [],
   "source": [
    "#elimnamos del DF los que tengan menos de 1 instalaciones \n",
    "#all_data = all_data[all_data['Installs'] >= 1]"
   ]
  },
  {
   "cell_type": "markdown",
   "metadata": {},
   "source": [
    "## Price"
   ]
  },
  {
   "cell_type": "code",
   "execution_count": 49,
   "metadata": {},
   "outputs": [],
   "source": [
    "all_data['Price'] = all_data['Price'].str.replace(r'$', '')"
   ]
  },
  {
   "cell_type": "code",
   "execution_count": 50,
   "metadata": {},
   "outputs": [],
   "source": [
    "all_data['Price'] = all_data['Price'].astype(float)"
   ]
  },
  {
   "cell_type": "markdown",
   "metadata": {},
   "source": [
    "## Size"
   ]
  },
  {
   "cell_type": "code",
   "execution_count": 51,
   "metadata": {},
   "outputs": [],
   "source": [
    "all_data['Size_a'] = all_data['Size'].str[-1:]"
   ]
  },
  {
   "cell_type": "code",
   "execution_count": 52,
   "metadata": {},
   "outputs": [],
   "source": [
    "all_data['Size_a'] = all_data['Size_a'].replace('e', np.NaN)\n",
    "all_data['Size_a'] = all_data['Size_a'].replace('M', 1000000)\n",
    "all_data['Size_a'] = all_data['Size_a'].replace('k', 1000)"
   ]
  },
  {
   "cell_type": "code",
   "execution_count": 53,
   "metadata": {},
   "outputs": [
    {
     "data": {
      "text/plain": [
       "array([1000000.,      nan,    1000.])"
      ]
     },
     "execution_count": 53,
     "metadata": {},
     "output_type": "execute_result"
    }
   ],
   "source": [
    "all_data['Size_a'].unique()"
   ]
  },
  {
   "cell_type": "code",
   "execution_count": 54,
   "metadata": {},
   "outputs": [],
   "source": [
    "all_data['Size'] = all_data['Size'].str.replace(r'[aA-zZ]+', '')"
   ]
  },
  {
   "cell_type": "code",
   "execution_count": 55,
   "metadata": {},
   "outputs": [],
   "source": [
    "all_data['Size'] =  pd.to_numeric(all_data['Size'], errors='coerce') \n",
    "all_data['Size_a'] =  pd.to_numeric(all_data['Size_a'], errors='coerce') "
   ]
  },
  {
   "cell_type": "code",
   "execution_count": 56,
   "metadata": {},
   "outputs": [],
   "source": [
    "all_data['Size'] =  all_data['Size'] * all_data['Size_a'] "
   ]
  },
  {
   "cell_type": "code",
   "execution_count": 57,
   "metadata": {},
   "outputs": [],
   "source": [
    "all_data['Size'] = all_data['Size'].fillna(all_data['Size'].mean())"
   ]
  },
  {
   "cell_type": "code",
   "execution_count": 58,
   "metadata": {},
   "outputs": [],
   "source": [
    "all_data.drop(['Size_a'], axis=1, inplace=True)"
   ]
  },
  {
   "cell_type": "markdown",
   "metadata": {},
   "source": [
    "## Current Ver"
   ]
  },
  {
   "cell_type": "code",
   "execution_count": 59,
   "metadata": {},
   "outputs": [],
   "source": [
    "all_data['Current Ver'] = all_data['Current Ver'].str.replace(r'[aA-zZ]+', '')"
   ]
  },
  {
   "cell_type": "code",
   "execution_count": 60,
   "metadata": {},
   "outputs": [],
   "source": [
    "a = all_data['Current Ver'].str.split(\".\", n = 4, expand = True)"
   ]
  },
  {
   "cell_type": "code",
   "execution_count": 61,
   "metadata": {},
   "outputs": [],
   "source": [
    "a.columns = ['Version', 'Sub_ver', 'Sub_ver_2', 'Sub_ver_3', 'Sub_ver_4']"
   ]
  },
  {
   "cell_type": "code",
   "execution_count": 62,
   "metadata": {},
   "outputs": [],
   "source": [
    "a = a.fillna(0)"
   ]
  },
  {
   "cell_type": "code",
   "execution_count": 63,
   "metadata": {},
   "outputs": [],
   "source": [
    "#a['Version'] = a['Version'].astype(int)\n",
    "#a['Sub_ver'] = a['Sub_ver'].astype(int)\n",
    "#a['Sub_ver_2'] = a['Sub_ver_2'].astype(int)"
   ]
  },
  {
   "cell_type": "code",
   "execution_count": 64,
   "metadata": {},
   "outputs": [],
   "source": [
    "#all_data['Current_Ver_exp'] = a['Version']*a['Sub_ver']*a['Sub_ver_2']"
   ]
  },
  {
   "cell_type": "code",
   "execution_count": 65,
   "metadata": {},
   "outputs": [],
   "source": [
    "#all_data['Current_Ver'] = all_data['Current_Ver'].fillna(all_data['Current_Ver'].median())"
   ]
  },
  {
   "cell_type": "code",
   "execution_count": 66,
   "metadata": {},
   "outputs": [],
   "source": [
    "all_data['Current_Ver'] = a['Version']\n",
    "#all_data['Current_Ver_2'] = a['Sub_ver']"
   ]
  },
  {
   "cell_type": "code",
   "execution_count": 67,
   "metadata": {},
   "outputs": [],
   "source": [
    "#Convertimos en numerica\n",
    "all_data['Current_Ver'] =  pd.to_numeric(all_data['Current_Ver'], errors='coerce') \n",
    "#all_data['Current_Ver_2'] =  pd.to_numeric(all_data['Current_Ver'], errors='coerce') "
   ]
  },
  {
   "cell_type": "code",
   "execution_count": 68,
   "metadata": {},
   "outputs": [],
   "source": [
    "all_data['Current_Ver'] = all_data['Current_Ver'].replace(0, np.NaN)"
   ]
  },
  {
   "cell_type": "code",
   "execution_count": 69,
   "metadata": {},
   "outputs": [],
   "source": [
    "all_data['Current_Ver'] = all_data['Current_Ver'].apply(lambda x: np.where(x > 15,np.nan,x))\n",
    "all_data['Current_Ver'] = all_data['Current_Ver'].apply(lambda x: np.where(x < 0,np.nan,x))"
   ]
  },
  {
   "cell_type": "code",
   "execution_count": 70,
   "metadata": {},
   "outputs": [],
   "source": [
    "train_Current_Ver = all_data[~all_data.Current_Ver.isnull()]\n",
    "test_Current_Ver = all_data[all_data.Current_Ver.isnull()]"
   ]
  },
  {
   "cell_type": "code",
   "execution_count": 71,
   "metadata": {},
   "outputs": [
    {
     "data": {
      "image/png": "[encoded data removed]",
      "text/plain": [
       "<Figure size 1152x288 with 2 Axes>"
      ]
     },
     "metadata": {
      "needs_background": "light"
     },
     "output_type": "display_data"
    }
   ],
   "source": [
    "fig, ax = plt.subplots(1,2, figsize=(16,4))\n",
    "sns.boxplot(train_Current_Ver['Current_Ver'], ax=ax[0])\n",
    "\n",
    "sns.distplot(train_Current_Ver['Current_Ver'], ax=ax[1], fit=st.norm, fit_kws={\"color\":\"red\"})\n",
    "(mu, sigma) = st.norm.fit(train_Current_Ver['Current_Ver'])\n",
    "plt.legend(['Normal Distribution \\n ($\\mu=$ {:.2f} and  $\\sigma=$ {:.2f} )'.format(mu, sigma)],\n",
    "            loc='best', fancybox=True)\n",
    "plt.show()"
   ]
  },
  {
   "cell_type": "code",
   "execution_count": 72,
   "metadata": {},
   "outputs": [],
   "source": [
    "all_data['Current_Ver'] = all_data['Current_Ver'].fillna(all_data['Current_Ver'].median())"
   ]
  },
  {
   "cell_type": "code",
   "execution_count": 73,
   "metadata": {},
   "outputs": [],
   "source": [
    "all_data.drop(['Current Ver'], axis=1, inplace=True)"
   ]
  },
  {
   "cell_type": "code",
   "execution_count": 74,
   "metadata": {},
   "outputs": [],
   "source": [
    "all_data['Type'] = all_data['Type'].replace('Free', 0)\n",
    "all_data['Type'] = all_data['Type'].replace('Paid', 1)\n",
    "all_data['Type'] = all_data['Type'].astype(int)"
   ]
  },
  {
   "cell_type": "code",
   "execution_count": 75,
   "metadata": {},
   "outputs": [
    {
     "data": {
      "text/plain": [
       "Index(['App', 'Content Rating', 'Installs', 'Price', 'Rating', 'Reviews',\n",
       "       'Size', 'Type', 'Dataset', 'Ver Min', 'Ver Max', 'Rating_cat',\n",
       "       'Rating_Gen', 'Last Updated_days', 'Current_Ver'],\n",
       "      dtype='object')"
      ]
     },
     "execution_count": 75,
     "metadata": {},
     "output_type": "execute_result"
    }
   ],
   "source": [
    "all_data.columns"
   ]
  },
  {
   "cell_type": "code",
   "execution_count": 76,
   "metadata": {},
   "outputs": [],
   "source": [
    "all_data['Rev_install'] = all_data['Reviews'] / all_data['Installs']   "
   ]
  },
  {
   "cell_type": "code",
   "execution_count": 77,
   "metadata": {},
   "outputs": [],
   "source": [
    "#all_data['Reviews_year'] = all_data['Reviews'] / all_data['Last Updated_days']   \n",
    "#all_data['Reviews_year'] = all_data['Reviews_year'].fillna(0)\n",
    "\n",
    "all_data['Rev_install'] = all_data['Rev_install'].fillna(0)\n",
    "\n",
    "#all_data['Reviews_year'] =  all_data['Reviews_year'].replace(-np.inf, np.nan)\n",
    "\n",
    "#all_data['Rev_install'] = all_data['Rev_install'].fillna(0)"
   ]
  },
  {
   "cell_type": "code",
   "execution_count": 78,
   "metadata": {},
   "outputs": [],
   "source": [
    "#from numpy import inf\n",
    "#all_data['Reviews_year'] [all_data['Reviews_year']  == inf] = 0"
   ]
  },
  {
   "cell_type": "code",
   "execution_count": 79,
   "metadata": {},
   "outputs": [],
   "source": [
    "#all_data.max()"
   ]
  },
  {
   "cell_type": "code",
   "execution_count": 80,
   "metadata": {},
   "outputs": [
    {
     "data": {
      "text/plain": [
       "Index(['App', 'Content Rating', 'Installs', 'Price', 'Rating', 'Reviews',\n",
       "       'Size', 'Type', 'Dataset', 'Ver Min', 'Ver Max', 'Rating_cat',\n",
       "       'Rating_Gen', 'Last Updated_days', 'Current_Ver', 'Rev_install'],\n",
       "      dtype='object')"
      ]
     },
     "execution_count": 80,
     "metadata": {},
     "output_type": "execute_result"
    }
   ],
   "source": [
    "all_data.columns"
   ]
  },
  {
   "cell_type": "markdown",
   "metadata": {},
   "source": [
    "# Skewness & Normalization of Numeric Variables"
   ]
  },
  {
   "cell_type": "code",
   "execution_count": 81,
   "metadata": {},
   "outputs": [
    {
     "data": {
      "text/html": [
       "<div>\n",
       "<style scoped>\n",
       "    .dataframe tbody tr th:only-of-type {\n",
       "        vertical-align: middle;\n",
       "    }\n",
       "\n",
       "    .dataframe tbody tr th {\n",
       "        vertical-align: top;\n",
       "    }\n",
       "\n",
       "    .dataframe thead th {\n",
       "        text-align: right;\n",
       "    }\n",
       "</style>\n",
       "<table border=\"1\" class=\"dataframe\">\n",
       "  <thead>\n",
       "    <tr style=\"text-align: right;\">\n",
       "      <th></th>\n",
       "      <th>Skew Before Transformation</th>\n",
       "      <th>Skew After Transformation</th>\n",
       "    </tr>\n",
       "  </thead>\n",
       "  <tbody>\n",
       "    <tr>\n",
       "      <th>Reviews</th>\n",
       "      <td>26.794373</td>\n",
       "      <td>0.125382</td>\n",
       "    </tr>\n",
       "    <tr>\n",
       "      <th>Price</th>\n",
       "      <td>25.663991</td>\n",
       "      <td>6.991071</td>\n",
       "    </tr>\n",
       "    <tr>\n",
       "      <th>Rev_install</th>\n",
       "      <td>20.747723</td>\n",
       "      <td>11.477539</td>\n",
       "    </tr>\n",
       "    <tr>\n",
       "      <th>Installs</th>\n",
       "      <td>15.219577</td>\n",
       "      <td>-0.238070</td>\n",
       "    </tr>\n",
       "    <tr>\n",
       "      <th>Current_Ver</th>\n",
       "      <td>2.559536</td>\n",
       "      <td>1.515706</td>\n",
       "    </tr>\n",
       "    <tr>\n",
       "      <th>Last Updated_days</th>\n",
       "      <td>2.222751</td>\n",
       "      <td>1.437497</td>\n",
       "    </tr>\n",
       "    <tr>\n",
       "      <th>Size</th>\n",
       "      <td>1.785258</td>\n",
       "      <td>-0.981077</td>\n",
       "    </tr>\n",
       "  </tbody>\n",
       "</table>\n",
       "</div>"
      ],
      "text/plain": [
       "                   Skew Before Transformation  Skew After Transformation\n",
       "Reviews                             26.794373                   0.125382\n",
       "Price                               25.663991                   6.991071\n",
       "Rev_install                         20.747723                  11.477539\n",
       "Installs                            15.219577                  -0.238070\n",
       "Current_Ver                          2.559536                   1.515706\n",
       "Last Updated_days                    2.222751                   1.437497\n",
       "Size                                 1.785258                  -0.981077"
      ]
     },
     "execution_count": 81,
     "metadata": {},
     "output_type": "execute_result"
    }
   ],
   "source": [
    "numeric_feats = ['Installs', 'Price', 'Reviews', 'Size', 'Rating_cat', 'Rating_Gen', 'Last Updated_days', 'Current_Ver', 'Rev_install']\n",
    "\n",
    "skewed_feats = all_data[numeric_feats].apply(lambda x: st.skew(x.dropna())).sort_values(ascending=False)\n",
    "skewness = pd.DataFrame({'Skew Before Transformation' :skewed_feats})\n",
    "\n",
    "skewness = skewness[abs(skewness) > 1].dropna(axis=0)\n",
    "skewed_features = skewness.index\n",
    "for feat in skewed_features:\n",
    "    all_data[feat] = np.log1p(all_data[feat]+1)\n",
    "\n",
    "skewed_feats = all_data[skewed_features].apply(lambda x: st.skew(x.dropna())).sort_values(ascending=False)\n",
    "skewness['Skew After Transformation'] = skewed_feats\n",
    "skewness"
   ]
  },
  {
   "cell_type": "code",
   "execution_count": 82,
   "metadata": {},
   "outputs": [],
   "source": [
    "all_data.drop(['App', 'Reviews'], axis=1, inplace=True)"
   ]
  },
  {
   "cell_type": "code",
   "execution_count": 83,
   "metadata": {},
   "outputs": [],
   "source": [
    "all_data.drop(['Type'], axis=1, inplace=True)"
   ]
  },
  {
   "cell_type": "code",
   "execution_count": 84,
   "metadata": {},
   "outputs": [
    {
     "data": {
      "image/png": "[encoded data removed]",
      "text/plain": [
       "<Figure size 1080x1080 with 2 Axes>"
      ]
     },
     "metadata": {
      "needs_background": "light"
     },
     "output_type": "display_data"
    }
   ],
   "source": [
    "corr = all_data.corr()\n",
    "mask = np.zeros_like(corr, dtype=np.bool)\n",
    "mask[np.triu_indices_from(mask)] = True\n",
    "\n",
    "f, ax = plt.subplots(figsize=(15, 15))\n",
    "cmap = sns.diverging_palette(220, 10, as_cmap=True)\n",
    "\n",
    "sns.heatmap(corr, mask=mask, cmap=cmap,\n",
    "            center=0, square=True, linewidths = .5)\n",
    "plt.show()"
   ]
  },
  {
   "cell_type": "code",
   "execution_count": 85,
   "metadata": {},
   "outputs": [],
   "source": [
    "all_data['Ver Max'] = 9.0 - all_data['Ver Max']"
   ]
  },
  {
   "cell_type": "code",
   "execution_count": 86,
   "metadata": {},
   "outputs": [],
   "source": [
    "all_data['Recaudo'] = all_data['Installs'] * all_data['Price'] "
   ]
  },
  {
   "cell_type": "code",
   "execution_count": 87,
   "metadata": {},
   "outputs": [
    {
     "name": "stdout",
     "output_type": "stream",
     "text": [
      "(7236, 20)\n"
     ]
    },
    {
     "data": {
      "text/html": [
       "<div>\n",
       "<style scoped>\n",
       "    .dataframe tbody tr th:only-of-type {\n",
       "        vertical-align: middle;\n",
       "    }\n",
       "\n",
       "    .dataframe tbody tr th {\n",
       "        vertical-align: top;\n",
       "    }\n",
       "\n",
       "    .dataframe thead th {\n",
       "        text-align: right;\n",
       "    }\n",
       "</style>\n",
       "<table border=\"1\" class=\"dataframe\">\n",
       "  <thead>\n",
       "    <tr style=\"text-align: right;\">\n",
       "      <th></th>\n",
       "      <th>Installs</th>\n",
       "      <th>Price</th>\n",
       "      <th>Rating</th>\n",
       "      <th>Size</th>\n",
       "      <th>Ver Min</th>\n",
       "      <th>Ver Max</th>\n",
       "      <th>Rating_cat</th>\n",
       "      <th>Rating_Gen</th>\n",
       "      <th>Last Updated_days</th>\n",
       "      <th>Current_Ver</th>\n",
       "      <th>Rev_install</th>\n",
       "      <th>Recaudo</th>\n",
       "      <th>Content Rating_Adults only 18+</th>\n",
       "      <th>Content Rating_Everyone</th>\n",
       "      <th>Content Rating_Everyone 10+</th>\n",
       "      <th>Content Rating_Mature 17+</th>\n",
       "      <th>Content Rating_Teen</th>\n",
       "      <th>Content Rating_Unrated</th>\n",
       "      <th>Dataset_Test</th>\n",
       "      <th>Dataset_Train</th>\n",
       "    </tr>\n",
       "  </thead>\n",
       "  <tbody>\n",
       "    <tr>\n",
       "      <th>0</th>\n",
       "      <td>16.118096</td>\n",
       "      <td>0.693147</td>\n",
       "      <td>1.0</td>\n",
       "      <td>15.226498</td>\n",
       "      <td>4.0</td>\n",
       "      <td>0.0</td>\n",
       "      <td>0.699248</td>\n",
       "      <td>93.0</td>\n",
       "      <td>0.768048</td>\n",
       "      <td>2.302585</td>\n",
       "      <td>0.700605</td>\n",
       "      <td>11.172213</td>\n",
       "      <td>0</td>\n",
       "      <td>1</td>\n",
       "      <td>0</td>\n",
       "      <td>0</td>\n",
       "      <td>0</td>\n",
       "      <td>0</td>\n",
       "      <td>0</td>\n",
       "      <td>1</td>\n",
       "    </tr>\n",
       "    <tr>\n",
       "      <th>1</th>\n",
       "      <td>11.512945</td>\n",
       "      <td>0.693147</td>\n",
       "      <td>0.0</td>\n",
       "      <td>17.341871</td>\n",
       "      <td>4.1</td>\n",
       "      <td>0.0</td>\n",
       "      <td>0.657534</td>\n",
       "      <td>144.0</td>\n",
       "      <td>0.869665</td>\n",
       "      <td>1.609438</td>\n",
       "      <td>0.697403</td>\n",
       "      <td>7.980166</td>\n",
       "      <td>0</td>\n",
       "      <td>1</td>\n",
       "      <td>0</td>\n",
       "      <td>0</td>\n",
       "      <td>0</td>\n",
       "      <td>0</td>\n",
       "      <td>0</td>\n",
       "      <td>1</td>\n",
       "    </tr>\n",
       "    <tr>\n",
       "      <th>2</th>\n",
       "      <td>15.424949</td>\n",
       "      <td>0.693147</td>\n",
       "      <td>1.0</td>\n",
       "      <td>16.817655</td>\n",
       "      <td>4.0</td>\n",
       "      <td>0.0</td>\n",
       "      <td>0.731343</td>\n",
       "      <td>49.0</td>\n",
       "      <td>0.847298</td>\n",
       "      <td>1.098612</td>\n",
       "      <td>0.699316</td>\n",
       "      <td>10.691760</td>\n",
       "      <td>0</td>\n",
       "      <td>1</td>\n",
       "      <td>0</td>\n",
       "      <td>0</td>\n",
       "      <td>0</td>\n",
       "      <td>0</td>\n",
       "      <td>0</td>\n",
       "      <td>1</td>\n",
       "    </tr>\n",
       "  </tbody>\n",
       "</table>\n",
       "</div>"
      ],
      "text/plain": [
       "    Installs     Price  Rating       Size  Ver Min  Ver Max  Rating_cat  \\\n",
       "0  16.118096  0.693147     1.0  15.226498      4.0      0.0    0.699248   \n",
       "1  11.512945  0.693147     0.0  17.341871      4.1      0.0    0.657534   \n",
       "2  15.424949  0.693147     1.0  16.817655      4.0      0.0    0.731343   \n",
       "\n",
       "   Rating_Gen  Last Updated_days  Current_Ver  Rev_install    Recaudo  \\\n",
       "0        93.0           0.768048     2.302585     0.700605  11.172213   \n",
       "1       144.0           0.869665     1.609438     0.697403   7.980166   \n",
       "2        49.0           0.847298     1.098612     0.699316  10.691760   \n",
       "\n",
       "   Content Rating_Adults only 18+  Content Rating_Everyone  \\\n",
       "0                               0                        1   \n",
       "1                               0                        1   \n",
       "2                               0                        1   \n",
       "\n",
       "   Content Rating_Everyone 10+  Content Rating_Mature 17+  \\\n",
       "0                            0                          0   \n",
       "1                            0                          0   \n",
       "2                            0                          0   \n",
       "\n",
       "   Content Rating_Teen  Content Rating_Unrated  Dataset_Test  Dataset_Train  \n",
       "0                    0                       0             0              1  \n",
       "1                    0                       0             0              1  \n",
       "2                    0                       0             0              1  "
      ]
     },
     "execution_count": 87,
     "metadata": {},
     "output_type": "execute_result"
    }
   ],
   "source": [
    "all_data = pd.get_dummies(all_data)\n",
    "print(all_data.shape)\n",
    "all_data.head(3)"
   ]
  },
  {
   "cell_type": "code",
   "execution_count": 88,
   "metadata": {},
   "outputs": [],
   "source": [
    "all_data_bal = all_data[~all_data['Rating'].isnull()]"
   ]
  },
  {
   "cell_type": "code",
   "execution_count": 89,
   "metadata": {},
   "outputs": [],
   "source": [
    "import pandas as pd\n",
    "import matplotlib.pyplot as plt\n",
    "\n",
    "from imblearn.over_sampling import SMOTE\n",
    "\n",
    "# for reproducibility purposes\n",
    "seed = 100\n",
    "# SMOTE number of neighbors\n",
    "k = 1\n",
    "\n",
    "# make a new df made of all the columns, except the target class\n",
    "X = all_data_bal.loc[:, all_data.columns != 'Rating']\n",
    "y = all_data_bal.Rating\n",
    "sm = SMOTE(sampling_strategy='auto', k_neighbors=k, random_state=seed)\n",
    "X_res, y_res = sm.fit_resample(X, y)"
   ]
  },
  {
   "cell_type": "code",
   "execution_count": 90,
   "metadata": {},
   "outputs": [],
   "source": [
    "all_data_under = X_res\n",
    "all_data_under['Rating'] = y_res"
   ]
  },
  {
   "cell_type": "code",
   "execution_count": 91,
   "metadata": {},
   "outputs": [],
   "source": [
    "#all_data_bal"
   ]
  },
  {
   "cell_type": "code",
   "execution_count": 92,
   "metadata": {},
   "outputs": [],
   "source": [
    "final_y_train = all_data_under['Rating'][~all_data_under['Rating'].isnull()]\n",
    "final_X_train = all_data_under[all_data_under['Dataset_Train'] == 1].drop(['Dataset_Train', 'Dataset_Test', 'Rating'], axis=1)\n",
    "\n",
    "\n",
    "final_X_test = all_data[all_data['Dataset_Test'] == 1].drop(['Dataset_Train', 'Dataset_Test', 'Rating'], axis=1)"
   ]
  },
  {
   "cell_type": "markdown",
   "metadata": {},
   "source": [
    "# XGBoost"
   ]
  },
  {
   "cell_type": "code",
   "execution_count": 93,
   "metadata": {},
   "outputs": [],
   "source": [
    "xg_X_train, xg_X_test, xg_y_train, xg_y_test = train_test_split(final_X_train, final_y_train, test_size=0.33, random_state=1234)"
   ]
  },
  {
   "cell_type": "markdown",
   "metadata": {},
   "source": [
    "xg_model = XGBClassifier(n_estimators=100, seed = 1234)\n",
    "param_dict = {'max_depth': [2, 3,4],\n",
    "              'min_child_weight': [4, 5, 6],\n",
    "              'learning_rate': [0.1,0.15, 0.2],\n",
    "              'gamma': [0.0, 0.01, 0.05],\n",
    "              'colsample_bytree':[0.5, 0.7, 1]\n",
    "}\n",
    "\n",
    "start = time()\n",
    "grid_search = GridSearchCV(xg_model, param_dict)\n",
    "grid_search.fit(xg_X_train, xg_y_train)\n",
    "print(\"GridSearch took %.2f seconds to complete.\" % (time()-start))\n",
    "display(grid_search.best_params_)"
   ]
  },
  {
   "cell_type": "code",
   "execution_count": 94,
   "metadata": {},
   "outputs": [],
   "source": [
    "xg_model = XGBClassifier(n_estimators = 1000,\n",
    "                        learning_rate = 0.1,\n",
    "                        max_delta_step = 1,\n",
    "                        max_depth = 4,\n",
    "                        min_child_weight = 3,\n",
    "                        gamma = 0.02,\n",
    "                        subsample = 0.9, \n",
    "                        colsample_bytree = 0.9, \n",
    "                        seed = 1234,\n",
    "                        objective= 'binary:logistic',\n",
    "                        eval_metric = 'auc')"
   ]
  },
  {
   "cell_type": "code",
   "execution_count": 95,
   "metadata": {},
   "outputs": [
    {
     "name": "stdout",
     "output_type": "stream",
     "text": [
      "Model took 2.96 seconds to complete.\n",
      "0.8333333333333334\n"
     ]
    }
   ],
   "source": [
    "from sklearn.metrics import accuracy_score\n",
    "start = time()\n",
    "xg_model.fit(xg_X_train, xg_y_train)\n",
    "xg_preds = xg_model.predict(xg_X_test)\n",
    "print(\"Model took %.2f seconds to complete.\" % (time()-start))\n",
    "print(accuracy_score(xg_y_test, xg_preds))"
   ]
  },
  {
   "cell_type": "code",
   "execution_count": 96,
   "metadata": {},
   "outputs": [],
   "source": [
    "e = xg_model.predict_proba(xg_X_test)\n",
    "\n",
    "prob_xg = pd.DataFrame(e, columns=['prob_1', 'prob_0']) "
   ]
  },
  {
   "cell_type": "code",
   "execution_count": 97,
   "metadata": {},
   "outputs": [
    {
     "data": {
      "text/plain": [
       "0.8329229686950403"
      ]
     },
     "execution_count": 97,
     "metadata": {},
     "output_type": "execute_result"
    }
   ],
   "source": [
    "from sklearn.metrics import f1_score\n",
    "\n",
    "f1_score(xg_y_test, xg_preds)"
   ]
  },
  {
   "cell_type": "code",
   "execution_count": 98,
   "metadata": {},
   "outputs": [
    {
     "name": "stdout",
     "output_type": "stream",
     "text": [
      "Confusion matrix:\n",
      " [[1191  258]\n",
      " [ 217 1184]]\n"
     ]
    },
    {
     "data": {
      "image/png": "[encoded data removed]",
      "text/plain": [
       "<Figure size 432x288 with 2 Axes>"
      ]
     },
     "metadata": {
      "needs_background": "light"
     },
     "output_type": "display_data"
    }
   ],
   "source": [
    "from sklearn.metrics import confusion_matrix\n",
    "from matplotlib import pyplot as plt\n",
    "\n",
    "conf_mat = confusion_matrix(y_true=xg_y_test, y_pred=xg_preds)\n",
    "print('Confusion matrix:\\n', conf_mat)\n",
    "\n",
    "labels = ['Class 0', 'Class 1']\n",
    "fig = plt.figure()\n",
    "ax = fig.add_subplot(111)\n",
    "cax = ax.matshow(conf_mat, cmap=plt.cm.Blues)\n",
    "fig.colorbar(cax)\n",
    "ax.set_xticklabels([''] + labels)\n",
    "ax.set_yticklabels([''] + labels)\n",
    "plt.xlabel('Predicted')\n",
    "plt.ylabel('Expected')\n",
    "plt.show()"
   ]
  },
  {
   "cell_type": "code",
   "execution_count": 99,
   "metadata": {},
   "outputs": [
    {
     "name": "stdout",
     "output_type": "stream",
     "text": [
      "AUC: 0.834\n"
     ]
    },
    {
     "data": {
      "image/png": "[encoded data removed]",
      "text/plain": [
       "<Figure size 432x288 with 1 Axes>"
      ]
     },
     "metadata": {
      "needs_background": "light"
     },
     "output_type": "display_data"
    }
   ],
   "source": [
    "from sklearn.metrics import roc_curve\n",
    "from sklearn.metrics import roc_auc_score\n",
    "from matplotlib import pyplot\n",
    "\n",
    "auc = roc_auc_score(xg_y_test, xg_preds)\n",
    "print('AUC: %.3f' % auc)\n",
    "# calculate roc curve\n",
    "fpr, tpr, thresholds = roc_curve(xg_y_test, xg_preds)\n",
    "# plot no skill\n",
    "pyplot.plot([0, 1], [0, 1], linestyle='--')\n",
    "# plot the roc curve for the model\n",
    "pyplot.plot(fpr, tpr, marker='.')\n",
    "# show the plot\n",
    "pyplot.show()"
   ]
  },
  {
   "cell_type": "code",
   "execution_count": 100,
   "metadata": {},
   "outputs": [],
   "source": [
    "for x in range(len(final_X_train.columns)):\n",
    "  xg_model.get_booster().feature_names[x] = final_X_train.columns[x]"
   ]
  },
  {
   "cell_type": "code",
   "execution_count": 101,
   "metadata": {},
   "outputs": [
    {
     "data": {
      "text/plain": [
       "<matplotlib.axes._subplots.AxesSubplot at 0x1c38b27dee0>"
      ]
     },
     "execution_count": 101,
     "metadata": {},
     "output_type": "execute_result"
    },
    {
     "data": {
      "image/png": "[encoded data removed]",
      "text/plain": [
       "<Figure size 1080x1080 with 1 Axes>"
      ]
     },
     "metadata": {
      "needs_background": "light"
     },
     "output_type": "display_data"
    }
   ],
   "source": [
    "from xgboost import plot_importance\n",
    "\n",
    "feature_important = xg_model.get_booster().get_score(importance_type='gain')\n",
    "keys = list(feature_important.keys())\n",
    "values = list(feature_important.values())\n",
    "\n",
    "data = pd.DataFrame(data=values, index=keys, columns=[\"score\"]).sort_values(by = \"score\", ascending=False)\n",
    "data = data.head(10)\n",
    "\n",
    "f, ax = plt.subplots(figsize =(15, 15)) \n",
    "data.plot(kind='barh', ax = ax)"
   ]
  },
  {
   "cell_type": "markdown",
   "metadata": {},
   "source": [
    "# Random Forest"
   ]
  },
  {
   "cell_type": "code",
   "execution_count": 102,
   "metadata": {},
   "outputs": [],
   "source": [
    "from sklearn.ensemble import RandomForestClassifier\n",
    "rclf = RandomForestClassifier()"
   ]
  },
  {
   "cell_type": "code",
   "execution_count": 103,
   "metadata": {},
   "outputs": [
    {
     "data": {
      "text/plain": [
       "Installs                           20.723266\n",
       "Price                               5.996427\n",
       "Size                               18.420681\n",
       "Ver Min                             8.000000\n",
       "Ver Max                             1.900000\n",
       "Rating_cat                          0.891509\n",
       "Rating_Gen                        338.000000\n",
       "Last Updated_days                   2.335644\n",
       "Current_Ver                         2.833213\n",
       "Rev_install                         1.791759\n",
       "Recaudo                            51.075127\n",
       "Content Rating_Adults only 18+      1.000000\n",
       "Content Rating_Everyone             1.000000\n",
       "Content Rating_Everyone 10+         1.000000\n",
       "Content Rating_Mature 17+           1.000000\n",
       "Content Rating_Teen                 1.000000\n",
       "Content Rating_Unrated              1.000000\n",
       "dtype: float64"
      ]
     },
     "execution_count": 103,
     "metadata": {},
     "output_type": "execute_result"
    }
   ],
   "source": [
    "xg_X_train.max()"
   ]
  },
  {
   "cell_type": "code",
   "execution_count": 104,
   "metadata": {},
   "outputs": [
    {
     "data": {
      "text/plain": [
       "RandomForestClassifier()"
      ]
     },
     "execution_count": 104,
     "metadata": {},
     "output_type": "execute_result"
    }
   ],
   "source": [
    "rclf.fit(xg_X_train,xg_y_train)"
   ]
  },
  {
   "cell_type": "code",
   "execution_count": 105,
   "metadata": {},
   "outputs": [
    {
     "name": "stdout",
     "output_type": "stream",
     "text": [
      "0.8364912280701754\n"
     ]
    }
   ],
   "source": [
    "#best_random = rf_random.best_estimator_\n",
    "brf= rclf.predict(xg_X_test)\n",
    "\n",
    "print(accuracy_score(xg_y_test, brf))"
   ]
  },
  {
   "cell_type": "code",
   "execution_count": 106,
   "metadata": {},
   "outputs": [
    {
     "name": "stdout",
     "output_type": "stream",
     "text": [
      "2850\n",
      "0.8364912280701754\n"
     ]
    }
   ],
   "source": [
    "from sklearn.metrics import accuracy_score,recall_score,confusion_matrix\n",
    "rf_y_pred = brf\n",
    "print(len(xg_y_test))\n",
    "print(accuracy_score(xg_y_test,rf_y_pred))\n",
    "#print(recall_score(xg_y_test,y_pred))\n",
    "#print(confusion_matrix(xg_y_test,y_pred))"
   ]
  },
  {
   "cell_type": "code",
   "execution_count": 107,
   "metadata": {},
   "outputs": [
    {
     "name": "stdout",
     "output_type": "stream",
     "text": [
      "AUC: 0.836\n"
     ]
    },
    {
     "data": {
      "image/png": "[encoded data removed]",
      "text/plain": [
       "<Figure size 432x288 with 1 Axes>"
      ]
     },
     "metadata": {
      "needs_background": "light"
     },
     "output_type": "display_data"
    }
   ],
   "source": [
    "auc = roc_auc_score(xg_y_test, rf_y_pred)\n",
    "print('AUC: %.3f' % auc)\n",
    "# calculate roc curve\n",
    "fpr, tpr, thresholds = roc_curve(xg_y_test, rf_y_pred)\n",
    "# plot no skill\n",
    "pyplot.plot([0, 1], [0, 1], linestyle='--')\n",
    "# plot the roc curve for the model\n",
    "pyplot.plot(fpr, tpr, marker='.')\n",
    "# show the plot\n",
    "pyplot.show()"
   ]
  },
  {
   "cell_type": "code",
   "execution_count": 108,
   "metadata": {},
   "outputs": [
    {
     "data": {
      "text/plain": [
       "0.8314037626628076"
      ]
     },
     "execution_count": 108,
     "metadata": {},
     "output_type": "execute_result"
    }
   ],
   "source": [
    "from sklearn.metrics import f1_score\n",
    "\n",
    "f1_score(xg_y_test, rf_y_pred)"
   ]
  },
  {
   "cell_type": "markdown",
   "metadata": {},
   "source": [
    "# LGBM"
   ]
  },
  {
   "cell_type": "code",
   "execution_count": 109,
   "metadata": {},
   "outputs": [],
   "source": [
    "import lightgbm as lgb"
   ]
  },
  {
   "cell_type": "code",
   "execution_count": 110,
   "metadata": {},
   "outputs": [],
   "source": [
    "train_data = lgb.Dataset(xg_X_train, label=xg_y_train)\n",
    "test_data = lgb.Dataset(xg_X_test, label=xg_y_test)"
   ]
  },
  {
   "cell_type": "code",
   "execution_count": 111,
   "metadata": {},
   "outputs": [],
   "source": [
    "parameters = {\n",
    "    'application': 'binary',\n",
    "    'objective': 'binary',\n",
    "    'metric': 'auc',\n",
    "    'is_unbalance': 'true',\n",
    "    'boosting': 'gbdt',\n",
    "    'num_leaves': 55,\n",
    "    'feature_fraction': 0.9,\n",
    "    'bagging_fraction': 0.9,\n",
    "    'bagging_freq': 20,\n",
    "    'learning_rate': 0.011,\n",
    "    'verbose': 0\n",
    "}"
   ]
  },
  {
   "cell_type": "code",
   "execution_count": 112,
   "metadata": {},
   "outputs": [
    {
     "name": "stdout",
     "output_type": "stream",
     "text": [
      "[LightGBM] [Warning] objective is set=binary, application=binary will be ignored. Current value: objective=binary\n",
      "[LightGBM] [Warning] Find whitespaces in feature_names, replace with underlines\n",
      "[LightGBM] [Warning] objective is set=binary, application=binary will be ignored. Current value: objective=binary\n",
      "[LightGBM] [Warning] Auto-choosing col-wise multi-threading, the overhead of testing was 0.001201 seconds.\n",
      "You can set `force_col_wise=true` to remove the overhead.\n",
      "[LightGBM] [Warning] objective is set=binary, application=binary will be ignored. Current value: objective=binary\n",
      "[LightGBM] [Warning] Find whitespaces in feature_names, replace with underlines\n",
      "[1]\tvalid_0's auc: 0.79414\n",
      "Training until validation scores don't improve for 100 rounds\n",
      "[2]\tvalid_0's auc: 0.834266\n",
      "[3]\tvalid_0's auc: 0.84101\n",
      "[4]\tvalid_0's auc: 0.839479\n",
      "[5]\tvalid_0's auc: 0.840239\n",
      "[6]\tvalid_0's auc: 0.839032\n",
      "[7]\tvalid_0's auc: 0.842798\n",
      "[8]\tvalid_0's auc: 0.847162\n",
      "[9]\tvalid_0's auc: 0.846679\n",
      "[10]\tvalid_0's auc: 0.845453\n",
      "[11]\tvalid_0's auc: 0.846414\n",
      "[12]\tvalid_0's auc: 0.846785\n",
      "[13]\tvalid_0's auc: 0.84573\n",
      "[14]\tvalid_0's auc: 0.846025\n",
      "[15]\tvalid_0's auc: 0.845455\n",
      "[16]\tvalid_0's auc: 0.845757\n",
      "[17]\tvalid_0's auc: 0.844548\n",
      "[18]\tvalid_0's auc: 0.844644\n",
      "[19]\tvalid_0's auc: 0.844469\n",
      "[20]\tvalid_0's auc: 0.844536\n",
      "[21]\tvalid_0's auc: 0.845471\n",
      "[22]\tvalid_0's auc: 0.84693\n",
      "[23]\tvalid_0's auc: 0.847889\n",
      "[24]\tvalid_0's auc: 0.848151\n",
      "[25]\tvalid_0's auc: 0.848341\n",
      "[26]\tvalid_0's auc: 0.848674\n",
      "[27]\tvalid_0's auc: 0.848673\n",
      "[28]\tvalid_0's auc: 0.84893\n",
      "[29]\tvalid_0's auc: 0.848782\n",
      "[30]\tvalid_0's auc: 0.849216\n",
      "[31]\tvalid_0's auc: 0.8493\n",
      "[32]\tvalid_0's auc: 0.849187\n",
      "[33]\tvalid_0's auc: 0.849459\n",
      "[34]\tvalid_0's auc: 0.849841\n",
      "[35]\tvalid_0's auc: 0.849646\n",
      "[36]\tvalid_0's auc: 0.849309\n",
      "[37]\tvalid_0's auc: 0.849372\n",
      "[38]\tvalid_0's auc: 0.849369\n",
      "[39]\tvalid_0's auc: 0.849562\n",
      "[40]\tvalid_0's auc: 0.849433\n",
      "[41]\tvalid_0's auc: 0.850252\n",
      "[42]\tvalid_0's auc: 0.850798\n",
      "[43]\tvalid_0's auc: 0.851013\n",
      "[44]\tvalid_0's auc: 0.8512\n",
      "[45]\tvalid_0's auc: 0.851285\n",
      "[46]\tvalid_0's auc: 0.851584\n",
      "[47]\tvalid_0's auc: 0.851534\n",
      "[48]\tvalid_0's auc: 0.852512\n",
      "[49]\tvalid_0's auc: 0.85297\n",
      "[50]\tvalid_0's auc: 0.853627\n",
      "[51]\tvalid_0's auc: 0.854271\n",
      "[52]\tvalid_0's auc: 0.854531\n",
      "[53]\tvalid_0's auc: 0.855023\n",
      "[54]\tvalid_0's auc: 0.855469\n",
      "[55]\tvalid_0's auc: 0.855949\n",
      "[56]\tvalid_0's auc: 0.856353\n",
      "[57]\tvalid_0's auc: 0.856841\n",
      "[58]\tvalid_0's auc: 0.857285\n",
      "[59]\tvalid_0's auc: 0.857691\n",
      "[60]\tvalid_0's auc: 0.858527\n",
      "[61]\tvalid_0's auc: 0.858699\n",
      "[62]\tvalid_0's auc: 0.858954\n",
      "[63]\tvalid_0's auc: 0.858967\n",
      "[64]\tvalid_0's auc: 0.859994\n",
      "[65]\tvalid_0's auc: 0.860145\n",
      "[66]\tvalid_0's auc: 0.860339\n",
      "[67]\tvalid_0's auc: 0.860316\n",
      "[68]\tvalid_0's auc: 0.860329\n",
      "[69]\tvalid_0's auc: 0.860238\n",
      "[70]\tvalid_0's auc: 0.860199\n",
      "[71]\tvalid_0's auc: 0.860428\n",
      "[72]\tvalid_0's auc: 0.860462\n",
      "[73]\tvalid_0's auc: 0.860559\n",
      "[74]\tvalid_0's auc: 0.861074\n",
      "[75]\tvalid_0's auc: 0.861475\n",
      "[76]\tvalid_0's auc: 0.862466\n",
      "[77]\tvalid_0's auc: 0.862843\n",
      "[78]\tvalid_0's auc: 0.862901\n",
      "[79]\tvalid_0's auc: 0.862954\n",
      "[80]\tvalid_0's auc: 0.863058\n",
      "[81]\tvalid_0's auc: 0.863442\n",
      "[82]\tvalid_0's auc: 0.864225\n",
      "[83]\tvalid_0's auc: 0.864546\n",
      "[84]\tvalid_0's auc: 0.864806\n",
      "[85]\tvalid_0's auc: 0.864984\n",
      "[86]\tvalid_0's auc: 0.865283\n",
      "[87]\tvalid_0's auc: 0.865946\n",
      "[88]\tvalid_0's auc: 0.866139\n",
      "[89]\tvalid_0's auc: 0.86638\n",
      "[90]\tvalid_0's auc: 0.866761\n",
      "[91]\tvalid_0's auc: 0.86705\n",
      "[92]\tvalid_0's auc: 0.867335\n",
      "[93]\tvalid_0's auc: 0.867747\n",
      "[94]\tvalid_0's auc: 0.867884\n",
      "[95]\tvalid_0's auc: 0.868043\n",
      "[96]\tvalid_0's auc: 0.86827\n",
      "[97]\tvalid_0's auc: 0.868395\n",
      "[98]\tvalid_0's auc: 0.868783\n",
      "[99]\tvalid_0's auc: 0.868955\n",
      "[100]\tvalid_0's auc: 0.869009\n",
      "[101]\tvalid_0's auc: 0.869311\n",
      "[102]\tvalid_0's auc: 0.869608\n",
      "[103]\tvalid_0's auc: 0.869884\n",
      "[104]\tvalid_0's auc: 0.870142\n",
      "[105]\tvalid_0's auc: 0.870276\n",
      "[106]\tvalid_0's auc: 0.870507\n",
      "[107]\tvalid_0's auc: 0.870676\n",
      "[108]\tvalid_0's auc: 0.870758\n",
      "[109]\tvalid_0's auc: 0.871171\n",
      "[110]\tvalid_0's auc: 0.871396\n",
      "[111]\tvalid_0's auc: 0.871523\n",
      "[112]\tvalid_0's auc: 0.871715\n",
      "[113]\tvalid_0's auc: 0.87161\n",
      "[114]\tvalid_0's auc: 0.871824\n",
      "[115]\tvalid_0's auc: 0.871771\n",
      "[116]\tvalid_0's auc: 0.871852\n",
      "[117]\tvalid_0's auc: 0.871999\n",
      "[118]\tvalid_0's auc: 0.872313\n",
      "[119]\tvalid_0's auc: 0.872638\n",
      "[120]\tvalid_0's auc: 0.872956\n",
      "[121]\tvalid_0's auc: 0.873321\n",
      "[122]\tvalid_0's auc: 0.873581\n",
      "[123]\tvalid_0's auc: 0.874002\n",
      "[124]\tvalid_0's auc: 0.874291\n",
      "[125]\tvalid_0's auc: 0.874557\n",
      "[126]\tvalid_0's auc: 0.874915\n",
      "[127]\tvalid_0's auc: 0.875071\n",
      "[128]\tvalid_0's auc: 0.8753\n",
      "[129]\tvalid_0's auc: 0.87552\n",
      "[130]\tvalid_0's auc: 0.875789\n",
      "[131]\tvalid_0's auc: 0.875976\n",
      "[132]\tvalid_0's auc: 0.876125\n",
      "[133]\tvalid_0's auc: 0.876654\n",
      "[134]\tvalid_0's auc: 0.876843\n",
      "[135]\tvalid_0's auc: 0.877213\n",
      "[136]\tvalid_0's auc: 0.877496\n",
      "[137]\tvalid_0's auc: 0.8775\n",
      "[138]\tvalid_0's auc: 0.877704\n",
      "[139]\tvalid_0's auc: 0.87791\n",
      "[140]\tvalid_0's auc: 0.878019\n",
      "[141]\tvalid_0's auc: 0.878191\n",
      "[142]\tvalid_0's auc: 0.878356\n",
      "[143]\tvalid_0's auc: 0.878434\n",
      "[144]\tvalid_0's auc: 0.878755\n",
      "[145]\tvalid_0's auc: 0.878866\n",
      "[146]\tvalid_0's auc: 0.87933\n",
      "[147]\tvalid_0's auc: 0.879509\n",
      "[148]\tvalid_0's auc: 0.87995\n",
      "[149]\tvalid_0's auc: 0.880314\n",
      "[150]\tvalid_0's auc: 0.880511\n",
      "[151]\tvalid_0's auc: 0.880793\n",
      "[152]\tvalid_0's auc: 0.881041\n",
      "[153]\tvalid_0's auc: 0.881181\n",
      "[154]\tvalid_0's auc: 0.881535\n",
      "[155]\tvalid_0's auc: 0.881678\n",
      "[156]\tvalid_0's auc: 0.881724\n",
      "[157]\tvalid_0's auc: 0.881893\n",
      "[158]\tvalid_0's auc: 0.88221\n",
      "[159]\tvalid_0's auc: 0.882402\n",
      "[160]\tvalid_0's auc: 0.882514\n",
      "[161]\tvalid_0's auc: 0.883126\n",
      "[162]\tvalid_0's auc: 0.883383\n",
      "[163]\tvalid_0's auc: 0.883919\n",
      "[164]\tvalid_0's auc: 0.88416\n",
      "[165]\tvalid_0's auc: 0.884319\n",
      "[166]\tvalid_0's auc: 0.88491\n",
      "[167]\tvalid_0's auc: 0.885121\n",
      "[168]\tvalid_0's auc: 0.885306\n",
      "[169]\tvalid_0's auc: 0.885495\n",
      "[170]\tvalid_0's auc: 0.886042\n",
      "[171]\tvalid_0's auc: 0.886177\n",
      "[172]\tvalid_0's auc: 0.886182\n",
      "[173]\tvalid_0's auc: 0.886339\n",
      "[174]\tvalid_0's auc: 0.886897\n",
      "[175]\tvalid_0's auc: 0.887286\n",
      "[176]\tvalid_0's auc: 0.887763\n",
      "[177]\tvalid_0's auc: 0.887986\n",
      "[178]\tvalid_0's auc: 0.888389\n",
      "[179]\tvalid_0's auc: 0.888692\n",
      "[180]\tvalid_0's auc: 0.889076\n",
      "[181]\tvalid_0's auc: 0.889117\n",
      "[182]\tvalid_0's auc: 0.889216\n",
      "[183]\tvalid_0's auc: 0.889285\n",
      "[184]\tvalid_0's auc: 0.889352\n",
      "[185]\tvalid_0's auc: 0.88941\n",
      "[186]\tvalid_0's auc: 0.889498\n",
      "[187]\tvalid_0's auc: 0.889719\n",
      "[188]\tvalid_0's auc: 0.88978\n",
      "[189]\tvalid_0's auc: 0.889864\n",
      "[190]\tvalid_0's auc: 0.889916\n",
      "[191]\tvalid_0's auc: 0.889986\n",
      "[192]\tvalid_0's auc: 0.890111\n",
      "[193]\tvalid_0's auc: 0.89017\n",
      "[194]\tvalid_0's auc: 0.890525\n",
      "[195]\tvalid_0's auc: 0.890653\n",
      "[196]\tvalid_0's auc: 0.890971\n",
      "[197]\tvalid_0's auc: 0.891413\n",
      "[198]\tvalid_0's auc: 0.891533\n",
      "[199]\tvalid_0's auc: 0.891743\n",
      "[200]\tvalid_0's auc: 0.891898\n",
      "[201]\tvalid_0's auc: 0.892017\n",
      "[202]\tvalid_0's auc: 0.892148\n",
      "[203]\tvalid_0's auc: 0.892289\n",
      "[204]\tvalid_0's auc: 0.892747\n",
      "[205]\tvalid_0's auc: 0.893037\n",
      "[206]\tvalid_0's auc: 0.89338\n",
      "[207]\tvalid_0's auc: 0.893665\n",
      "[208]\tvalid_0's auc: 0.894007\n",
      "[209]\tvalid_0's auc: 0.894177\n",
      "[210]\tvalid_0's auc: 0.894535\n",
      "[211]\tvalid_0's auc: 0.894738\n",
      "[212]\tvalid_0's auc: 0.895056\n",
      "[213]\tvalid_0's auc: 0.895379\n",
      "[214]\tvalid_0's auc: 0.895604\n",
      "[215]\tvalid_0's auc: 0.895989\n",
      "[216]\tvalid_0's auc: 0.896326\n",
      "[217]\tvalid_0's auc: 0.896414\n",
      "[218]\tvalid_0's auc: 0.896589\n",
      "[219]\tvalid_0's auc: 0.89681\n",
      "[220]\tvalid_0's auc: 0.897164\n",
      "[221]\tvalid_0's auc: 0.89744\n",
      "[222]\tvalid_0's auc: 0.897803\n",
      "[223]\tvalid_0's auc: 0.898101\n",
      "[224]\tvalid_0's auc: 0.898332\n",
      "[225]\tvalid_0's auc: 0.898672\n",
      "[226]\tvalid_0's auc: 0.898911\n",
      "[227]\tvalid_0's auc: 0.89909\n",
      "[228]\tvalid_0's auc: 0.89932\n",
      "[229]\tvalid_0's auc: 0.899541\n",
      "[230]\tvalid_0's auc: 0.899802\n",
      "[231]\tvalid_0's auc: 0.900072\n",
      "[232]\tvalid_0's auc: 0.900329\n",
      "[233]\tvalid_0's auc: 0.900443\n",
      "[234]\tvalid_0's auc: 0.900612\n",
      "[235]\tvalid_0's auc: 0.900686\n",
      "[236]\tvalid_0's auc: 0.900878\n",
      "[237]\tvalid_0's auc: 0.900961\n",
      "[238]\tvalid_0's auc: 0.901028\n",
      "[239]\tvalid_0's auc: 0.901213\n",
      "[240]\tvalid_0's auc: 0.901471\n",
      "[241]\tvalid_0's auc: 0.901691\n",
      "[242]\tvalid_0's auc: 0.901951\n",
      "[243]\tvalid_0's auc: 0.902219\n",
      "[244]\tvalid_0's auc: 0.902495\n",
      "[245]\tvalid_0's auc: 0.902663\n",
      "[246]\tvalid_0's auc: 0.902908\n",
      "[247]\tvalid_0's auc: 0.903034\n",
      "[248]\tvalid_0's auc: 0.903233\n",
      "[249]\tvalid_0's auc: 0.903373\n",
      "[250]\tvalid_0's auc: 0.903554\n",
      "[251]\tvalid_0's auc: 0.90376\n",
      "[252]\tvalid_0's auc: 0.903935\n",
      "[253]\tvalid_0's auc: 0.90406\n",
      "[254]\tvalid_0's auc: 0.904202\n",
      "[255]\tvalid_0's auc: 0.904373\n",
      "[256]\tvalid_0's auc: 0.90442\n",
      "[257]\tvalid_0's auc: 0.904565\n",
      "[258]\tvalid_0's auc: 0.904716\n",
      "[259]\tvalid_0's auc: 0.904776\n",
      "[260]\tvalid_0's auc: 0.904925\n",
      "[261]\tvalid_0's auc: 0.905093\n",
      "[262]\tvalid_0's auc: 0.905301\n",
      "[263]\tvalid_0's auc: 0.905435\n"
     ]
    },
    {
     "name": "stdout",
     "output_type": "stream",
     "text": [
      "[264]\tvalid_0's auc: 0.905539\n",
      "[265]\tvalid_0's auc: 0.90567\n",
      "[266]\tvalid_0's auc: 0.905798\n",
      "[267]\tvalid_0's auc: 0.905919\n",
      "[268]\tvalid_0's auc: 0.906062\n",
      "[269]\tvalid_0's auc: 0.906172\n",
      "[270]\tvalid_0's auc: 0.906297\n",
      "[271]\tvalid_0's auc: 0.906471\n",
      "[272]\tvalid_0's auc: 0.906552\n",
      "[273]\tvalid_0's auc: 0.906594\n",
      "[274]\tvalid_0's auc: 0.906634\n",
      "[275]\tvalid_0's auc: 0.90681\n",
      "[276]\tvalid_0's auc: 0.906893\n",
      "[277]\tvalid_0's auc: 0.907078\n",
      "[278]\tvalid_0's auc: 0.90715\n",
      "[279]\tvalid_0's auc: 0.907237\n",
      "[280]\tvalid_0's auc: 0.907311\n",
      "[281]\tvalid_0's auc: 0.907271\n",
      "[282]\tvalid_0's auc: 0.907293\n",
      "[283]\tvalid_0's auc: 0.907363\n",
      "[284]\tvalid_0's auc: 0.907396\n",
      "[285]\tvalid_0's auc: 0.907558\n",
      "[286]\tvalid_0's auc: 0.907574\n",
      "[287]\tvalid_0's auc: 0.907748\n",
      "[288]\tvalid_0's auc: 0.907917\n",
      "[289]\tvalid_0's auc: 0.908032\n",
      "[290]\tvalid_0's auc: 0.908191\n",
      "[291]\tvalid_0's auc: 0.908316\n",
      "[292]\tvalid_0's auc: 0.908285\n",
      "[293]\tvalid_0's auc: 0.908378\n",
      "[294]\tvalid_0's auc: 0.908478\n",
      "[295]\tvalid_0's auc: 0.908593\n",
      "[296]\tvalid_0's auc: 0.908778\n",
      "[297]\tvalid_0's auc: 0.90889\n",
      "[298]\tvalid_0's auc: 0.908972\n",
      "[299]\tvalid_0's auc: 0.909053\n",
      "[300]\tvalid_0's auc: 0.909111\n",
      "[301]\tvalid_0's auc: 0.909145\n",
      "[302]\tvalid_0's auc: 0.909242\n",
      "[303]\tvalid_0's auc: 0.909318\n",
      "[304]\tvalid_0's auc: 0.90936\n",
      "[305]\tvalid_0's auc: 0.909418\n",
      "[306]\tvalid_0's auc: 0.909442\n",
      "[307]\tvalid_0's auc: 0.909521\n",
      "[308]\tvalid_0's auc: 0.909619\n",
      "[309]\tvalid_0's auc: 0.909668\n",
      "[310]\tvalid_0's auc: 0.909748\n",
      "[311]\tvalid_0's auc: 0.90981\n",
      "[312]\tvalid_0's auc: 0.909819\n",
      "[313]\tvalid_0's auc: 0.909938\n",
      "[314]\tvalid_0's auc: 0.910007\n",
      "[315]\tvalid_0's auc: 0.910072\n",
      "[316]\tvalid_0's auc: 0.910117\n",
      "[317]\tvalid_0's auc: 0.910177\n",
      "[318]\tvalid_0's auc: 0.910218\n",
      "[319]\tvalid_0's auc: 0.910261\n",
      "[320]\tvalid_0's auc: 0.910314\n",
      "[321]\tvalid_0's auc: 0.91042\n",
      "[322]\tvalid_0's auc: 0.910436\n",
      "[323]\tvalid_0's auc: 0.910584\n",
      "[324]\tvalid_0's auc: 0.910725\n",
      "[325]\tvalid_0's auc: 0.910757\n",
      "[326]\tvalid_0's auc: 0.910842\n",
      "[327]\tvalid_0's auc: 0.910903\n",
      "[328]\tvalid_0's auc: 0.911011\n",
      "[329]\tvalid_0's auc: 0.911092\n",
      "[330]\tvalid_0's auc: 0.911184\n",
      "[331]\tvalid_0's auc: 0.911245\n",
      "[332]\tvalid_0's auc: 0.911332\n",
      "[333]\tvalid_0's auc: 0.911391\n",
      "[334]\tvalid_0's auc: 0.911439\n",
      "[335]\tvalid_0's auc: 0.911447\n",
      "[336]\tvalid_0's auc: 0.911457\n",
      "[337]\tvalid_0's auc: 0.911458\n",
      "[338]\tvalid_0's auc: 0.911484\n",
      "[339]\tvalid_0's auc: 0.911495\n",
      "[340]\tvalid_0's auc: 0.91153\n",
      "[341]\tvalid_0's auc: 0.911601\n",
      "[342]\tvalid_0's auc: 0.911675\n",
      "[343]\tvalid_0's auc: 0.911796\n",
      "[344]\tvalid_0's auc: 0.911862\n",
      "[345]\tvalid_0's auc: 0.911925\n",
      "[346]\tvalid_0's auc: 0.911969\n",
      "[347]\tvalid_0's auc: 0.912008\n",
      "[348]\tvalid_0's auc: 0.912094\n",
      "[349]\tvalid_0's auc: 0.912121\n",
      "[350]\tvalid_0's auc: 0.912228\n",
      "[351]\tvalid_0's auc: 0.91227\n",
      "[352]\tvalid_0's auc: 0.912344\n",
      "[353]\tvalid_0's auc: 0.912405\n",
      "[354]\tvalid_0's auc: 0.912501\n",
      "[355]\tvalid_0's auc: 0.912591\n",
      "[356]\tvalid_0's auc: 0.912658\n",
      "[357]\tvalid_0's auc: 0.912689\n",
      "[358]\tvalid_0's auc: 0.912788\n",
      "[359]\tvalid_0's auc: 0.912822\n",
      "[360]\tvalid_0's auc: 0.912855\n",
      "[361]\tvalid_0's auc: 0.912913\n",
      "[362]\tvalid_0's auc: 0.912961\n",
      "[363]\tvalid_0's auc: 0.913001\n",
      "[364]\tvalid_0's auc: 0.913042\n",
      "[365]\tvalid_0's auc: 0.91307\n",
      "[366]\tvalid_0's auc: 0.913121\n",
      "[367]\tvalid_0's auc: 0.913185\n",
      "[368]\tvalid_0's auc: 0.913242\n",
      "[369]\tvalid_0's auc: 0.913257\n",
      "[370]\tvalid_0's auc: 0.913299\n",
      "[371]\tvalid_0's auc: 0.913373\n",
      "[372]\tvalid_0's auc: 0.9134\n",
      "[373]\tvalid_0's auc: 0.913481\n",
      "[374]\tvalid_0's auc: 0.913539\n",
      "[375]\tvalid_0's auc: 0.913526\n",
      "[376]\tvalid_0's auc: 0.913595\n",
      "[377]\tvalid_0's auc: 0.913626\n",
      "[378]\tvalid_0's auc: 0.913759\n",
      "[379]\tvalid_0's auc: 0.913766\n",
      "[380]\tvalid_0's auc: 0.91381\n",
      "[381]\tvalid_0's auc: 0.913901\n",
      "[382]\tvalid_0's auc: 0.914014\n",
      "[383]\tvalid_0's auc: 0.9141\n",
      "[384]\tvalid_0's auc: 0.914189\n",
      "[385]\tvalid_0's auc: 0.914331\n",
      "[386]\tvalid_0's auc: 0.914405\n",
      "[387]\tvalid_0's auc: 0.914451\n",
      "[388]\tvalid_0's auc: 0.914526\n",
      "[389]\tvalid_0's auc: 0.914579\n",
      "[390]\tvalid_0's auc: 0.914655\n",
      "[391]\tvalid_0's auc: 0.91473\n",
      "[392]\tvalid_0's auc: 0.914752\n",
      "[393]\tvalid_0's auc: 0.914816\n",
      "[394]\tvalid_0's auc: 0.914881\n",
      "[395]\tvalid_0's auc: 0.914935\n",
      "[396]\tvalid_0's auc: 0.91501\n",
      "[397]\tvalid_0's auc: 0.915103\n",
      "[398]\tvalid_0's auc: 0.915162\n",
      "[399]\tvalid_0's auc: 0.915213\n",
      "[400]\tvalid_0's auc: 0.915296\n",
      "[401]\tvalid_0's auc: 0.915394\n",
      "[402]\tvalid_0's auc: 0.915526\n",
      "[403]\tvalid_0's auc: 0.915668\n",
      "[404]\tvalid_0's auc: 0.915797\n",
      "[405]\tvalid_0's auc: 0.915925\n",
      "[406]\tvalid_0's auc: 0.915987\n",
      "[407]\tvalid_0's auc: 0.916082\n",
      "[408]\tvalid_0's auc: 0.91611\n",
      "[409]\tvalid_0's auc: 0.916204\n",
      "[410]\tvalid_0's auc: 0.916229\n",
      "[411]\tvalid_0's auc: 0.916348\n",
      "[412]\tvalid_0's auc: 0.916454\n",
      "[413]\tvalid_0's auc: 0.916491\n",
      "[414]\tvalid_0's auc: 0.916571\n",
      "[415]\tvalid_0's auc: 0.916647\n",
      "[416]\tvalid_0's auc: 0.916693\n",
      "[417]\tvalid_0's auc: 0.916699\n",
      "[418]\tvalid_0's auc: 0.916742\n",
      "[419]\tvalid_0's auc: 0.916836\n",
      "[420]\tvalid_0's auc: 0.916878\n",
      "[421]\tvalid_0's auc: 0.916925\n",
      "[422]\tvalid_0's auc: 0.916951\n",
      "[423]\tvalid_0's auc: 0.916994\n",
      "[424]\tvalid_0's auc: 0.917044\n",
      "[425]\tvalid_0's auc: 0.917114\n",
      "[426]\tvalid_0's auc: 0.917104\n",
      "[427]\tvalid_0's auc: 0.917143\n",
      "[428]\tvalid_0's auc: 0.917221\n",
      "[429]\tvalid_0's auc: 0.917265\n",
      "[430]\tvalid_0's auc: 0.917329\n",
      "[431]\tvalid_0's auc: 0.917389\n",
      "[432]\tvalid_0's auc: 0.91745\n",
      "[433]\tvalid_0's auc: 0.917476\n",
      "[434]\tvalid_0's auc: 0.917522\n",
      "[435]\tvalid_0's auc: 0.917559\n",
      "[436]\tvalid_0's auc: 0.9176\n",
      "[437]\tvalid_0's auc: 0.917659\n",
      "[438]\tvalid_0's auc: 0.917717\n",
      "[439]\tvalid_0's auc: 0.917741\n",
      "[440]\tvalid_0's auc: 0.917773\n",
      "[441]\tvalid_0's auc: 0.917808\n",
      "[442]\tvalid_0's auc: 0.917867\n",
      "[443]\tvalid_0's auc: 0.917916\n",
      "[444]\tvalid_0's auc: 0.917953\n",
      "[445]\tvalid_0's auc: 0.918057\n",
      "[446]\tvalid_0's auc: 0.918103\n",
      "[447]\tvalid_0's auc: 0.918182\n",
      "[448]\tvalid_0's auc: 0.918224\n",
      "[449]\tvalid_0's auc: 0.918281\n",
      "[450]\tvalid_0's auc: 0.918379\n",
      "[451]\tvalid_0's auc: 0.918462\n",
      "[452]\tvalid_0's auc: 0.918517\n",
      "[453]\tvalid_0's auc: 0.918579\n",
      "[454]\tvalid_0's auc: 0.918581\n",
      "[455]\tvalid_0's auc: 0.918691\n",
      "[456]\tvalid_0's auc: 0.918766\n",
      "[457]\tvalid_0's auc: 0.918827\n",
      "[458]\tvalid_0's auc: 0.918888\n",
      "[459]\tvalid_0's auc: 0.918934\n",
      "[460]\tvalid_0's auc: 0.918995\n",
      "[461]\tvalid_0's auc: 0.918995\n",
      "[462]\tvalid_0's auc: 0.919051\n",
      "[463]\tvalid_0's auc: 0.919122\n",
      "[464]\tvalid_0's auc: 0.919208\n",
      "[465]\tvalid_0's auc: 0.919244\n",
      "[466]\tvalid_0's auc: 0.91925\n",
      "[467]\tvalid_0's auc: 0.919263\n",
      "[468]\tvalid_0's auc: 0.919317\n",
      "[469]\tvalid_0's auc: 0.919359\n",
      "[470]\tvalid_0's auc: 0.919394\n",
      "[471]\tvalid_0's auc: 0.919407\n",
      "[472]\tvalid_0's auc: 0.919451\n",
      "[473]\tvalid_0's auc: 0.919512\n",
      "[474]\tvalid_0's auc: 0.919551\n",
      "[475]\tvalid_0's auc: 0.919631\n",
      "[476]\tvalid_0's auc: 0.919631\n",
      "[477]\tvalid_0's auc: 0.919651\n",
      "[478]\tvalid_0's auc: 0.919622\n",
      "[479]\tvalid_0's auc: 0.919622\n",
      "[480]\tvalid_0's auc: 0.91969\n",
      "[481]\tvalid_0's auc: 0.919753\n",
      "[482]\tvalid_0's auc: 0.91984\n",
      "[483]\tvalid_0's auc: 0.919858\n",
      "[484]\tvalid_0's auc: 0.919914\n",
      "[485]\tvalid_0's auc: 0.919967\n",
      "[486]\tvalid_0's auc: 0.919983\n",
      "[487]\tvalid_0's auc: 0.920048\n",
      "[488]\tvalid_0's auc: 0.92008\n",
      "[489]\tvalid_0's auc: 0.920108\n",
      "[490]\tvalid_0's auc: 0.920166\n",
      "[491]\tvalid_0's auc: 0.920219\n",
      "[492]\tvalid_0's auc: 0.920241\n",
      "[493]\tvalid_0's auc: 0.920315\n",
      "[494]\tvalid_0's auc: 0.920333\n",
      "[495]\tvalid_0's auc: 0.920383\n",
      "[496]\tvalid_0's auc: 0.920419\n",
      "[497]\tvalid_0's auc: 0.92047\n",
      "[498]\tvalid_0's auc: 0.920556\n",
      "[499]\tvalid_0's auc: 0.920588\n",
      "[500]\tvalid_0's auc: 0.920646\n",
      "[501]\tvalid_0's auc: 0.920626\n",
      "[502]\tvalid_0's auc: 0.920642\n",
      "[503]\tvalid_0's auc: 0.920684\n",
      "[504]\tvalid_0's auc: 0.920695\n",
      "[505]\tvalid_0's auc: 0.920685\n",
      "[506]\tvalid_0's auc: 0.920696\n",
      "[507]\tvalid_0's auc: 0.92071\n",
      "[508]\tvalid_0's auc: 0.920717\n",
      "[509]\tvalid_0's auc: 0.92073\n",
      "[510]\tvalid_0's auc: 0.920744\n",
      "[511]\tvalid_0's auc: 0.920763\n",
      "[512]\tvalid_0's auc: 0.920755\n",
      "[513]\tvalid_0's auc: 0.920749\n",
      "[514]\tvalid_0's auc: 0.920769\n",
      "[515]\tvalid_0's auc: 0.920768\n",
      "[516]\tvalid_0's auc: 0.920767\n",
      "[517]\tvalid_0's auc: 0.920737\n",
      "[518]\tvalid_0's auc: 0.920762\n",
      "[519]\tvalid_0's auc: 0.920792\n",
      "[520]\tvalid_0's auc: 0.920804\n",
      "[521]\tvalid_0's auc: 0.920802\n",
      "[522]\tvalid_0's auc: 0.92082\n",
      "[523]\tvalid_0's auc: 0.920812\n",
      "[524]\tvalid_0's auc: 0.920809\n",
      "[525]\tvalid_0's auc: 0.920853\n",
      "[526]\tvalid_0's auc: 0.920847\n",
      "[527]\tvalid_0's auc: 0.920833\n",
      "[528]\tvalid_0's auc: 0.920846\n",
      "[529]\tvalid_0's auc: 0.920842\n",
      "[530]\tvalid_0's auc: 0.920856\n",
      "[531]\tvalid_0's auc: 0.920876\n",
      "[532]\tvalid_0's auc: 0.920877\n",
      "[533]\tvalid_0's auc: 0.920897\n",
      "[534]\tvalid_0's auc: 0.920903\n",
      "[535]\tvalid_0's auc: 0.920935\n",
      "[536]\tvalid_0's auc: 0.920937\n",
      "[537]\tvalid_0's auc: 0.920973\n",
      "[538]\tvalid_0's auc: 0.921018\n",
      "[539]\tvalid_0's auc: 0.921052\n",
      "[540]\tvalid_0's auc: 0.921077\n",
      "[541]\tvalid_0's auc: 0.921096\n",
      "[542]\tvalid_0's auc: 0.921136\n",
      "[543]\tvalid_0's auc: 0.921171\n",
      "[544]\tvalid_0's auc: 0.921189\n",
      "[545]\tvalid_0's auc: 0.921223\n",
      "[546]\tvalid_0's auc: 0.921246\n",
      "[547]\tvalid_0's auc: 0.921296\n",
      "[548]\tvalid_0's auc: 0.92131\n",
      "[549]\tvalid_0's auc: 0.921334\n",
      "[550]\tvalid_0's auc: 0.921384\n"
     ]
    },
    {
     "name": "stdout",
     "output_type": "stream",
     "text": [
      "[551]\tvalid_0's auc: 0.921437\n",
      "[552]\tvalid_0's auc: 0.921455\n",
      "[553]\tvalid_0's auc: 0.921511\n",
      "[554]\tvalid_0's auc: 0.921554\n",
      "[555]\tvalid_0's auc: 0.921577\n",
      "[556]\tvalid_0's auc: 0.921632\n",
      "[557]\tvalid_0's auc: 0.921647\n",
      "[558]\tvalid_0's auc: 0.921654\n",
      "[559]\tvalid_0's auc: 0.921652\n",
      "[560]\tvalid_0's auc: 0.921688\n",
      "[561]\tvalid_0's auc: 0.921723\n",
      "[562]\tvalid_0's auc: 0.921736\n",
      "[563]\tvalid_0's auc: 0.921734\n",
      "[564]\tvalid_0's auc: 0.921727\n",
      "[565]\tvalid_0's auc: 0.921695\n",
      "[566]\tvalid_0's auc: 0.921679\n",
      "[567]\tvalid_0's auc: 0.921662\n",
      "[568]\tvalid_0's auc: 0.921701\n",
      "[569]\tvalid_0's auc: 0.921675\n",
      "[570]\tvalid_0's auc: 0.921672\n",
      "[571]\tvalid_0's auc: 0.921702\n",
      "[572]\tvalid_0's auc: 0.921719\n",
      "[573]\tvalid_0's auc: 0.921697\n",
      "[574]\tvalid_0's auc: 0.92166\n",
      "[575]\tvalid_0's auc: 0.921688\n",
      "[576]\tvalid_0's auc: 0.921717\n",
      "[577]\tvalid_0's auc: 0.921674\n",
      "[578]\tvalid_0's auc: 0.92166\n",
      "[579]\tvalid_0's auc: 0.921693\n",
      "[580]\tvalid_0's auc: 0.921725\n",
      "[581]\tvalid_0's auc: 0.921746\n",
      "[582]\tvalid_0's auc: 0.921706\n",
      "[583]\tvalid_0's auc: 0.92171\n",
      "[584]\tvalid_0's auc: 0.921748\n",
      "[585]\tvalid_0's auc: 0.921762\n",
      "[586]\tvalid_0's auc: 0.921771\n",
      "[587]\tvalid_0's auc: 0.921747\n",
      "[588]\tvalid_0's auc: 0.921751\n",
      "[589]\tvalid_0's auc: 0.921735\n",
      "[590]\tvalid_0's auc: 0.921714\n",
      "[591]\tvalid_0's auc: 0.921719\n",
      "[592]\tvalid_0's auc: 0.921716\n",
      "[593]\tvalid_0's auc: 0.921711\n",
      "[594]\tvalid_0's auc: 0.921725\n",
      "[595]\tvalid_0's auc: 0.921736\n",
      "[596]\tvalid_0's auc: 0.921741\n",
      "[597]\tvalid_0's auc: 0.921751\n",
      "[598]\tvalid_0's auc: 0.921794\n",
      "[599]\tvalid_0's auc: 0.921791\n",
      "[600]\tvalid_0's auc: 0.921832\n",
      "[601]\tvalid_0's auc: 0.921853\n",
      "[602]\tvalid_0's auc: 0.921877\n",
      "[603]\tvalid_0's auc: 0.921876\n",
      "[604]\tvalid_0's auc: 0.92188\n",
      "[605]\tvalid_0's auc: 0.921903\n",
      "[606]\tvalid_0's auc: 0.921889\n",
      "[607]\tvalid_0's auc: 0.92188\n",
      "[608]\tvalid_0's auc: 0.921905\n",
      "[609]\tvalid_0's auc: 0.921961\n",
      "[610]\tvalid_0's auc: 0.922012\n",
      "[611]\tvalid_0's auc: 0.922034\n",
      "[612]\tvalid_0's auc: 0.922088\n",
      "[613]\tvalid_0's auc: 0.922115\n",
      "[614]\tvalid_0's auc: 0.92216\n",
      "[615]\tvalid_0's auc: 0.922176\n",
      "[616]\tvalid_0's auc: 0.922209\n",
      "[617]\tvalid_0's auc: 0.92224\n",
      "[618]\tvalid_0's auc: 0.922231\n",
      "[619]\tvalid_0's auc: 0.922266\n",
      "[620]\tvalid_0's auc: 0.922261\n",
      "[621]\tvalid_0's auc: 0.922249\n",
      "[622]\tvalid_0's auc: 0.92223\n",
      "[623]\tvalid_0's auc: 0.922202\n",
      "[624]\tvalid_0's auc: 0.9222\n",
      "[625]\tvalid_0's auc: 0.922213\n",
      "[626]\tvalid_0's auc: 0.922173\n",
      "[627]\tvalid_0's auc: 0.92216\n",
      "[628]\tvalid_0's auc: 0.922124\n",
      "[629]\tvalid_0's auc: 0.922182\n",
      "[630]\tvalid_0's auc: 0.922186\n",
      "[631]\tvalid_0's auc: 0.922227\n",
      "[632]\tvalid_0's auc: 0.922274\n",
      "[633]\tvalid_0's auc: 0.92226\n",
      "[634]\tvalid_0's auc: 0.922273\n",
      "[635]\tvalid_0's auc: 0.922272\n",
      "[636]\tvalid_0's auc: 0.922306\n",
      "[637]\tvalid_0's auc: 0.922314\n",
      "[638]\tvalid_0's auc: 0.922302\n",
      "[639]\tvalid_0's auc: 0.922286\n",
      "[640]\tvalid_0's auc: 0.922307\n",
      "[641]\tvalid_0's auc: 0.922329\n",
      "[642]\tvalid_0's auc: 0.922376\n",
      "[643]\tvalid_0's auc: 0.92242\n",
      "[644]\tvalid_0's auc: 0.922448\n",
      "[645]\tvalid_0's auc: 0.92245\n",
      "[646]\tvalid_0's auc: 0.922475\n",
      "[647]\tvalid_0's auc: 0.922503\n",
      "[648]\tvalid_0's auc: 0.922527\n",
      "[649]\tvalid_0's auc: 0.922562\n",
      "[650]\tvalid_0's auc: 0.922588\n",
      "[651]\tvalid_0's auc: 0.922604\n",
      "[652]\tvalid_0's auc: 0.922604\n",
      "[653]\tvalid_0's auc: 0.922645\n",
      "[654]\tvalid_0's auc: 0.922652\n",
      "[655]\tvalid_0's auc: 0.922723\n",
      "[656]\tvalid_0's auc: 0.922777\n",
      "[657]\tvalid_0's auc: 0.922815\n",
      "[658]\tvalid_0's auc: 0.922781\n",
      "[659]\tvalid_0's auc: 0.922799\n",
      "[660]\tvalid_0's auc: 0.922777\n",
      "[661]\tvalid_0's auc: 0.922798\n",
      "[662]\tvalid_0's auc: 0.922829\n",
      "[663]\tvalid_0's auc: 0.922844\n",
      "[664]\tvalid_0's auc: 0.922857\n",
      "[665]\tvalid_0's auc: 0.922856\n",
      "[666]\tvalid_0's auc: 0.922845\n",
      "[667]\tvalid_0's auc: 0.922851\n",
      "[668]\tvalid_0's auc: 0.922852\n",
      "[669]\tvalid_0's auc: 0.922848\n",
      "[670]\tvalid_0's auc: 0.922858\n",
      "[671]\tvalid_0's auc: 0.922857\n",
      "[672]\tvalid_0's auc: 0.922866\n",
      "[673]\tvalid_0's auc: 0.922884\n",
      "[674]\tvalid_0's auc: 0.922889\n",
      "[675]\tvalid_0's auc: 0.922883\n",
      "[676]\tvalid_0's auc: 0.922885\n",
      "[677]\tvalid_0's auc: 0.922909\n",
      "[678]\tvalid_0's auc: 0.92293\n",
      "[679]\tvalid_0's auc: 0.922924\n",
      "[680]\tvalid_0's auc: 0.922959\n",
      "[681]\tvalid_0's auc: 0.922944\n",
      "[682]\tvalid_0's auc: 0.92297\n",
      "[683]\tvalid_0's auc: 0.922992\n",
      "[684]\tvalid_0's auc: 0.923004\n",
      "[685]\tvalid_0's auc: 0.923006\n",
      "[686]\tvalid_0's auc: 0.923009\n",
      "[687]\tvalid_0's auc: 0.923025\n",
      "[688]\tvalid_0's auc: 0.923024\n",
      "[689]\tvalid_0's auc: 0.923007\n",
      "[690]\tvalid_0's auc: 0.923028\n",
      "[691]\tvalid_0's auc: 0.923016\n",
      "[692]\tvalid_0's auc: 0.923013\n",
      "[693]\tvalid_0's auc: 0.922988\n",
      "[694]\tvalid_0's auc: 0.922965\n",
      "[695]\tvalid_0's auc: 0.922964\n",
      "[696]\tvalid_0's auc: 0.92298\n",
      "[697]\tvalid_0's auc: 0.922972\n",
      "[698]\tvalid_0's auc: 0.922973\n",
      "[699]\tvalid_0's auc: 0.922973\n",
      "[700]\tvalid_0's auc: 0.922984\n",
      "[701]\tvalid_0's auc: 0.922973\n",
      "[702]\tvalid_0's auc: 0.922974\n",
      "[703]\tvalid_0's auc: 0.922956\n",
      "[704]\tvalid_0's auc: 0.922959\n",
      "[705]\tvalid_0's auc: 0.922959\n",
      "[706]\tvalid_0's auc: 0.922955\n",
      "[707]\tvalid_0's auc: 0.922972\n",
      "[708]\tvalid_0's auc: 0.922988\n",
      "[709]\tvalid_0's auc: 0.922976\n",
      "[710]\tvalid_0's auc: 0.923007\n",
      "[711]\tvalid_0's auc: 0.923033\n",
      "[712]\tvalid_0's auc: 0.923012\n",
      "[713]\tvalid_0's auc: 0.923024\n",
      "[714]\tvalid_0's auc: 0.923021\n",
      "[715]\tvalid_0's auc: 0.923063\n",
      "[716]\tvalid_0's auc: 0.923068\n",
      "[717]\tvalid_0's auc: 0.923085\n",
      "[718]\tvalid_0's auc: 0.923078\n",
      "[719]\tvalid_0's auc: 0.9231\n",
      "[720]\tvalid_0's auc: 0.923091\n",
      "[721]\tvalid_0's auc: 0.92313\n",
      "[722]\tvalid_0's auc: 0.923173\n",
      "[723]\tvalid_0's auc: 0.923203\n",
      "[724]\tvalid_0's auc: 0.923225\n",
      "[725]\tvalid_0's auc: 0.923293\n",
      "[726]\tvalid_0's auc: 0.923308\n",
      "[727]\tvalid_0's auc: 0.923338\n",
      "[728]\tvalid_0's auc: 0.923369\n",
      "[729]\tvalid_0's auc: 0.923363\n",
      "[730]\tvalid_0's auc: 0.92336\n",
      "[731]\tvalid_0's auc: 0.923361\n",
      "[732]\tvalid_0's auc: 0.92337\n",
      "[733]\tvalid_0's auc: 0.923397\n",
      "[734]\tvalid_0's auc: 0.923391\n",
      "[735]\tvalid_0's auc: 0.923411\n",
      "[736]\tvalid_0's auc: 0.923426\n",
      "[737]\tvalid_0's auc: 0.923423\n",
      "[738]\tvalid_0's auc: 0.923449\n",
      "[739]\tvalid_0's auc: 0.923416\n",
      "[740]\tvalid_0's auc: 0.923469\n",
      "[741]\tvalid_0's auc: 0.923455\n",
      "[742]\tvalid_0's auc: 0.923455\n",
      "[743]\tvalid_0's auc: 0.92342\n",
      "[744]\tvalid_0's auc: 0.923408\n",
      "[745]\tvalid_0's auc: 0.923412\n",
      "[746]\tvalid_0's auc: 0.923452\n",
      "[747]\tvalid_0's auc: 0.923448\n",
      "[748]\tvalid_0's auc: 0.923484\n",
      "[749]\tvalid_0's auc: 0.923495\n",
      "[750]\tvalid_0's auc: 0.923471\n",
      "[751]\tvalid_0's auc: 0.923477\n",
      "[752]\tvalid_0's auc: 0.923493\n",
      "[753]\tvalid_0's auc: 0.923514\n",
      "[754]\tvalid_0's auc: 0.923553\n",
      "[755]\tvalid_0's auc: 0.923567\n",
      "[756]\tvalid_0's auc: 0.923582\n",
      "[757]\tvalid_0's auc: 0.923577\n",
      "[758]\tvalid_0's auc: 0.923593\n",
      "[759]\tvalid_0's auc: 0.923621\n",
      "[760]\tvalid_0's auc: 0.923658\n",
      "[761]\tvalid_0's auc: 0.923689\n",
      "[762]\tvalid_0's auc: 0.923733\n",
      "[763]\tvalid_0's auc: 0.923771\n",
      "[764]\tvalid_0's auc: 0.923791\n",
      "[765]\tvalid_0's auc: 0.923821\n",
      "[766]\tvalid_0's auc: 0.92386\n",
      "[767]\tvalid_0's auc: 0.923883\n",
      "[768]\tvalid_0's auc: 0.923878\n",
      "[769]\tvalid_0's auc: 0.92389\n",
      "[770]\tvalid_0's auc: 0.923893\n",
      "[771]\tvalid_0's auc: 0.923902\n",
      "[772]\tvalid_0's auc: 0.92389\n",
      "[773]\tvalid_0's auc: 0.9239\n",
      "[774]\tvalid_0's auc: 0.923873\n",
      "[775]\tvalid_0's auc: 0.923884\n",
      "[776]\tvalid_0's auc: 0.923883\n",
      "[777]\tvalid_0's auc: 0.923892\n",
      "[778]\tvalid_0's auc: 0.92388\n",
      "[779]\tvalid_0's auc: 0.923864\n",
      "[780]\tvalid_0's auc: 0.923896\n",
      "[781]\tvalid_0's auc: 0.923927\n",
      "[782]\tvalid_0's auc: 0.923955\n",
      "[783]\tvalid_0's auc: 0.923958\n",
      "[784]\tvalid_0's auc: 0.923954\n",
      "[785]\tvalid_0's auc: 0.923996\n",
      "[786]\tvalid_0's auc: 0.924024\n",
      "[787]\tvalid_0's auc: 0.924024\n",
      "[788]\tvalid_0's auc: 0.924031\n",
      "[789]\tvalid_0's auc: 0.924031\n",
      "[790]\tvalid_0's auc: 0.924051\n",
      "[791]\tvalid_0's auc: 0.924036\n",
      "[792]\tvalid_0's auc: 0.924064\n",
      "[793]\tvalid_0's auc: 0.924064\n",
      "[794]\tvalid_0's auc: 0.924063\n",
      "[795]\tvalid_0's auc: 0.924098\n",
      "[796]\tvalid_0's auc: 0.924108\n",
      "[797]\tvalid_0's auc: 0.92411\n",
      "[798]\tvalid_0's auc: 0.924111\n",
      "[799]\tvalid_0's auc: 0.924122\n",
      "[800]\tvalid_0's auc: 0.924129\n",
      "[801]\tvalid_0's auc: 0.924144\n",
      "[802]\tvalid_0's auc: 0.924139\n",
      "[803]\tvalid_0's auc: 0.924151\n",
      "[804]\tvalid_0's auc: 0.92418\n",
      "[805]\tvalid_0's auc: 0.92419\n",
      "[806]\tvalid_0's auc: 0.924186\n",
      "[807]\tvalid_0's auc: 0.924197\n",
      "[808]\tvalid_0's auc: 0.924216\n",
      "[809]\tvalid_0's auc: 0.924218\n",
      "[810]\tvalid_0's auc: 0.924244\n",
      "[811]\tvalid_0's auc: 0.924253\n",
      "[812]\tvalid_0's auc: 0.924287\n",
      "[813]\tvalid_0's auc: 0.9243\n",
      "[814]\tvalid_0's auc: 0.924284\n",
      "[815]\tvalid_0's auc: 0.924302\n",
      "[816]\tvalid_0's auc: 0.924309\n",
      "[817]\tvalid_0's auc: 0.924327\n",
      "[818]\tvalid_0's auc: 0.924319\n",
      "[819]\tvalid_0's auc: 0.92432\n",
      "[820]\tvalid_0's auc: 0.924327\n",
      "[821]\tvalid_0's auc: 0.924383\n",
      "[822]\tvalid_0's auc: 0.924442\n",
      "[823]\tvalid_0's auc: 0.924479\n",
      "[824]\tvalid_0's auc: 0.924511\n",
      "[825]\tvalid_0's auc: 0.924555\n",
      "[826]\tvalid_0's auc: 0.924594\n",
      "[827]\tvalid_0's auc: 0.924648\n",
      "[828]\tvalid_0's auc: 0.924666\n",
      "[829]\tvalid_0's auc: 0.924692\n",
      "[830]\tvalid_0's auc: 0.924748\n",
      "[831]\tvalid_0's auc: 0.924756\n",
      "[832]\tvalid_0's auc: 0.924742\n",
      "[833]\tvalid_0's auc: 0.924742\n",
      "[834]\tvalid_0's auc: 0.92474\n",
      "[835]\tvalid_0's auc: 0.924747\n",
      "[836]\tvalid_0's auc: 0.924803\n",
      "[837]\tvalid_0's auc: 0.924802\n",
      "[838]\tvalid_0's auc: 0.92481\n",
      "[839]\tvalid_0's auc: 0.924855\n",
      "[840]\tvalid_0's auc: 0.924866\n",
      "[841]\tvalid_0's auc: 0.924873\n",
      "[842]\tvalid_0's auc: 0.924884\n",
      "[843]\tvalid_0's auc: 0.924923\n",
      "[844]\tvalid_0's auc: 0.924911\n",
      "[845]\tvalid_0's auc: 0.924913\n",
      "[846]\tvalid_0's auc: 0.924895\n",
      "[847]\tvalid_0's auc: 0.924876\n",
      "[848]\tvalid_0's auc: 0.924873\n",
      "[849]\tvalid_0's auc: 0.924887\n",
      "[850]\tvalid_0's auc: 0.924934\n",
      "[851]\tvalid_0's auc: 0.924931\n",
      "[852]\tvalid_0's auc: 0.924923\n",
      "[853]\tvalid_0's auc: 0.924912\n",
      "[854]\tvalid_0's auc: 0.924907\n"
     ]
    },
    {
     "name": "stdout",
     "output_type": "stream",
     "text": [
      "[855]\tvalid_0's auc: 0.924915\n",
      "[856]\tvalid_0's auc: 0.924911\n",
      "[857]\tvalid_0's auc: 0.924931\n",
      "[858]\tvalid_0's auc: 0.924917\n",
      "[859]\tvalid_0's auc: 0.924923\n",
      "[860]\tvalid_0's auc: 0.9249\n",
      "[861]\tvalid_0's auc: 0.924917\n",
      "[862]\tvalid_0's auc: 0.924901\n",
      "[863]\tvalid_0's auc: 0.924925\n",
      "[864]\tvalid_0's auc: 0.924925\n",
      "[865]\tvalid_0's auc: 0.924921\n",
      "[866]\tvalid_0's auc: 0.924934\n",
      "[867]\tvalid_0's auc: 0.924954\n",
      "[868]\tvalid_0's auc: 0.924989\n",
      "[869]\tvalid_0's auc: 0.925008\n",
      "[870]\tvalid_0's auc: 0.924983\n",
      "[871]\tvalid_0's auc: 0.924984\n",
      "[872]\tvalid_0's auc: 0.925015\n",
      "[873]\tvalid_0's auc: 0.92503\n",
      "[874]\tvalid_0's auc: 0.92502\n",
      "[875]\tvalid_0's auc: 0.92502\n",
      "[876]\tvalid_0's auc: 0.92502\n",
      "[877]\tvalid_0's auc: 0.925025\n",
      "[878]\tvalid_0's auc: 0.925034\n",
      "[879]\tvalid_0's auc: 0.925041\n",
      "[880]\tvalid_0's auc: 0.925063\n",
      "[881]\tvalid_0's auc: 0.925061\n",
      "[882]\tvalid_0's auc: 0.925026\n",
      "[883]\tvalid_0's auc: 0.925032\n",
      "[884]\tvalid_0's auc: 0.925009\n",
      "[885]\tvalid_0's auc: 0.925022\n",
      "[886]\tvalid_0's auc: 0.925018\n",
      "[887]\tvalid_0's auc: 0.924993\n",
      "[888]\tvalid_0's auc: 0.925019\n",
      "[889]\tvalid_0's auc: 0.925006\n",
      "[890]\tvalid_0's auc: 0.925018\n",
      "[891]\tvalid_0's auc: 0.924985\n",
      "[892]\tvalid_0's auc: 0.924989\n",
      "[893]\tvalid_0's auc: 0.925006\n",
      "[894]\tvalid_0's auc: 0.925024\n",
      "[895]\tvalid_0's auc: 0.925013\n",
      "[896]\tvalid_0's auc: 0.924998\n",
      "[897]\tvalid_0's auc: 0.925024\n",
      "[898]\tvalid_0's auc: 0.925017\n",
      "[899]\tvalid_0's auc: 0.925005\n",
      "[900]\tvalid_0's auc: 0.924998\n",
      "[901]\tvalid_0's auc: 0.925013\n",
      "[902]\tvalid_0's auc: 0.925024\n",
      "[903]\tvalid_0's auc: 0.92502\n",
      "[904]\tvalid_0's auc: 0.925041\n",
      "[905]\tvalid_0's auc: 0.925043\n",
      "[906]\tvalid_0's auc: 0.925026\n",
      "[907]\tvalid_0's auc: 0.925084\n",
      "[908]\tvalid_0's auc: 0.925091\n",
      "[909]\tvalid_0's auc: 0.925103\n",
      "[910]\tvalid_0's auc: 0.925096\n",
      "[911]\tvalid_0's auc: 0.925068\n",
      "[912]\tvalid_0's auc: 0.925101\n",
      "[913]\tvalid_0's auc: 0.925088\n",
      "[914]\tvalid_0's auc: 0.925094\n",
      "[915]\tvalid_0's auc: 0.925102\n",
      "[916]\tvalid_0's auc: 0.925095\n",
      "[917]\tvalid_0's auc: 0.925124\n",
      "[918]\tvalid_0's auc: 0.925136\n",
      "[919]\tvalid_0's auc: 0.925133\n",
      "[920]\tvalid_0's auc: 0.925126\n",
      "[921]\tvalid_0's auc: 0.925092\n",
      "[922]\tvalid_0's auc: 0.925079\n",
      "[923]\tvalid_0's auc: 0.925122\n",
      "[924]\tvalid_0's auc: 0.9251\n",
      "[925]\tvalid_0's auc: 0.925087\n",
      "[926]\tvalid_0's auc: 0.925065\n",
      "[927]\tvalid_0's auc: 0.925054\n",
      "[928]\tvalid_0's auc: 0.925022\n",
      "[929]\tvalid_0's auc: 0.92503\n",
      "[930]\tvalid_0's auc: 0.925001\n",
      "[931]\tvalid_0's auc: 0.925002\n",
      "[932]\tvalid_0's auc: 0.925012\n",
      "[933]\tvalid_0's auc: 0.924985\n",
      "[934]\tvalid_0's auc: 0.925006\n",
      "[935]\tvalid_0's auc: 0.925017\n",
      "[936]\tvalid_0's auc: 0.925028\n",
      "[937]\tvalid_0's auc: 0.92504\n",
      "[938]\tvalid_0's auc: 0.925047\n",
      "[939]\tvalid_0's auc: 0.925055\n",
      "[940]\tvalid_0's auc: 0.925056\n",
      "[941]\tvalid_0's auc: 0.925061\n",
      "[942]\tvalid_0's auc: 0.925073\n",
      "[943]\tvalid_0's auc: 0.925072\n",
      "[944]\tvalid_0's auc: 0.925103\n",
      "[945]\tvalid_0's auc: 0.925113\n",
      "[946]\tvalid_0's auc: 0.925131\n",
      "[947]\tvalid_0's auc: 0.925119\n",
      "[948]\tvalid_0's auc: 0.925103\n",
      "[949]\tvalid_0's auc: 0.925122\n",
      "[950]\tvalid_0's auc: 0.925096\n",
      "[951]\tvalid_0's auc: 0.925122\n",
      "[952]\tvalid_0's auc: 0.925139\n",
      "[953]\tvalid_0's auc: 0.925142\n",
      "[954]\tvalid_0's auc: 0.925146\n",
      "[955]\tvalid_0's auc: 0.925131\n",
      "[956]\tvalid_0's auc: 0.925125\n",
      "[957]\tvalid_0's auc: 0.925135\n",
      "[958]\tvalid_0's auc: 0.925137\n",
      "[959]\tvalid_0's auc: 0.925132\n",
      "[960]\tvalid_0's auc: 0.925133\n",
      "[961]\tvalid_0's auc: 0.925168\n",
      "[962]\tvalid_0's auc: 0.925196\n",
      "[963]\tvalid_0's auc: 0.925213\n",
      "[964]\tvalid_0's auc: 0.925239\n",
      "[965]\tvalid_0's auc: 0.925225\n",
      "[966]\tvalid_0's auc: 0.925244\n",
      "[967]\tvalid_0's auc: 0.92527\n",
      "[968]\tvalid_0's auc: 0.925291\n",
      "[969]\tvalid_0's auc: 0.92533\n",
      "[970]\tvalid_0's auc: 0.925347\n",
      "[971]\tvalid_0's auc: 0.925362\n",
      "[972]\tvalid_0's auc: 0.925385\n",
      "[973]\tvalid_0's auc: 0.925412\n",
      "[974]\tvalid_0's auc: 0.925389\n",
      "[975]\tvalid_0's auc: 0.925382\n",
      "[976]\tvalid_0's auc: 0.925422\n",
      "[977]\tvalid_0's auc: 0.925407\n",
      "[978]\tvalid_0's auc: 0.925402\n",
      "[979]\tvalid_0's auc: 0.9254\n",
      "[980]\tvalid_0's auc: 0.925386\n",
      "[981]\tvalid_0's auc: 0.925389\n",
      "[982]\tvalid_0's auc: 0.925412\n",
      "[983]\tvalid_0's auc: 0.925406\n",
      "[984]\tvalid_0's auc: 0.925412\n",
      "[985]\tvalid_0's auc: 0.925415\n",
      "[986]\tvalid_0's auc: 0.925442\n",
      "[987]\tvalid_0's auc: 0.92546\n",
      "[988]\tvalid_0's auc: 0.925454\n",
      "[989]\tvalid_0's auc: 0.925469\n",
      "[990]\tvalid_0's auc: 0.925474\n",
      "[991]\tvalid_0's auc: 0.925457\n",
      "[992]\tvalid_0's auc: 0.925445\n",
      "[993]\tvalid_0's auc: 0.925436\n",
      "[994]\tvalid_0's auc: 0.925438\n",
      "[995]\tvalid_0's auc: 0.925455\n",
      "[996]\tvalid_0's auc: 0.925455\n",
      "[997]\tvalid_0's auc: 0.925485\n",
      "[998]\tvalid_0's auc: 0.92549\n",
      "[999]\tvalid_0's auc: 0.925496\n",
      "[1000]\tvalid_0's auc: 0.925499\n",
      "[1001]\tvalid_0's auc: 0.925455\n",
      "[1002]\tvalid_0's auc: 0.925447\n",
      "[1003]\tvalid_0's auc: 0.925439\n",
      "[1004]\tvalid_0's auc: 0.925472\n",
      "[1005]\tvalid_0's auc: 0.925471\n",
      "[1006]\tvalid_0's auc: 0.925463\n",
      "[1007]\tvalid_0's auc: 0.925488\n",
      "[1008]\tvalid_0's auc: 0.925482\n",
      "[1009]\tvalid_0's auc: 0.925473\n",
      "[1010]\tvalid_0's auc: 0.925478\n",
      "[1011]\tvalid_0's auc: 0.925471\n",
      "[1012]\tvalid_0's auc: 0.925517\n",
      "[1013]\tvalid_0's auc: 0.925512\n",
      "[1014]\tvalid_0's auc: 0.925523\n",
      "[1015]\tvalid_0's auc: 0.925519\n",
      "[1016]\tvalid_0's auc: 0.925518\n",
      "[1017]\tvalid_0's auc: 0.925499\n",
      "[1018]\tvalid_0's auc: 0.92551\n",
      "[1019]\tvalid_0's auc: 0.9255\n",
      "[1020]\tvalid_0's auc: 0.92552\n",
      "[1021]\tvalid_0's auc: 0.925549\n",
      "[1022]\tvalid_0's auc: 0.925544\n",
      "[1023]\tvalid_0's auc: 0.925525\n",
      "[1024]\tvalid_0's auc: 0.925519\n",
      "[1025]\tvalid_0's auc: 0.925524\n",
      "[1026]\tvalid_0's auc: 0.925549\n",
      "[1027]\tvalid_0's auc: 0.925565\n",
      "[1028]\tvalid_0's auc: 0.925558\n",
      "[1029]\tvalid_0's auc: 0.925555\n",
      "[1030]\tvalid_0's auc: 0.925566\n",
      "[1031]\tvalid_0's auc: 0.925554\n",
      "[1032]\tvalid_0's auc: 0.925562\n",
      "[1033]\tvalid_0's auc: 0.925542\n",
      "[1034]\tvalid_0's auc: 0.925534\n",
      "[1035]\tvalid_0's auc: 0.925524\n",
      "[1036]\tvalid_0's auc: 0.92554\n",
      "[1037]\tvalid_0's auc: 0.92553\n",
      "[1038]\tvalid_0's auc: 0.925523\n",
      "[1039]\tvalid_0's auc: 0.925522\n",
      "[1040]\tvalid_0's auc: 0.925525\n",
      "[1041]\tvalid_0's auc: 0.925512\n",
      "[1042]\tvalid_0's auc: 0.925515\n",
      "[1043]\tvalid_0's auc: 0.925507\n",
      "[1044]\tvalid_0's auc: 0.925517\n",
      "[1045]\tvalid_0's auc: 0.925516\n",
      "[1046]\tvalid_0's auc: 0.9255\n",
      "[1047]\tvalid_0's auc: 0.925522\n",
      "[1048]\tvalid_0's auc: 0.925498\n",
      "[1049]\tvalid_0's auc: 0.925495\n",
      "[1050]\tvalid_0's auc: 0.925471\n",
      "[1051]\tvalid_0's auc: 0.925482\n",
      "[1052]\tvalid_0's auc: 0.925489\n",
      "[1053]\tvalid_0's auc: 0.925523\n",
      "[1054]\tvalid_0's auc: 0.925527\n",
      "[1055]\tvalid_0's auc: 0.925536\n",
      "[1056]\tvalid_0's auc: 0.925554\n",
      "[1057]\tvalid_0's auc: 0.925557\n",
      "[1058]\tvalid_0's auc: 0.925562\n",
      "[1059]\tvalid_0's auc: 0.925558\n",
      "[1060]\tvalid_0's auc: 0.925546\n",
      "[1061]\tvalid_0's auc: 0.925559\n",
      "[1062]\tvalid_0's auc: 0.925539\n",
      "[1063]\tvalid_0's auc: 0.925524\n",
      "[1064]\tvalid_0's auc: 0.925521\n",
      "[1065]\tvalid_0's auc: 0.925547\n",
      "[1066]\tvalid_0's auc: 0.92554\n",
      "[1067]\tvalid_0's auc: 0.925547\n",
      "[1068]\tvalid_0's auc: 0.925549\n",
      "[1069]\tvalid_0's auc: 0.925533\n",
      "[1070]\tvalid_0's auc: 0.925535\n",
      "[1071]\tvalid_0's auc: 0.925546\n",
      "[1072]\tvalid_0's auc: 0.925523\n",
      "[1073]\tvalid_0's auc: 0.925541\n",
      "[1074]\tvalid_0's auc: 0.925514\n",
      "[1075]\tvalid_0's auc: 0.925488\n",
      "[1076]\tvalid_0's auc: 0.925498\n",
      "[1077]\tvalid_0's auc: 0.925476\n",
      "[1078]\tvalid_0's auc: 0.925469\n",
      "[1079]\tvalid_0's auc: 0.925481\n",
      "[1080]\tvalid_0's auc: 0.925479\n",
      "[1081]\tvalid_0's auc: 0.925487\n",
      "[1082]\tvalid_0's auc: 0.925492\n",
      "[1083]\tvalid_0's auc: 0.925509\n",
      "[1084]\tvalid_0's auc: 0.925521\n",
      "[1085]\tvalid_0's auc: 0.925539\n",
      "[1086]\tvalid_0's auc: 0.92554\n",
      "[1087]\tvalid_0's auc: 0.925539\n",
      "[1088]\tvalid_0's auc: 0.925523\n",
      "[1089]\tvalid_0's auc: 0.925526\n",
      "[1090]\tvalid_0's auc: 0.92553\n",
      "[1091]\tvalid_0's auc: 0.925537\n",
      "[1092]\tvalid_0's auc: 0.925544\n",
      "[1093]\tvalid_0's auc: 0.925548\n",
      "[1094]\tvalid_0's auc: 0.925571\n",
      "[1095]\tvalid_0's auc: 0.925577\n",
      "[1096]\tvalid_0's auc: 0.925579\n",
      "[1097]\tvalid_0's auc: 0.925595\n",
      "[1098]\tvalid_0's auc: 0.925629\n",
      "[1099]\tvalid_0's auc: 0.925629\n",
      "[1100]\tvalid_0's auc: 0.925642\n",
      "[1101]\tvalid_0's auc: 0.925657\n",
      "[1102]\tvalid_0's auc: 0.925643\n",
      "[1103]\tvalid_0's auc: 0.925647\n",
      "[1104]\tvalid_0's auc: 0.925639\n",
      "[1105]\tvalid_0's auc: 0.925621\n",
      "[1106]\tvalid_0's auc: 0.92563\n",
      "[1107]\tvalid_0's auc: 0.925657\n",
      "[1108]\tvalid_0's auc: 0.925642\n",
      "[1109]\tvalid_0's auc: 0.925654\n",
      "[1110]\tvalid_0's auc: 0.925654\n",
      "[1111]\tvalid_0's auc: 0.925673\n",
      "[1112]\tvalid_0's auc: 0.925695\n",
      "[1113]\tvalid_0's auc: 0.925702\n",
      "[1114]\tvalid_0's auc: 0.925698\n",
      "[1115]\tvalid_0's auc: 0.925702\n",
      "[1116]\tvalid_0's auc: 0.92571\n",
      "[1117]\tvalid_0's auc: 0.925732\n",
      "[1118]\tvalid_0's auc: 0.925746\n",
      "[1119]\tvalid_0's auc: 0.92573\n",
      "[1120]\tvalid_0's auc: 0.925728\n",
      "[1121]\tvalid_0's auc: 0.925777\n",
      "[1122]\tvalid_0's auc: 0.925793\n",
      "[1123]\tvalid_0's auc: 0.925834\n",
      "[1124]\tvalid_0's auc: 0.925873\n",
      "[1125]\tvalid_0's auc: 0.925898\n",
      "[1126]\tvalid_0's auc: 0.925929\n",
      "[1127]\tvalid_0's auc: 0.925946\n"
     ]
    },
    {
     "name": "stdout",
     "output_type": "stream",
     "text": [
      "[1128]\tvalid_0's auc: 0.92597\n",
      "[1129]\tvalid_0's auc: 0.926019\n",
      "[1130]\tvalid_0's auc: 0.925995\n",
      "[1131]\tvalid_0's auc: 0.925977\n",
      "[1132]\tvalid_0's auc: 0.925949\n",
      "[1133]\tvalid_0's auc: 0.92594\n",
      "[1134]\tvalid_0's auc: 0.925933\n",
      "[1135]\tvalid_0's auc: 0.925915\n",
      "[1136]\tvalid_0's auc: 0.92593\n",
      "[1137]\tvalid_0's auc: 0.925915\n",
      "[1138]\tvalid_0's auc: 0.925927\n",
      "[1139]\tvalid_0's auc: 0.925931\n",
      "[1140]\tvalid_0's auc: 0.925927\n",
      "[1141]\tvalid_0's auc: 0.925959\n",
      "[1142]\tvalid_0's auc: 0.925991\n",
      "[1143]\tvalid_0's auc: 0.926022\n",
      "[1144]\tvalid_0's auc: 0.926008\n",
      "[1145]\tvalid_0's auc: 0.926033\n",
      "[1146]\tvalid_0's auc: 0.926034\n",
      "[1147]\tvalid_0's auc: 0.926052\n",
      "[1148]\tvalid_0's auc: 0.926068\n",
      "[1149]\tvalid_0's auc: 0.92608\n",
      "[1150]\tvalid_0's auc: 0.926098\n",
      "[1151]\tvalid_0's auc: 0.926124\n",
      "[1152]\tvalid_0's auc: 0.926132\n",
      "[1153]\tvalid_0's auc: 0.926155\n",
      "[1154]\tvalid_0's auc: 0.926158\n",
      "[1155]\tvalid_0's auc: 0.926178\n",
      "[1156]\tvalid_0's auc: 0.926192\n",
      "[1157]\tvalid_0's auc: 0.926217\n",
      "[1158]\tvalid_0's auc: 0.926218\n",
      "[1159]\tvalid_0's auc: 0.926254\n",
      "[1160]\tvalid_0's auc: 0.926272\n",
      "[1161]\tvalid_0's auc: 0.92629\n",
      "[1162]\tvalid_0's auc: 0.92632\n",
      "[1163]\tvalid_0's auc: 0.926323\n",
      "[1164]\tvalid_0's auc: 0.926342\n",
      "[1165]\tvalid_0's auc: 0.92636\n",
      "[1166]\tvalid_0's auc: 0.926357\n",
      "[1167]\tvalid_0's auc: 0.926352\n",
      "[1168]\tvalid_0's auc: 0.926371\n",
      "[1169]\tvalid_0's auc: 0.926397\n",
      "[1170]\tvalid_0's auc: 0.926397\n",
      "[1171]\tvalid_0's auc: 0.926415\n",
      "[1172]\tvalid_0's auc: 0.926422\n",
      "[1173]\tvalid_0's auc: 0.926426\n",
      "[1174]\tvalid_0's auc: 0.926436\n",
      "[1175]\tvalid_0's auc: 0.926434\n",
      "[1176]\tvalid_0's auc: 0.926434\n",
      "[1177]\tvalid_0's auc: 0.926433\n",
      "[1178]\tvalid_0's auc: 0.926434\n",
      "[1179]\tvalid_0's auc: 0.926455\n",
      "[1180]\tvalid_0's auc: 0.926435\n",
      "[1181]\tvalid_0's auc: 0.926412\n",
      "[1182]\tvalid_0's auc: 0.926417\n",
      "[1183]\tvalid_0's auc: 0.92642\n",
      "[1184]\tvalid_0's auc: 0.92641\n",
      "[1185]\tvalid_0's auc: 0.92642\n",
      "[1186]\tvalid_0's auc: 0.92642\n",
      "[1187]\tvalid_0's auc: 0.926419\n",
      "[1188]\tvalid_0's auc: 0.926392\n",
      "[1189]\tvalid_0's auc: 0.926411\n",
      "[1190]\tvalid_0's auc: 0.926412\n",
      "[1191]\tvalid_0's auc: 0.926412\n",
      "[1192]\tvalid_0's auc: 0.926387\n",
      "[1193]\tvalid_0's auc: 0.926404\n",
      "[1194]\tvalid_0's auc: 0.926399\n",
      "[1195]\tvalid_0's auc: 0.926411\n",
      "[1196]\tvalid_0's auc: 0.926416\n",
      "[1197]\tvalid_0's auc: 0.926416\n",
      "[1198]\tvalid_0's auc: 0.926422\n",
      "[1199]\tvalid_0's auc: 0.926429\n",
      "[1200]\tvalid_0's auc: 0.92643\n",
      "[1201]\tvalid_0's auc: 0.926433\n",
      "[1202]\tvalid_0's auc: 0.926439\n",
      "[1203]\tvalid_0's auc: 0.92642\n",
      "[1204]\tvalid_0's auc: 0.926421\n",
      "[1205]\tvalid_0's auc: 0.926411\n",
      "[1206]\tvalid_0's auc: 0.926414\n",
      "[1207]\tvalid_0's auc: 0.926407\n",
      "[1208]\tvalid_0's auc: 0.926415\n",
      "[1209]\tvalid_0's auc: 0.926398\n",
      "[1210]\tvalid_0's auc: 0.926357\n",
      "[1211]\tvalid_0's auc: 0.926359\n",
      "[1212]\tvalid_0's auc: 0.926349\n",
      "[1213]\tvalid_0's auc: 0.926323\n",
      "[1214]\tvalid_0's auc: 0.926329\n",
      "[1215]\tvalid_0's auc: 0.926335\n",
      "[1216]\tvalid_0's auc: 0.926381\n",
      "[1217]\tvalid_0's auc: 0.926383\n",
      "[1218]\tvalid_0's auc: 0.926398\n",
      "[1219]\tvalid_0's auc: 0.926388\n",
      "[1220]\tvalid_0's auc: 0.926391\n",
      "[1221]\tvalid_0's auc: 0.926393\n",
      "[1222]\tvalid_0's auc: 0.926403\n",
      "[1223]\tvalid_0's auc: 0.926422\n",
      "[1224]\tvalid_0's auc: 0.926429\n",
      "[1225]\tvalid_0's auc: 0.926447\n",
      "[1226]\tvalid_0's auc: 0.926453\n",
      "[1227]\tvalid_0's auc: 0.926443\n",
      "[1228]\tvalid_0's auc: 0.926435\n",
      "[1229]\tvalid_0's auc: 0.926426\n",
      "[1230]\tvalid_0's auc: 0.926433\n",
      "[1231]\tvalid_0's auc: 0.926436\n",
      "[1232]\tvalid_0's auc: 0.926451\n",
      "[1233]\tvalid_0's auc: 0.926473\n",
      "[1234]\tvalid_0's auc: 0.926469\n",
      "[1235]\tvalid_0's auc: 0.926448\n",
      "[1236]\tvalid_0's auc: 0.926455\n",
      "[1237]\tvalid_0's auc: 0.926419\n",
      "[1238]\tvalid_0's auc: 0.9264\n",
      "[1239]\tvalid_0's auc: 0.926426\n",
      "[1240]\tvalid_0's auc: 0.926429\n",
      "[1241]\tvalid_0's auc: 0.926441\n",
      "[1242]\tvalid_0's auc: 0.926439\n",
      "[1243]\tvalid_0's auc: 0.926418\n",
      "[1244]\tvalid_0's auc: 0.926454\n",
      "[1245]\tvalid_0's auc: 0.92646\n",
      "[1246]\tvalid_0's auc: 0.926461\n",
      "[1247]\tvalid_0's auc: 0.926482\n",
      "[1248]\tvalid_0's auc: 0.926484\n",
      "[1249]\tvalid_0's auc: 0.926471\n",
      "[1250]\tvalid_0's auc: 0.926457\n",
      "[1251]\tvalid_0's auc: 0.92647\n",
      "[1252]\tvalid_0's auc: 0.926504\n",
      "[1253]\tvalid_0's auc: 0.926512\n",
      "[1254]\tvalid_0's auc: 0.926526\n",
      "[1255]\tvalid_0's auc: 0.92652\n",
      "[1256]\tvalid_0's auc: 0.926514\n",
      "[1257]\tvalid_0's auc: 0.92653\n",
      "[1258]\tvalid_0's auc: 0.926521\n",
      "[1259]\tvalid_0's auc: 0.926534\n",
      "[1260]\tvalid_0's auc: 0.926549\n",
      "[1261]\tvalid_0's auc: 0.926571\n",
      "[1262]\tvalid_0's auc: 0.926593\n",
      "[1263]\tvalid_0's auc: 0.926577\n",
      "[1264]\tvalid_0's auc: 0.926573\n",
      "[1265]\tvalid_0's auc: 0.926582\n",
      "[1266]\tvalid_0's auc: 0.926584\n",
      "[1267]\tvalid_0's auc: 0.926592\n",
      "[1268]\tvalid_0's auc: 0.92661\n",
      "[1269]\tvalid_0's auc: 0.92665\n",
      "[1270]\tvalid_0's auc: 0.92664\n",
      "[1271]\tvalid_0's auc: 0.926641\n",
      "[1272]\tvalid_0's auc: 0.926625\n",
      "[1273]\tvalid_0's auc: 0.92662\n",
      "[1274]\tvalid_0's auc: 0.926607\n",
      "[1275]\tvalid_0's auc: 0.926603\n",
      "[1276]\tvalid_0's auc: 0.926587\n",
      "[1277]\tvalid_0's auc: 0.926614\n",
      "[1278]\tvalid_0's auc: 0.92663\n",
      "[1279]\tvalid_0's auc: 0.926618\n",
      "[1280]\tvalid_0's auc: 0.926618\n",
      "[1281]\tvalid_0's auc: 0.926621\n",
      "[1282]\tvalid_0's auc: 0.926617\n",
      "[1283]\tvalid_0's auc: 0.92662\n",
      "[1284]\tvalid_0's auc: 0.92661\n",
      "[1285]\tvalid_0's auc: 0.926604\n",
      "[1286]\tvalid_0's auc: 0.92661\n",
      "[1287]\tvalid_0's auc: 0.926639\n",
      "[1288]\tvalid_0's auc: 0.926634\n",
      "[1289]\tvalid_0's auc: 0.926652\n",
      "[1290]\tvalid_0's auc: 0.926649\n",
      "[1291]\tvalid_0's auc: 0.926641\n",
      "[1292]\tvalid_0's auc: 0.926656\n",
      "[1293]\tvalid_0's auc: 0.926642\n",
      "[1294]\tvalid_0's auc: 0.926641\n",
      "[1295]\tvalid_0's auc: 0.926652\n",
      "[1296]\tvalid_0's auc: 0.92664\n",
      "[1297]\tvalid_0's auc: 0.926656\n",
      "[1298]\tvalid_0's auc: 0.926664\n",
      "[1299]\tvalid_0's auc: 0.926667\n",
      "[1300]\tvalid_0's auc: 0.926676\n",
      "[1301]\tvalid_0's auc: 0.926688\n",
      "[1302]\tvalid_0's auc: 0.926685\n",
      "[1303]\tvalid_0's auc: 0.926708\n",
      "[1304]\tvalid_0's auc: 0.926711\n",
      "[1305]\tvalid_0's auc: 0.926709\n",
      "[1306]\tvalid_0's auc: 0.926736\n",
      "[1307]\tvalid_0's auc: 0.926724\n",
      "[1308]\tvalid_0's auc: 0.926725\n",
      "[1309]\tvalid_0's auc: 0.926745\n",
      "[1310]\tvalid_0's auc: 0.92673\n",
      "[1311]\tvalid_0's auc: 0.926769\n",
      "[1312]\tvalid_0's auc: 0.926751\n",
      "[1313]\tvalid_0's auc: 0.926773\n",
      "[1314]\tvalid_0's auc: 0.926772\n",
      "[1315]\tvalid_0's auc: 0.926776\n",
      "[1316]\tvalid_0's auc: 0.926771\n",
      "[1317]\tvalid_0's auc: 0.926794\n",
      "[1318]\tvalid_0's auc: 0.926776\n",
      "[1319]\tvalid_0's auc: 0.926755\n",
      "[1320]\tvalid_0's auc: 0.926757\n",
      "[1321]\tvalid_0's auc: 0.92674\n",
      "[1322]\tvalid_0's auc: 0.926719\n",
      "[1323]\tvalid_0's auc: 0.9267\n",
      "[1324]\tvalid_0's auc: 0.926709\n",
      "[1325]\tvalid_0's auc: 0.926697\n",
      "[1326]\tvalid_0's auc: 0.926693\n",
      "[1327]\tvalid_0's auc: 0.926668\n",
      "[1328]\tvalid_0's auc: 0.926691\n",
      "[1329]\tvalid_0's auc: 0.92667\n",
      "[1330]\tvalid_0's auc: 0.926677\n",
      "[1331]\tvalid_0's auc: 0.92667\n",
      "[1332]\tvalid_0's auc: 0.926664\n",
      "[1333]\tvalid_0's auc: 0.926658\n",
      "[1334]\tvalid_0's auc: 0.926646\n",
      "[1335]\tvalid_0's auc: 0.92663\n",
      "[1336]\tvalid_0's auc: 0.92664\n",
      "[1337]\tvalid_0's auc: 0.926636\n",
      "[1338]\tvalid_0's auc: 0.926643\n",
      "[1339]\tvalid_0's auc: 0.926629\n",
      "[1340]\tvalid_0's auc: 0.926611\n",
      "[1341]\tvalid_0's auc: 0.926635\n",
      "[1342]\tvalid_0's auc: 0.926619\n",
      "[1343]\tvalid_0's auc: 0.926643\n",
      "[1344]\tvalid_0's auc: 0.926679\n",
      "[1345]\tvalid_0's auc: 0.926696\n",
      "[1346]\tvalid_0's auc: 0.926714\n",
      "[1347]\tvalid_0's auc: 0.926735\n",
      "[1348]\tvalid_0's auc: 0.926738\n",
      "[1349]\tvalid_0's auc: 0.926724\n",
      "[1350]\tvalid_0's auc: 0.926743\n",
      "[1351]\tvalid_0's auc: 0.926757\n",
      "[1352]\tvalid_0's auc: 0.926748\n",
      "[1353]\tvalid_0's auc: 0.926732\n",
      "[1354]\tvalid_0's auc: 0.926746\n",
      "[1355]\tvalid_0's auc: 0.926756\n",
      "[1356]\tvalid_0's auc: 0.926721\n",
      "[1357]\tvalid_0's auc: 0.926718\n",
      "[1358]\tvalid_0's auc: 0.926735\n",
      "[1359]\tvalid_0's auc: 0.926712\n",
      "[1360]\tvalid_0's auc: 0.92673\n",
      "[1361]\tvalid_0's auc: 0.92674\n",
      "[1362]\tvalid_0's auc: 0.926744\n",
      "[1363]\tvalid_0's auc: 0.926726\n",
      "[1364]\tvalid_0's auc: 0.926752\n",
      "[1365]\tvalid_0's auc: 0.926744\n",
      "[1366]\tvalid_0's auc: 0.926754\n",
      "[1367]\tvalid_0's auc: 0.926748\n",
      "[1368]\tvalid_0's auc: 0.926766\n",
      "[1369]\tvalid_0's auc: 0.92677\n",
      "[1370]\tvalid_0's auc: 0.92679\n",
      "[1371]\tvalid_0's auc: 0.926773\n",
      "[1372]\tvalid_0's auc: 0.926786\n",
      "[1373]\tvalid_0's auc: 0.926773\n",
      "[1374]\tvalid_0's auc: 0.926761\n",
      "[1375]\tvalid_0's auc: 0.926768\n",
      "[1376]\tvalid_0's auc: 0.926757\n",
      "[1377]\tvalid_0's auc: 0.926755\n",
      "[1378]\tvalid_0's auc: 0.926767\n",
      "[1379]\tvalid_0's auc: 0.926764\n",
      "[1380]\tvalid_0's auc: 0.926761\n",
      "[1381]\tvalid_0's auc: 0.926765\n",
      "[1382]\tvalid_0's auc: 0.926749\n",
      "[1383]\tvalid_0's auc: 0.926761\n",
      "[1384]\tvalid_0's auc: 0.926768\n",
      "[1385]\tvalid_0's auc: 0.926743\n",
      "[1386]\tvalid_0's auc: 0.926743\n",
      "[1387]\tvalid_0's auc: 0.926727\n",
      "[1388]\tvalid_0's auc: 0.926726\n",
      "[1389]\tvalid_0's auc: 0.926702\n",
      "[1390]\tvalid_0's auc: 0.926697\n",
      "[1391]\tvalid_0's auc: 0.92668\n",
      "[1392]\tvalid_0's auc: 0.926703\n",
      "[1393]\tvalid_0's auc: 0.92672\n",
      "[1394]\tvalid_0's auc: 0.926724\n",
      "[1395]\tvalid_0's auc: 0.92673\n",
      "[1396]\tvalid_0's auc: 0.926733\n",
      "[1397]\tvalid_0's auc: 0.926749\n",
      "[1398]\tvalid_0's auc: 0.926755\n",
      "[1399]\tvalid_0's auc: 0.926737\n",
      "[1400]\tvalid_0's auc: 0.926715\n",
      "[1401]\tvalid_0's auc: 0.926702\n",
      "[1402]\tvalid_0's auc: 0.926699\n",
      "[1403]\tvalid_0's auc: 0.926693\n",
      "[1404]\tvalid_0's auc: 0.926669\n",
      "[1405]\tvalid_0's auc: 0.926687\n",
      "[1406]\tvalid_0's auc: 0.926681\n",
      "[1407]\tvalid_0's auc: 0.926667\n",
      "[1408]\tvalid_0's auc: 0.926658\n",
      "[1409]\tvalid_0's auc: 0.926636\n",
      "[1410]\tvalid_0's auc: 0.926649\n",
      "[1411]\tvalid_0's auc: 0.926622\n",
      "[1412]\tvalid_0's auc: 0.926621\n",
      "[1413]\tvalid_0's auc: 0.926623\n",
      "[1414]\tvalid_0's auc: 0.926603\n",
      "[1415]\tvalid_0's auc: 0.926617\n",
      "[1416]\tvalid_0's auc: 0.926633\n",
      "[1417]\tvalid_0's auc: 0.926659\n",
      "Early stopping, best iteration is:\n",
      "[1317]\tvalid_0's auc: 0.926794\n"
     ]
    }
   ],
   "source": [
    "model_lgbm = lgb.train(parameters,\n",
    "                       train_data,\n",
    "                       valid_sets=test_data,\n",
    "                       num_boost_round=10000,\n",
    "                       early_stopping_rounds=100)"
   ]
  },
  {
   "cell_type": "code",
   "execution_count": 113,
   "metadata": {},
   "outputs": [],
   "source": [
    "#0.928349"
   ]
  },
  {
   "cell_type": "code",
   "execution_count": 114,
   "metadata": {},
   "outputs": [],
   "source": [
    "#Prediction\n",
    "y_pred_lg =  model_lgbm.predict(xg_X_test)"
   ]
  },
  {
   "cell_type": "code",
   "execution_count": 115,
   "metadata": {},
   "outputs": [],
   "source": [
    "#convert into binary values\n",
    "for i in range(0,len(y_pred_lg)):\n",
    "    if y_pred_lg[i]>=.5:       # setting threshold to .5\n",
    "       y_pred_lg[i]=1\n",
    "    else:  \n",
    "       y_pred_lg[i]=0"
   ]
  },
  {
   "cell_type": "code",
   "execution_count": 116,
   "metadata": {},
   "outputs": [
    {
     "data": {
      "text/plain": [
       "0.8446186742694226"
      ]
     },
     "execution_count": 116,
     "metadata": {},
     "output_type": "execute_result"
    }
   ],
   "source": [
    "from sklearn.metrics import f1_score\n",
    "\n",
    "f1_score(xg_y_test, y_pred_lg)"
   ]
  },
  {
   "cell_type": "code",
   "execution_count": 117,
   "metadata": {},
   "outputs": [
    {
     "name": "stdout",
     "output_type": "stream",
     "text": [
      "AUC: 0.847\n"
     ]
    },
    {
     "data": {
      "image/png": "[encoded data removed]",
      "text/plain": [
       "<Figure size 432x288 with 1 Axes>"
      ]
     },
     "metadata": {
      "needs_background": "light"
     },
     "output_type": "display_data"
    }
   ],
   "source": [
    "auc = roc_auc_score(xg_y_test, y_pred_lg)\n",
    "print('AUC: %.3f' % auc)\n",
    "# calculate roc curve\n",
    "fpr, tpr, thresholds = roc_curve(xg_y_test, y_pred_lg)\n",
    "# plot no skill\n",
    "pyplot.plot([0, 1], [0, 1], linestyle='--')\n",
    "# plot the roc curve for the model\n",
    "pyplot.plot(fpr, tpr, marker='.')\n",
    "# show the plot\n",
    "pyplot.show()"
   ]
  },
  {
   "cell_type": "markdown",
   "metadata": {},
   "source": [
    "# Modelo de ensamble"
   ]
  },
  {
   "cell_type": "code",
   "execution_count": 118,
   "metadata": {},
   "outputs": [],
   "source": [
    "xg_preds = xg_model.predict(xg_X_test)\n",
    "rf_preds = rclf.predict(xg_X_test)\n",
    "lg_preds=y_pred_lg"
   ]
  },
  {
   "cell_type": "code",
   "execution_count": 119,
   "metadata": {},
   "outputs": [],
   "source": [
    "df_total = pd.DataFrame(xg_preds, columns=['pred_xg']) \n",
    "df_total['pred_rf'] = pd.DataFrame(rf_preds, columns=['pred_rf']) \n",
    "df_total['pred_lg'] = pd.DataFrame(lg_preds, columns=['pred_lg']) "
   ]
  },
  {
   "cell_type": "code",
   "execution_count": 120,
   "metadata": {},
   "outputs": [],
   "source": [
    "df_total['Final'] = df_total['pred_xg']*(1/4) + df_total['pred_rf']*(1/4) + df_total['pred_lg']*(1/2)"
   ]
  },
  {
   "cell_type": "code",
   "execution_count": 121,
   "metadata": {},
   "outputs": [],
   "source": [
    "#Prediction\n",
    "y_pred_en= df_total['Final'] \n",
    "#convert into binary values\n",
    "for i in range(0,len(y_pred_en)):\n",
    "    if y_pred_en[i]>=.5:       # setting threshold to .5\n",
    "       y_pred_en[i]=1\n",
    "    else:  \n",
    "       y_pred_en[i]=0"
   ]
  },
  {
   "cell_type": "code",
   "execution_count": 122,
   "metadata": {},
   "outputs": [
    {
     "data": {
      "text/plain": [
       "0.8473255402054553"
      ]
     },
     "execution_count": 122,
     "metadata": {},
     "output_type": "execute_result"
    }
   ],
   "source": [
    "from sklearn.metrics import f1_score\n",
    "\n",
    "f1_score(xg_y_test, y_pred_en)"
   ]
  },
  {
   "cell_type": "code",
   "execution_count": 123,
   "metadata": {},
   "outputs": [
    {
     "name": "stdout",
     "output_type": "stream",
     "text": [
      "AUC: 0.849\n"
     ]
    },
    {
     "data": {
      "image/png": "[encoded data removed]",
      "text/plain": [
       "<Figure size 432x288 with 1 Axes>"
      ]
     },
     "metadata": {
      "needs_background": "light"
     },
     "output_type": "display_data"
    }
   ],
   "source": [
    "auc = roc_auc_score(xg_y_test, y_pred_en)\n",
    "print('AUC: %.3f' % auc)\n",
    "# calculate roc curve\n",
    "fpr, tpr, thresholds = roc_curve(xg_y_test, y_pred_en)\n",
    "# plot no skill\n",
    "pyplot.plot([0, 1], [0, 1], linestyle='--')\n",
    "# plot the roc curve for the model\n",
    "pyplot.plot(fpr, tpr, marker='.')\n",
    "# show the plot\n",
    "pyplot.show()"
   ]
  },
  {
   "cell_type": "markdown",
   "metadata": {},
   "source": [
    "# Predicción"
   ]
  },
  {
   "cell_type": "code",
   "execution_count": 124,
   "metadata": {},
   "outputs": [],
   "source": [
    "xg_preds = xg_model.predict(final_X_test)\n",
    "rf_preds = rclf.predict(final_X_test)\n",
    "lg_preds= model_lgbm.predict(final_X_test)"
   ]
  },
  {
   "cell_type": "code",
   "execution_count": 125,
   "metadata": {},
   "outputs": [],
   "source": [
    "#convert into binary values\n",
    "for i in range(0,len(lg_preds)):\n",
    "    if lg_preds[i]>=.5:       # setting threshold to .5\n",
    "       lg_preds[i]=1\n",
    "    else:  \n",
    "       lg_preds[i]=0"
   ]
  },
  {
   "cell_type": "code",
   "execution_count": 126,
   "metadata": {},
   "outputs": [],
   "source": [
    "df_total = pd.DataFrame(xg_preds, columns=['pred_xg']) \n",
    "df_total['pred_rf'] = pd.DataFrame(rf_preds, columns=['pred_rf']) \n",
    "df_total['pred_lg'] = pd.DataFrame(lg_preds, columns=['pred_lg']) "
   ]
  },
  {
   "cell_type": "code",
   "execution_count": 127,
   "metadata": {},
   "outputs": [],
   "source": [
    "df_total['Final'] = df_total['pred_xg']*(1/4) + df_total['pred_rf']*(1/4) + df_total['pred_lg']*(1/2)"
   ]
  },
  {
   "cell_type": "code",
   "execution_count": 128,
   "metadata": {},
   "outputs": [],
   "source": [
    "#Prediction\n",
    "xg_preds= df_total['Final'] \n",
    "#convert into binary values\n",
    "for i in range(0,len(xg_preds)):\n",
    "    if xg_preds[i]>=.5:       # setting threshold to .5\n",
    "       xg_preds[i]=1\n",
    "    else:  \n",
    "       xg_preds[i]=0"
   ]
  },
  {
   "cell_type": "code",
   "execution_count": 129,
   "metadata": {},
   "outputs": [],
   "source": [
    "sub = pd.DataFrame()\n",
    "sub['id'] = test_id\n",
    "sub['rating'] = xg_preds"
   ]
  },
  {
   "cell_type": "code",
   "execution_count": 130,
   "metadata": {},
   "outputs": [],
   "source": [
    "sub.to_csv('../data/Submission_i.csv', index=False)"
   ]
  }
 ],
 "metadata": {
  "kernelspec": {
   "display_name": "Python 3",
   "language": "python",
   "name": "python3"
  },
  "language_info": {
   "codemirror_mode": {
    "name": "ipython",
    "version": 3
   },
   "file_extension": ".py",
   "mimetype": "text/x-python",
   "name": "python",
   "nbconvert_exporter": "python",
   "pygments_lexer": "ipython3",
   "version": "3.8.3"
  }
 },
 "nbformat": 4,
 "nbformat_minor": 4
}
