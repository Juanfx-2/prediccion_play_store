{
 "cells": [
  {
   "cell_type": "markdown",
   "metadata": {},
   "source": [
    "# Prediciendo El Rating De Las Aplicaciones En Google Play Store"
   ]
  },
  {
   "cell_type": "markdown",
   "metadata": {},
   "source": [
    "### Descripción\n",
    "\n",
    "El mercado de las aplicaciones móviles cada vez es más competitivo y entender que variables pueden favorecer a la hora de diseñar dichas aplicaciones puede ser de gran ayuda en la toma de decisiones de negocio.  \n",
    "\n",
    "El objetivo de esta competencia será analizar y clasificar el rating de las aplicaciones móviles en el mercado Android de Google Play Store. "
   ]
  },
  {
   "cell_type": "markdown",
   "metadata": {},
   "source": [
    "\n",
    "### Dataset\n",
    "\n",
    "El conjunto de datos contiene características principales de las aplicaciones en el mercado de Google Play Store. \n",
    "\n",
    "Definición de variables:\n",
    "\n",
    "#### ID  = Identificador único de la aplicación\n",
    "#### App  = Nombre de la aplicación\n",
    "#### Category  =  Categoría de la aplicación \n",
    "#### Reviews = Numero de reseñas de la aplicación \n",
    "#### Size  = Tamaño de la aplicación \n",
    "#### Installs  = Numero de descargas/instalaciones en el equipo\n",
    "#### Type = Gratis (Free) o Paid (Paga)\n",
    "#### Price  = Precio de la aplicación en dólares\n",
    "#### Content rating = Calificación de contenido\n",
    "#### Genres = Géneros\n",
    "#### Last Updated = Ultimo día de actualización \n",
    "#### Current Ver = Versión actual de la aplicación \n",
    "#### Android Ver = Versión de Android requerida\n",
    "#### Rating = Calificación de la aplicación "
   ]
  },
  {
   "cell_type": "markdown",
   "metadata": {},
   "source": [
    "# Loading & Exploring the Data Structure"
   ]
  },
  {
   "cell_type": "markdown",
   "metadata": {},
   "source": [
    "Cargue de librerias"
   ]
  },
  {
   "cell_type": "code",
   "execution_count": 1,
   "metadata": {},
   "outputs": [],
   "source": [
    "import pandas as pd\n",
    "import numpy as np\n",
    "import matplotlib.pyplot as plt\n",
    "import seaborn as sns\n",
    "import missingno as msno\n",
    "from time import time\n",
    "\n",
    "from math import sqrt\n",
    "import statsmodels.api as sm\n",
    "from statsmodels.formula.api import ols\n",
    "import scipy.stats as st\n",
    "from scipy.special import boxcox1p\n",
    "\n",
    "from sklearn.cluster import KMeans\n",
    "from sklearn import svm\n",
    "from sklearn.metrics import mean_absolute_error, mean_squared_error\n",
    "from sklearn.model_selection import train_test_split, KFold, cross_val_score, GridSearchCV\n",
    "from sklearn.preprocessing import RobustScaler, LabelEncoder, StandardScaler\n",
    "from sklearn.linear_model import Lasso, Ridge\n",
    "from sklearn.pipeline import make_pipeline\n",
    "from xgboost.sklearn import XGBClassifier"
   ]
  },
  {
   "cell_type": "markdown",
   "metadata": {},
   "source": [
    "Cargue de datasets"
   ]
  },
  {
   "cell_type": "code",
   "execution_count": 2,
   "metadata": {},
   "outputs": [],
   "source": [
    "train = pd.read_csv(\"../data/Train.csv\")\n",
    "test = pd.read_csv(\"../data/Test.csv\")"
   ]
  },
  {
   "cell_type": "code",
   "execution_count": 3,
   "metadata": {},
   "outputs": [
    {
     "name": "stdout",
     "output_type": "stream",
     "text": [
      "Dimensions of Train Dataset:(5788, 14)\n",
      "Dimensions of Test Dataset:(1448, 13)\n"
     ]
    }
   ],
   "source": [
    "print(\"Dimensions of Train Dataset:\" + str(train.shape))\n",
    "print(\"Dimensions of Test Dataset:\" + str(test.shape))"
   ]
  },
  {
   "cell_type": "code",
   "execution_count": 4,
   "metadata": {},
   "outputs": [
    {
     "data": {
      "text/plain": [
       "array([1., 0.])"
      ]
     },
     "execution_count": 4,
     "metadata": {},
     "output_type": "execute_result"
    }
   ],
   "source": [
    "train['Rating'].unique()"
   ]
  },
  {
   "cell_type": "code",
   "execution_count": 5,
   "metadata": {},
   "outputs": [
    {
     "name": "stdout",
     "output_type": "stream",
     "text": [
      "<class 'pandas.core.frame.DataFrame'>\n",
      "RangeIndex: 5788 entries, 0 to 5787\n",
      "Data columns (total 14 columns):\n",
      " #   Column          Non-Null Count  Dtype  \n",
      "---  ------          --------------  -----  \n",
      " 0   ID              5788 non-null   int64  \n",
      " 1   App             5788 non-null   object \n",
      " 2   Category        5788 non-null   object \n",
      " 3   Rating          5788 non-null   float64\n",
      " 4   Reviews         5788 non-null   int64  \n",
      " 5   Size            5788 non-null   object \n",
      " 6   Installs        5788 non-null   object \n",
      " 7   Type            5788 non-null   object \n",
      " 8   Price           5788 non-null   object \n",
      " 9   Content Rating  5788 non-null   object \n",
      " 10  Genres          5788 non-null   object \n",
      " 11  Last Updated    5788 non-null   object \n",
      " 12  Current Ver     5788 non-null   object \n",
      " 13  Android Ver     5788 non-null   object \n",
      "dtypes: float64(1), int64(2), object(11)\n",
      "memory usage: 633.2+ KB\n"
     ]
    }
   ],
   "source": [
    "train.iloc[:,0:18].info()"
   ]
  },
  {
   "cell_type": "markdown",
   "metadata": {},
   "source": [
    "A continuación, vamos a definir algunas variables que se utilizarán en análisis posteriores, además de ser necesarias para el archivo de envío."
   ]
  },
  {
   "cell_type": "code",
   "execution_count": 6,
   "metadata": {},
   "outputs": [],
   "source": [
    "y_train = train['Rating']\n",
    "test_id = test['ID']\n",
    "\n",
    "#Tamaño de los datasets\n",
    "ntrain = train.shape[0]\n",
    "ntest = test.shape[0]"
   ]
  },
  {
   "cell_type": "markdown",
   "metadata": {},
   "source": [
    "ahora vamos a combinar la base train y test para explorar los datos e imputar los valores faltantes."
   ]
  },
  {
   "cell_type": "code",
   "execution_count": 7,
   "metadata": {},
   "outputs": [],
   "source": [
    "all_data = pd.concat((train, test), sort=True).reset_index(drop=True)\n",
    "all_data['Dataset'] = np.repeat(['Train', 'Test'], [ntrain, ntest], axis=0)\n",
    "all_data.drop('ID', axis=1,inplace=True)"
   ]
  },
  {
   "cell_type": "markdown",
   "metadata": {},
   "source": [
    "# Exploring the Variables\n",
    "\n",
    "## Exploracion variable de respuesta"
   ]
  },
  {
   "cell_type": "markdown",
   "metadata": {},
   "source": [
    "Dado que es un ranking normalmente debería ser una variable continua (1 - 5) sin embargo esat variable solo tiene 1 y 0"
   ]
  },
  {
   "cell_type": "markdown",
   "metadata": {},
   "source": [
    "# Data Imputation\n",
    "\n",
    "\n",
    "Completitud de los datos\n",
    "\n",
    "Solo encontramos que los datos de Rating del data frame Test son las faltantes, de resto no hay datos faltantes"
   ]
  },
  {
   "cell_type": "code",
   "execution_count": 8,
   "metadata": {
    "scrolled": true
   },
   "outputs": [
    {
     "data": {
      "text/html": [
       "<div>\n",
       "<style scoped>\n",
       "    .dataframe tbody tr th:only-of-type {\n",
       "        vertical-align: middle;\n",
       "    }\n",
       "\n",
       "    .dataframe tbody tr th {\n",
       "        vertical-align: top;\n",
       "    }\n",
       "\n",
       "    .dataframe thead th {\n",
       "        text-align: right;\n",
       "    }\n",
       "</style>\n",
       "<table border=\"1\" class=\"dataframe\">\n",
       "  <thead>\n",
       "    <tr style=\"text-align: right;\">\n",
       "      <th></th>\n",
       "      <th>Number of Missing Values</th>\n",
       "    </tr>\n",
       "  </thead>\n",
       "  <tbody>\n",
       "    <tr>\n",
       "      <th>Rating</th>\n",
       "      <td>1448</td>\n",
       "    </tr>\n",
       "  </tbody>\n",
       "</table>\n",
       "</div>"
      ],
      "text/plain": [
       "        Number of Missing Values\n",
       "Rating                      1448"
      ]
     },
     "metadata": {},
     "output_type": "display_data"
    }
   ],
   "source": [
    "cols_with_missing_values = all_data.isnull().sum().sort_values(ascending=False)\n",
    "display(pd.DataFrame(cols_with_missing_values[cols_with_missing_values[cols_with_missing_values > 0].index], \n",
    "                     columns=[\"Number of Missing Values\"]))"
   ]
  },
  {
   "cell_type": "markdown",
   "metadata": {},
   "source": [
    "# Feature Engineering"
   ]
  },
  {
   "cell_type": "code",
   "execution_count": 9,
   "metadata": {},
   "outputs": [
    {
     "data": {
      "text/html": [
       "<div>\n",
       "<style scoped>\n",
       "    .dataframe tbody tr th:only-of-type {\n",
       "        vertical-align: middle;\n",
       "    }\n",
       "\n",
       "    .dataframe tbody tr th {\n",
       "        vertical-align: top;\n",
       "    }\n",
       "\n",
       "    .dataframe thead th {\n",
       "        text-align: right;\n",
       "    }\n",
       "</style>\n",
       "<table border=\"1\" class=\"dataframe\">\n",
       "  <thead>\n",
       "    <tr style=\"text-align: right;\">\n",
       "      <th></th>\n",
       "      <th>Android Ver</th>\n",
       "      <th>App</th>\n",
       "      <th>Category</th>\n",
       "      <th>Content Rating</th>\n",
       "      <th>Current Ver</th>\n",
       "      <th>Genres</th>\n",
       "      <th>Installs</th>\n",
       "      <th>Last Updated</th>\n",
       "      <th>Price</th>\n",
       "      <th>Rating</th>\n",
       "      <th>Reviews</th>\n",
       "      <th>Size</th>\n",
       "      <th>Type</th>\n",
       "      <th>Dataset</th>\n",
       "    </tr>\n",
       "  </thead>\n",
       "  <tbody>\n",
       "    <tr>\n",
       "      <th>0</th>\n",
       "      <td>4.0 and up</td>\n",
       "      <td>GPS Status &amp; Toolbox</td>\n",
       "      <td>TRAVEL_AND_LOCAL</td>\n",
       "      <td>Everyone</td>\n",
       "      <td>8.1.171</td>\n",
       "      <td>Travel &amp; Local</td>\n",
       "      <td>10,000,000+</td>\n",
       "      <td>June 13, 2018</td>\n",
       "      <td>0</td>\n",
       "      <td>1.0</td>\n",
       "      <td>149723</td>\n",
       "      <td>4.1M</td>\n",
       "      <td>Free</td>\n",
       "      <td>Train</td>\n",
       "    </tr>\n",
       "    <tr>\n",
       "      <th>1</th>\n",
       "      <td>4.1 and up</td>\n",
       "      <td>Fish|Hunt FL</td>\n",
       "      <td>LIFESTYLE</td>\n",
       "      <td>Everyone</td>\n",
       "      <td>3.2.0</td>\n",
       "      <td>Lifestyle</td>\n",
       "      <td>100,000+</td>\n",
       "      <td>March 22, 2018</td>\n",
       "      <td>0</td>\n",
       "      <td>0.0</td>\n",
       "      <td>853</td>\n",
       "      <td>34M</td>\n",
       "      <td>Free</td>\n",
       "      <td>Train</td>\n",
       "    </tr>\n",
       "    <tr>\n",
       "      <th>2</th>\n",
       "      <td>Varies with device</td>\n",
       "      <td>Allrecipes Dinner Spinner</td>\n",
       "      <td>FOOD_AND_DRINK</td>\n",
       "      <td>Everyone</td>\n",
       "      <td>Varies with device</td>\n",
       "      <td>Food &amp; Drink</td>\n",
       "      <td>5,000,000+</td>\n",
       "      <td>April 10, 2018</td>\n",
       "      <td>0</td>\n",
       "      <td>1.0</td>\n",
       "      <td>61881</td>\n",
       "      <td>Varies with device</td>\n",
       "      <td>Free</td>\n",
       "      <td>Train</td>\n",
       "    </tr>\n",
       "    <tr>\n",
       "      <th>3</th>\n",
       "      <td>2.3 and up</td>\n",
       "      <td>Don't touch my phone</td>\n",
       "      <td>TOOLS</td>\n",
       "      <td>Everyone</td>\n",
       "      <td>30</td>\n",
       "      <td>Tools</td>\n",
       "      <td>5,000,000+</td>\n",
       "      <td>October 19, 2016</td>\n",
       "      <td>0</td>\n",
       "      <td>0.0</td>\n",
       "      <td>21943</td>\n",
       "      <td>2.3M</td>\n",
       "      <td>Free</td>\n",
       "      <td>Train</td>\n",
       "    </tr>\n",
       "    <tr>\n",
       "      <th>4</th>\n",
       "      <td>4.1 and up</td>\n",
       "      <td>BM SPM Practice</td>\n",
       "      <td>FAMILY</td>\n",
       "      <td>Everyone</td>\n",
       "      <td>1.0</td>\n",
       "      <td>Education</td>\n",
       "      <td>1,000+</td>\n",
       "      <td>January 24, 2018</td>\n",
       "      <td>0</td>\n",
       "      <td>1.0</td>\n",
       "      <td>6</td>\n",
       "      <td>9.2M</td>\n",
       "      <td>Free</td>\n",
       "      <td>Train</td>\n",
       "    </tr>\n",
       "  </tbody>\n",
       "</table>\n",
       "</div>"
      ],
      "text/plain": [
       "          Android Ver                        App          Category  \\\n",
       "0          4.0 and up       GPS Status & Toolbox  TRAVEL_AND_LOCAL   \n",
       "1          4.1 and up               Fish|Hunt FL         LIFESTYLE   \n",
       "2  Varies with device  Allrecipes Dinner Spinner    FOOD_AND_DRINK   \n",
       "3          2.3 and up       Don't touch my phone             TOOLS   \n",
       "4          4.1 and up            BM SPM Practice            FAMILY   \n",
       "\n",
       "  Content Rating         Current Ver          Genres     Installs  \\\n",
       "0       Everyone             8.1.171  Travel & Local  10,000,000+   \n",
       "1       Everyone               3.2.0       Lifestyle     100,000+   \n",
       "2       Everyone  Varies with device    Food & Drink   5,000,000+   \n",
       "3       Everyone                  30           Tools   5,000,000+   \n",
       "4       Everyone                 1.0       Education       1,000+   \n",
       "\n",
       "       Last Updated Price  Rating  Reviews                Size  Type Dataset  \n",
       "0     June 13, 2018     0     1.0   149723                4.1M  Free   Train  \n",
       "1    March 22, 2018     0     0.0      853                 34M  Free   Train  \n",
       "2    April 10, 2018     0     1.0    61881  Varies with device  Free   Train  \n",
       "3  October 19, 2016     0     0.0    21943                2.3M  Free   Train  \n",
       "4  January 24, 2018     0     1.0        6                9.2M  Free   Train  "
      ]
     },
     "execution_count": 9,
     "metadata": {},
     "output_type": "execute_result"
    }
   ],
   "source": [
    "all_data.head()"
   ]
  },
  {
   "cell_type": "markdown",
   "metadata": {},
   "source": [
    "### Android Ver\n",
    "\n",
    "Vamos a crear dos columnas nuevas, la primera es la versión minima de android, la segunda la versión maxima"
   ]
  },
  {
   "cell_type": "code",
   "execution_count": 10,
   "metadata": {},
   "outputs": [],
   "source": [
    "#version minima \n",
    "all_data['Ver Min'] =  pd.to_numeric(all_data['Android Ver'].str[:3], errors='coerce') "
   ]
  },
  {
   "cell_type": "code",
   "execution_count": 11,
   "metadata": {},
   "outputs": [],
   "source": [
    "#Reemplazamos por la mediana\n",
    "all_data['Ver Min'].fillna(all_data['Ver Min'].median(), inplace=True)"
   ]
  },
  {
   "cell_type": "code",
   "execution_count": 12,
   "metadata": {},
   "outputs": [],
   "source": [
    "#version maxima\n",
    "all_data['Ver Max'] = all_data['Android Ver'].str[-5:]"
   ]
  },
  {
   "cell_type": "code",
   "execution_count": 13,
   "metadata": {},
   "outputs": [
    {
     "data": {
      "text/plain": [
       "array(['nd up', 'evice', '7.1.1', '- 8.0', '- 6.0'], dtype=object)"
      ]
     },
     "execution_count": 13,
     "metadata": {},
     "output_type": "execute_result"
    }
   ],
   "source": [
    "all_data['Ver Max'].unique()"
   ]
  },
  {
   "cell_type": "code",
   "execution_count": 14,
   "metadata": {},
   "outputs": [],
   "source": [
    "all_data['Ver Max'] = all_data['Ver Max'].replace('7.1.1', '7.1')\n",
    "all_data['Ver Max'] = all_data['Ver Max'].replace('- 8.0', '8.0')\n",
    "all_data['Ver Max'] = all_data['Ver Max'].replace('- 6.0', '6.0')\n",
    "all_data['Ver Max'] = all_data['Ver Max'].replace('nd up', '9.0') #Version vigente para la fecha del data frame"
   ]
  },
  {
   "cell_type": "code",
   "execution_count": 15,
   "metadata": {},
   "outputs": [],
   "source": [
    "#Convertimos en numerica\n",
    "all_data['Ver Max'] =  pd.to_numeric(all_data['Ver Max'].str[:3], errors='coerce') "
   ]
  },
  {
   "cell_type": "code",
   "execution_count": 16,
   "metadata": {},
   "outputs": [],
   "source": [
    "#Reemplazamos por la mediana\n",
    "all_data['Ver Max'].fillna(all_data['Ver Max'].median(), inplace=True)"
   ]
  },
  {
   "cell_type": "code",
   "execution_count": 17,
   "metadata": {},
   "outputs": [],
   "source": [
    "#Eliminamos la variable de version original\n",
    "\n",
    "all_data.drop(['Android Ver'], axis=1, inplace=True)"
   ]
  },
  {
   "cell_type": "markdown",
   "metadata": {},
   "source": [
    "### Category"
   ]
  },
  {
   "cell_type": "code",
   "execution_count": 18,
   "metadata": {},
   "outputs": [],
   "source": [
    "Category_agrup =  all_data[['Category', 'Rating']].groupby(['Category']).agg(['mean', 'count'])"
   ]
  },
  {
   "cell_type": "code",
   "execution_count": 19,
   "metadata": {},
   "outputs": [],
   "source": [
    "Category_agrup.columns = ['mean', 'count']\n",
    "Category_agrup.reset_index(inplace=True)"
   ]
  },
  {
   "cell_type": "code",
   "execution_count": 20,
   "metadata": {},
   "outputs": [],
   "source": [
    "#Category_agrup.sort_values(by=['mean'], ascending=False)"
   ]
  },
  {
   "cell_type": "code",
   "execution_count": 21,
   "metadata": {},
   "outputs": [],
   "source": [
    "R_by_category =  all_data[all_data['Dataset'] == 'Train'].groupby(['Category']).mean()"
   ]
  },
  {
   "cell_type": "code",
   "execution_count": 22,
   "metadata": {},
   "outputs": [],
   "source": [
    "R_by_category.reset_index(level=0, inplace=True)"
   ]
  },
  {
   "cell_type": "code",
   "execution_count": 23,
   "metadata": {},
   "outputs": [],
   "source": [
    "R_by_category.drop(['Reviews', 'Ver Min', 'Ver Max'], axis=1, inplace=True)"
   ]
  },
  {
   "cell_type": "code",
   "execution_count": 24,
   "metadata": {},
   "outputs": [],
   "source": [
    "R_by_category.columns = ['Category', 'Rating_cat']"
   ]
  },
  {
   "cell_type": "code",
   "execution_count": 25,
   "metadata": {},
   "outputs": [],
   "source": [
    "all_data = pd.merge(all_data, R_by_category[['Category', 'Rating_cat']], left_on= ['Category'], right_on=['Category'], how = 'left')"
   ]
  },
  {
   "cell_type": "code",
   "execution_count": 26,
   "metadata": {},
   "outputs": [],
   "source": [
    "#Eliminamos la variable de version original\n",
    "\n",
    "all_data.drop(['Category'], axis=1, inplace=True)"
   ]
  },
  {
   "cell_type": "markdown",
   "metadata": {},
   "source": [
    "### Genres"
   ]
  },
  {
   "cell_type": "code",
   "execution_count": null,
   "metadata": {},
   "outputs": [],
   "source": []
  },
  {
   "cell_type": "code",
   "execution_count": 27,
   "metadata": {},
   "outputs": [],
   "source": [
    "a = all_data['Genres'].str.split(\";\", n = 1, expand = True)"
   ]
  },
  {
   "cell_type": "code",
   "execution_count": 28,
   "metadata": {},
   "outputs": [],
   "source": [
    "a.columns = ['Genre_1', 'Genre_2']"
   ]
  },
  {
   "cell_type": "code",
   "execution_count": 29,
   "metadata": {},
   "outputs": [],
   "source": [
    "a = a['Genre_1'].str.split(\"&\", n = 1, expand = True)"
   ]
  },
  {
   "cell_type": "code",
   "execution_count": 30,
   "metadata": {},
   "outputs": [],
   "source": [
    "a.columns = ['Genre_1', 'Genre_2']"
   ]
  },
  {
   "cell_type": "code",
   "execution_count": 31,
   "metadata": {},
   "outputs": [],
   "source": [
    "all_data['Genres'] = a['Genre_1']"
   ]
  },
  {
   "cell_type": "code",
   "execution_count": 32,
   "metadata": {},
   "outputs": [],
   "source": [
    "Genres_agrup =  all_data[['Genres', 'Rating']].groupby(['Genres']).agg(['mean', 'count'])"
   ]
  },
  {
   "cell_type": "code",
   "execution_count": 33,
   "metadata": {},
   "outputs": [],
   "source": [
    "R_by_Genre =  all_data[all_data['Dataset'] == 'Train'].groupby(['Genres']).sum()"
   ]
  },
  {
   "cell_type": "code",
   "execution_count": 34,
   "metadata": {},
   "outputs": [],
   "source": [
    "R_by_Genre.reset_index(level=0, inplace=True)"
   ]
  },
  {
   "cell_type": "code",
   "execution_count": 35,
   "metadata": {},
   "outputs": [],
   "source": [
    "R_by_Genre.drop(['Reviews', 'Ver Min', 'Ver Max', 'Rating_cat'], axis=1, inplace=True)"
   ]
  },
  {
   "cell_type": "code",
   "execution_count": 36,
   "metadata": {},
   "outputs": [],
   "source": [
    "R_by_Genre.columns = ['Genres', 'Rating_Gen']"
   ]
  },
  {
   "cell_type": "code",
   "execution_count": 37,
   "metadata": {},
   "outputs": [],
   "source": [
    "all_data = pd.merge(all_data, R_by_Genre[['Genres', 'Rating_Gen']], left_on= ['Genres'], right_on=['Genres'], how = 'left')"
   ]
  },
  {
   "cell_type": "code",
   "execution_count": 38,
   "metadata": {},
   "outputs": [],
   "source": [
    "all_data.drop(['Genres'], axis=1, inplace=True)"
   ]
  },
  {
   "cell_type": "markdown",
   "metadata": {},
   "source": [
    "## Last Update"
   ]
  },
  {
   "cell_type": "code",
   "execution_count": 39,
   "metadata": {},
   "outputs": [],
   "source": [
    "all_data['Last Updated']  = all_data['Last Updated'] = pd.to_datetime(all_data['Last Updated'])"
   ]
  },
  {
   "cell_type": "code",
   "execution_count": 40,
   "metadata": {},
   "outputs": [],
   "source": [
    "all_data['Last Updated_days']  = all_data['Last Updated'] .max() - all_data['Last Updated']"
   ]
  },
  {
   "cell_type": "code",
   "execution_count": 41,
   "metadata": {},
   "outputs": [],
   "source": [
    "all_data['Last Updated_days'] = all_data['Last Updated_days'].apply(lambda x: x.days)"
   ]
  },
  {
   "cell_type": "code",
   "execution_count": 42,
   "metadata": {},
   "outputs": [],
   "source": [
    "all_data['Last Updated_days'] = all_data['Last Updated_days']/360"
   ]
  },
  {
   "cell_type": "code",
   "execution_count": 43,
   "metadata": {},
   "outputs": [],
   "source": [
    "all_data.drop(['Last Updated'], axis=1, inplace=True)"
   ]
  },
  {
   "cell_type": "markdown",
   "metadata": {},
   "source": [
    "## Installs"
   ]
  },
  {
   "cell_type": "code",
   "execution_count": 44,
   "metadata": {},
   "outputs": [],
   "source": [
    "install_agrup =  all_data[['Installs', 'Rating']].groupby(['Installs']).agg(['mean', 'count'])"
   ]
  },
  {
   "cell_type": "code",
   "execution_count": 45,
   "metadata": {},
   "outputs": [],
   "source": [
    "all_data['Installs'] = all_data['Installs'].str.replace(r'\\D', '')"
   ]
  },
  {
   "cell_type": "code",
   "execution_count": 46,
   "metadata": {},
   "outputs": [],
   "source": [
    "all_data['Installs'] = all_data['Installs'].astype(float)"
   ]
  },
  {
   "cell_type": "code",
   "execution_count": 47,
   "metadata": {},
   "outputs": [
    {
     "data": {
      "text/plain": [
       "7236"
      ]
     },
     "execution_count": 47,
     "metadata": {},
     "output_type": "execute_result"
    }
   ],
   "source": [
    "len(all_data)"
   ]
  },
  {
   "cell_type": "code",
   "execution_count": 48,
   "metadata": {},
   "outputs": [],
   "source": [
    "#elimnamos del DF los que tengan menos de 1 instalaciones \n",
    "#all_data = all_data[all_data['Installs'] >= 1]"
   ]
  },
  {
   "cell_type": "markdown",
   "metadata": {},
   "source": [
    "## Price"
   ]
  },
  {
   "cell_type": "code",
   "execution_count": 49,
   "metadata": {},
   "outputs": [],
   "source": [
    "all_data['Price'] = all_data['Price'].str.replace(r'$', '')"
   ]
  },
  {
   "cell_type": "code",
   "execution_count": 50,
   "metadata": {},
   "outputs": [],
   "source": [
    "all_data['Price'] = all_data['Price'].astype(float)"
   ]
  },
  {
   "cell_type": "markdown",
   "metadata": {},
   "source": [
    "## Size"
   ]
  },
  {
   "cell_type": "code",
   "execution_count": 51,
   "metadata": {},
   "outputs": [],
   "source": [
    "all_data['Size_a'] = all_data['Size'].str[-1:]"
   ]
  },
  {
   "cell_type": "code",
   "execution_count": 52,
   "metadata": {},
   "outputs": [],
   "source": [
    "all_data['Size_a'] = all_data['Size_a'].replace('e', np.NaN)\n",
    "all_data['Size_a'] = all_data['Size_a'].replace('M', 1000000)\n",
    "all_data['Size_a'] = all_data['Size_a'].replace('k', 1000)"
   ]
  },
  {
   "cell_type": "code",
   "execution_count": 53,
   "metadata": {},
   "outputs": [
    {
     "data": {
      "text/plain": [
       "array([1000000.,      nan,    1000.])"
      ]
     },
     "execution_count": 53,
     "metadata": {},
     "output_type": "execute_result"
    }
   ],
   "source": [
    "all_data['Size_a'].unique()"
   ]
  },
  {
   "cell_type": "code",
   "execution_count": 54,
   "metadata": {},
   "outputs": [],
   "source": [
    "all_data['Size'] = all_data['Size'].str.replace(r'[aA-zZ]+', '')"
   ]
  },
  {
   "cell_type": "code",
   "execution_count": 55,
   "metadata": {},
   "outputs": [],
   "source": [
    "all_data['Size'] =  pd.to_numeric(all_data['Size'], errors='coerce') \n",
    "all_data['Size_a'] =  pd.to_numeric(all_data['Size_a'], errors='coerce') "
   ]
  },
  {
   "cell_type": "code",
   "execution_count": 56,
   "metadata": {},
   "outputs": [],
   "source": [
    "all_data['Size'] =  all_data['Size'] * all_data['Size_a'] "
   ]
  },
  {
   "cell_type": "code",
   "execution_count": 57,
   "metadata": {},
   "outputs": [],
   "source": [
    "all_data['Size'] = all_data['Size'].fillna(all_data['Size'].mean())"
   ]
  },
  {
   "cell_type": "code",
   "execution_count": 58,
   "metadata": {},
   "outputs": [],
   "source": [
    "all_data.drop(['Size_a'], axis=1, inplace=True)"
   ]
  },
  {
   "cell_type": "markdown",
   "metadata": {},
   "source": [
    "## Current Ver"
   ]
  },
  {
   "cell_type": "code",
   "execution_count": 59,
   "metadata": {},
   "outputs": [],
   "source": [
    "all_data['Current Ver'] = all_data['Current Ver'].str.replace(r'[aA-zZ]+', '')"
   ]
  },
  {
   "cell_type": "code",
   "execution_count": 60,
   "metadata": {},
   "outputs": [],
   "source": [
    "a = all_data['Current Ver'].str.split(\".\", n = 4, expand = True)"
   ]
  },
  {
   "cell_type": "code",
   "execution_count": 61,
   "metadata": {},
   "outputs": [],
   "source": [
    "a.columns = ['Version', 'Sub_ver', 'Sub_ver_2', 'Sub_ver_3', 'Sub_ver_4']"
   ]
  },
  {
   "cell_type": "code",
   "execution_count": 62,
   "metadata": {},
   "outputs": [],
   "source": [
    "a = a.fillna(0)"
   ]
  },
  {
   "cell_type": "code",
   "execution_count": 63,
   "metadata": {},
   "outputs": [],
   "source": [
    "#a['Version'] = a['Version'].astype(int)\n",
    "#a['Sub_ver'] = a['Sub_ver'].astype(int)\n",
    "#a['Sub_ver_2'] = a['Sub_ver_2'].astype(int)"
   ]
  },
  {
   "cell_type": "code",
   "execution_count": 64,
   "metadata": {},
   "outputs": [],
   "source": [
    "#all_data['Current_Ver_exp'] = a['Version']*a['Sub_ver']*a['Sub_ver_2']"
   ]
  },
  {
   "cell_type": "code",
   "execution_count": 65,
   "metadata": {},
   "outputs": [],
   "source": [
    "#all_data['Current_Ver'] = all_data['Current_Ver'].fillna(all_data['Current_Ver'].median())"
   ]
  },
  {
   "cell_type": "code",
   "execution_count": 66,
   "metadata": {},
   "outputs": [],
   "source": [
    "all_data['Current_Ver'] = a['Version']\n",
    "#all_data['Current_Ver_2'] = a['Sub_ver']"
   ]
  },
  {
   "cell_type": "code",
   "execution_count": 67,
   "metadata": {},
   "outputs": [],
   "source": [
    "#Convertimos en numerica\n",
    "all_data['Current_Ver'] =  pd.to_numeric(all_data['Current_Ver'], errors='coerce') \n",
    "#all_data['Current_Ver_2'] =  pd.to_numeric(all_data['Current_Ver'], errors='coerce') "
   ]
  },
  {
   "cell_type": "code",
   "execution_count": 68,
   "metadata": {},
   "outputs": [],
   "source": [
    "all_data['Current_Ver'] = all_data['Current_Ver'].replace(0, np.NaN)"
   ]
  },
  {
   "cell_type": "code",
   "execution_count": 69,
   "metadata": {},
   "outputs": [],
   "source": [
    "all_data['Current_Ver'] = all_data['Current_Ver'].apply(lambda x: np.where(x > 15,np.nan,x))\n",
    "all_data['Current_Ver'] = all_data['Current_Ver'].apply(lambda x: np.where(x < 0,np.nan,x))"
   ]
  },
  {
   "cell_type": "code",
   "execution_count": 70,
   "metadata": {},
   "outputs": [],
   "source": [
    "train_Current_Ver = all_data[~all_data.Current_Ver.isnull()]\n",
    "test_Current_Ver = all_data[all_data.Current_Ver.isnull()]"
   ]
  },
  {
   "cell_type": "code",
   "execution_count": 71,
   "metadata": {},
   "outputs": [
    {
     "data": {
      "image/png": "[encoded data removed]",
      "text/plain": [
       "<Figure size 1152x288 with 2 Axes>"
      ]
     },
     "metadata": {
      "needs_background": "light"
     },
     "output_type": "display_data"
    }
   ],
   "source": [
    "fig, ax = plt.subplots(1,2, figsize=(16,4))\n",
    "sns.boxplot(train_Current_Ver['Current_Ver'], ax=ax[0])\n",
    "\n",
    "sns.distplot(train_Current_Ver['Current_Ver'], ax=ax[1], fit=st.norm, fit_kws={\"color\":\"red\"})\n",
    "(mu, sigma) = st.norm.fit(train_Current_Ver['Current_Ver'])\n",
    "plt.legend(['Normal Distribution \\n ($\\mu=$ {:.2f} and  $\\sigma=$ {:.2f} )'.format(mu, sigma)],\n",
    "            loc='best', fancybox=True)\n",
    "plt.show()"
   ]
  },
  {
   "cell_type": "code",
   "execution_count": 72,
   "metadata": {},
   "outputs": [],
   "source": [
    "all_data['Current_Ver'] = all_data['Current_Ver'].fillna(all_data['Current_Ver'].median())"
   ]
  },
  {
   "cell_type": "code",
   "execution_count": 73,
   "metadata": {},
   "outputs": [],
   "source": [
    "all_data.drop(['Current Ver'], axis=1, inplace=True)"
   ]
  },
  {
   "cell_type": "code",
   "execution_count": 74,
   "metadata": {},
   "outputs": [],
   "source": [
    "all_data['Type'] = all_data['Type'].replace('Free', 0)\n",
    "all_data['Type'] = all_data['Type'].replace('Paid', 1)\n",
    "all_data['Type'] = all_data['Type'].astype(int)"
   ]
  },
  {
   "cell_type": "code",
   "execution_count": 75,
   "metadata": {},
   "outputs": [
    {
     "data": {
      "text/plain": [
       "Index(['App', 'Content Rating', 'Installs', 'Price', 'Rating', 'Reviews',\n",
       "       'Size', 'Type', 'Dataset', 'Ver Min', 'Ver Max', 'Rating_cat',\n",
       "       'Rating_Gen', 'Last Updated_days', 'Current_Ver'],\n",
       "      dtype='object')"
      ]
     },
     "execution_count": 75,
     "metadata": {},
     "output_type": "execute_result"
    }
   ],
   "source": [
    "all_data.columns"
   ]
  },
  {
   "cell_type": "code",
   "execution_count": 76,
   "metadata": {},
   "outputs": [],
   "source": [
    "all_data['Rev_install'] = all_data['Reviews'] / all_data['Installs']   "
   ]
  },
  {
   "cell_type": "code",
   "execution_count": 77,
   "metadata": {},
   "outputs": [],
   "source": [
    "#all_data['Reviews_year'] = all_data['Reviews'] / all_data['Last Updated_days']   \n",
    "#all_data['Reviews_year'] = all_data['Reviews_year'].fillna(0)\n",
    "\n",
    "all_data['Rev_install'] = all_data['Rev_install'].fillna(0)\n",
    "\n",
    "#all_data['Reviews_year'] =  all_data['Reviews_year'].replace(-np.inf, np.nan)\n",
    "\n",
    "#all_data['Rev_install'] = all_data['Rev_install'].fillna(0)"
   ]
  },
  {
   "cell_type": "code",
   "execution_count": 78,
   "metadata": {},
   "outputs": [],
   "source": [
    "#from numpy import inf\n",
    "#all_data['Reviews_year'] [all_data['Reviews_year']  == inf] = 0"
   ]
  },
  {
   "cell_type": "code",
   "execution_count": 79,
   "metadata": {},
   "outputs": [],
   "source": [
    "#all_data.max()"
   ]
  },
  {
   "cell_type": "code",
   "execution_count": 80,
   "metadata": {},
   "outputs": [
    {
     "data": {
      "text/plain": [
       "Index(['App', 'Content Rating', 'Installs', 'Price', 'Rating', 'Reviews',\n",
       "       'Size', 'Type', 'Dataset', 'Ver Min', 'Ver Max', 'Rating_cat',\n",
       "       'Rating_Gen', 'Last Updated_days', 'Current_Ver', 'Rev_install'],\n",
       "      dtype='object')"
      ]
     },
     "execution_count": 80,
     "metadata": {},
     "output_type": "execute_result"
    }
   ],
   "source": [
    "all_data.columns"
   ]
  },
  {
   "cell_type": "markdown",
   "metadata": {},
   "source": [
    "# Skewness & Normalization of Numeric Variables"
   ]
  },
  {
   "cell_type": "code",
   "execution_count": 81,
   "metadata": {},
   "outputs": [
    {
     "data": {
      "text/html": [
       "<div>\n",
       "<style scoped>\n",
       "    .dataframe tbody tr th:only-of-type {\n",
       "        vertical-align: middle;\n",
       "    }\n",
       "\n",
       "    .dataframe tbody tr th {\n",
       "        vertical-align: top;\n",
       "    }\n",
       "\n",
       "    .dataframe thead th {\n",
       "        text-align: right;\n",
       "    }\n",
       "</style>\n",
       "<table border=\"1\" class=\"dataframe\">\n",
       "  <thead>\n",
       "    <tr style=\"text-align: right;\">\n",
       "      <th></th>\n",
       "      <th>Skew Before Transformation</th>\n",
       "      <th>Skew After Transformation</th>\n",
       "    </tr>\n",
       "  </thead>\n",
       "  <tbody>\n",
       "    <tr>\n",
       "      <th>Reviews</th>\n",
       "      <td>26.794373</td>\n",
       "      <td>0.125382</td>\n",
       "    </tr>\n",
       "    <tr>\n",
       "      <th>Price</th>\n",
       "      <td>25.663991</td>\n",
       "      <td>6.991071</td>\n",
       "    </tr>\n",
       "    <tr>\n",
       "      <th>Rev_install</th>\n",
       "      <td>20.747723</td>\n",
       "      <td>11.477539</td>\n",
       "    </tr>\n",
       "    <tr>\n",
       "      <th>Installs</th>\n",
       "      <td>15.219577</td>\n",
       "      <td>-0.238070</td>\n",
       "    </tr>\n",
       "    <tr>\n",
       "      <th>Current_Ver</th>\n",
       "      <td>2.559536</td>\n",
       "      <td>1.515706</td>\n",
       "    </tr>\n",
       "    <tr>\n",
       "      <th>Last Updated_days</th>\n",
       "      <td>2.222751</td>\n",
       "      <td>1.437497</td>\n",
       "    </tr>\n",
       "    <tr>\n",
       "      <th>Size</th>\n",
       "      <td>1.785258</td>\n",
       "      <td>-0.981077</td>\n",
       "    </tr>\n",
       "  </tbody>\n",
       "</table>\n",
       "</div>"
      ],
      "text/plain": [
       "                   Skew Before Transformation  Skew After Transformation\n",
       "Reviews                             26.794373                   0.125382\n",
       "Price                               25.663991                   6.991071\n",
       "Rev_install                         20.747723                  11.477539\n",
       "Installs                            15.219577                  -0.238070\n",
       "Current_Ver                          2.559536                   1.515706\n",
       "Last Updated_days                    2.222751                   1.437497\n",
       "Size                                 1.785258                  -0.981077"
      ]
     },
     "execution_count": 81,
     "metadata": {},
     "output_type": "execute_result"
    }
   ],
   "source": [
    "numeric_feats = ['Installs', 'Price', 'Reviews', 'Size', 'Rating_cat', 'Rating_Gen', 'Last Updated_days', 'Current_Ver', 'Rev_install']\n",
    "\n",
    "skewed_feats = all_data[numeric_feats].apply(lambda x: st.skew(x.dropna())).sort_values(ascending=False)\n",
    "skewness = pd.DataFrame({'Skew Before Transformation' :skewed_feats})\n",
    "\n",
    "skewness = skewness[abs(skewness) > 1].dropna(axis=0)\n",
    "skewed_features = skewness.index\n",
    "for feat in skewed_features:\n",
    "    all_data[feat] = np.log1p(all_data[feat]+1)\n",
    "\n",
    "skewed_feats = all_data[skewed_features].apply(lambda x: st.skew(x.dropna())).sort_values(ascending=False)\n",
    "skewness['Skew After Transformation'] = skewed_feats\n",
    "skewness"
   ]
  },
  {
   "cell_type": "code",
   "execution_count": 82,
   "metadata": {},
   "outputs": [],
   "source": [
    "all_data.drop(['App', 'Reviews'], axis=1, inplace=True)"
   ]
  },
  {
   "cell_type": "code",
   "execution_count": 83,
   "metadata": {},
   "outputs": [],
   "source": [
    "all_data.drop(['Type'], axis=1, inplace=True)"
   ]
  },
  {
   "cell_type": "code",
   "execution_count": 84,
   "metadata": {},
   "outputs": [
    {
     "data": {
      "image/png": "[encoded data removed]",
      "text/plain": [
       "<Figure size 1080x1080 with 2 Axes>"
      ]
     },
     "metadata": {
      "needs_background": "light"
     },
     "output_type": "display_data"
    }
   ],
   "source": [
    "corr = all_data.corr()\n",
    "mask = np.zeros_like(corr, dtype=np.bool)\n",
    "mask[np.triu_indices_from(mask)] = True\n",
    "\n",
    "f, ax = plt.subplots(figsize=(15, 15))\n",
    "cmap = sns.diverging_palette(220, 10, as_cmap=True)\n",
    "\n",
    "sns.heatmap(corr, mask=mask, cmap=cmap,\n",
    "            center=0, square=True, linewidths = .5)\n",
    "plt.show()"
   ]
  },
  {
   "cell_type": "code",
   "execution_count": 85,
   "metadata": {},
   "outputs": [
    {
     "name": "stdout",
     "output_type": "stream",
     "text": [
      "(7236, 19)\n"
     ]
    },
    {
     "data": {
      "text/html": [
       "<div>\n",
       "<style scoped>\n",
       "    .dataframe tbody tr th:only-of-type {\n",
       "        vertical-align: middle;\n",
       "    }\n",
       "\n",
       "    .dataframe tbody tr th {\n",
       "        vertical-align: top;\n",
       "    }\n",
       "\n",
       "    .dataframe thead th {\n",
       "        text-align: right;\n",
       "    }\n",
       "</style>\n",
       "<table border=\"1\" class=\"dataframe\">\n",
       "  <thead>\n",
       "    <tr style=\"text-align: right;\">\n",
       "      <th></th>\n",
       "      <th>Installs</th>\n",
       "      <th>Price</th>\n",
       "      <th>Rating</th>\n",
       "      <th>Size</th>\n",
       "      <th>Ver Min</th>\n",
       "      <th>Ver Max</th>\n",
       "      <th>Rating_cat</th>\n",
       "      <th>Rating_Gen</th>\n",
       "      <th>Last Updated_days</th>\n",
       "      <th>Current_Ver</th>\n",
       "      <th>Rev_install</th>\n",
       "      <th>Content Rating_Adults only 18+</th>\n",
       "      <th>Content Rating_Everyone</th>\n",
       "      <th>Content Rating_Everyone 10+</th>\n",
       "      <th>Content Rating_Mature 17+</th>\n",
       "      <th>Content Rating_Teen</th>\n",
       "      <th>Content Rating_Unrated</th>\n",
       "      <th>Dataset_Test</th>\n",
       "      <th>Dataset_Train</th>\n",
       "    </tr>\n",
       "  </thead>\n",
       "  <tbody>\n",
       "    <tr>\n",
       "      <th>0</th>\n",
       "      <td>16.118096</td>\n",
       "      <td>0.693147</td>\n",
       "      <td>1.0</td>\n",
       "      <td>15.226498</td>\n",
       "      <td>4.0</td>\n",
       "      <td>9.0</td>\n",
       "      <td>0.699248</td>\n",
       "      <td>93.0</td>\n",
       "      <td>0.768048</td>\n",
       "      <td>2.302585</td>\n",
       "      <td>0.700605</td>\n",
       "      <td>0</td>\n",
       "      <td>1</td>\n",
       "      <td>0</td>\n",
       "      <td>0</td>\n",
       "      <td>0</td>\n",
       "      <td>0</td>\n",
       "      <td>0</td>\n",
       "      <td>1</td>\n",
       "    </tr>\n",
       "    <tr>\n",
       "      <th>1</th>\n",
       "      <td>11.512945</td>\n",
       "      <td>0.693147</td>\n",
       "      <td>0.0</td>\n",
       "      <td>17.341871</td>\n",
       "      <td>4.1</td>\n",
       "      <td>9.0</td>\n",
       "      <td>0.657534</td>\n",
       "      <td>144.0</td>\n",
       "      <td>0.869665</td>\n",
       "      <td>1.609438</td>\n",
       "      <td>0.697403</td>\n",
       "      <td>0</td>\n",
       "      <td>1</td>\n",
       "      <td>0</td>\n",
       "      <td>0</td>\n",
       "      <td>0</td>\n",
       "      <td>0</td>\n",
       "      <td>0</td>\n",
       "      <td>1</td>\n",
       "    </tr>\n",
       "    <tr>\n",
       "      <th>2</th>\n",
       "      <td>15.424949</td>\n",
       "      <td>0.693147</td>\n",
       "      <td>1.0</td>\n",
       "      <td>16.817655</td>\n",
       "      <td>4.0</td>\n",
       "      <td>9.0</td>\n",
       "      <td>0.731343</td>\n",
       "      <td>49.0</td>\n",
       "      <td>0.847298</td>\n",
       "      <td>1.098612</td>\n",
       "      <td>0.699316</td>\n",
       "      <td>0</td>\n",
       "      <td>1</td>\n",
       "      <td>0</td>\n",
       "      <td>0</td>\n",
       "      <td>0</td>\n",
       "      <td>0</td>\n",
       "      <td>0</td>\n",
       "      <td>1</td>\n",
       "    </tr>\n",
       "  </tbody>\n",
       "</table>\n",
       "</div>"
      ],
      "text/plain": [
       "    Installs     Price  Rating       Size  Ver Min  Ver Max  Rating_cat  \\\n",
       "0  16.118096  0.693147     1.0  15.226498      4.0      9.0    0.699248   \n",
       "1  11.512945  0.693147     0.0  17.341871      4.1      9.0    0.657534   \n",
       "2  15.424949  0.693147     1.0  16.817655      4.0      9.0    0.731343   \n",
       "\n",
       "   Rating_Gen  Last Updated_days  Current_Ver  Rev_install  \\\n",
       "0        93.0           0.768048     2.302585     0.700605   \n",
       "1       144.0           0.869665     1.609438     0.697403   \n",
       "2        49.0           0.847298     1.098612     0.699316   \n",
       "\n",
       "   Content Rating_Adults only 18+  Content Rating_Everyone  \\\n",
       "0                               0                        1   \n",
       "1                               0                        1   \n",
       "2                               0                        1   \n",
       "\n",
       "   Content Rating_Everyone 10+  Content Rating_Mature 17+  \\\n",
       "0                            0                          0   \n",
       "1                            0                          0   \n",
       "2                            0                          0   \n",
       "\n",
       "   Content Rating_Teen  Content Rating_Unrated  Dataset_Test  Dataset_Train  \n",
       "0                    0                       0             0              1  \n",
       "1                    0                       0             0              1  \n",
       "2                    0                       0             0              1  "
      ]
     },
     "execution_count": 85,
     "metadata": {},
     "output_type": "execute_result"
    }
   ],
   "source": [
    "all_data = pd.get_dummies(all_data)\n",
    "print(all_data.shape)\n",
    "all_data.head(3)"
   ]
  },
  {
   "cell_type": "code",
   "execution_count": 86,
   "metadata": {},
   "outputs": [],
   "source": [
    "all_data_bal = all_data[~all_data['Rating'].isnull()]"
   ]
  },
  {
   "cell_type": "code",
   "execution_count": 87,
   "metadata": {},
   "outputs": [],
   "source": [
    "import pandas as pd\n",
    "import matplotlib.pyplot as plt\n",
    "\n",
    "from imblearn.over_sampling import SMOTE\n",
    "\n",
    "# for reproducibility purposes\n",
    "seed = 100\n",
    "# SMOTE number of neighbors\n",
    "k = 1\n",
    "\n",
    "# make a new df made of all the columns, except the target class\n",
    "X = all_data_bal.loc[:, all_data.columns != 'Rating']\n",
    "y = all_data_bal.Rating\n",
    "sm = SMOTE(sampling_strategy='auto', k_neighbors=k, random_state=seed)\n",
    "X_res, y_res = sm.fit_resample(X, y)"
   ]
  },
  {
   "cell_type": "code",
   "execution_count": 88,
   "metadata": {},
   "outputs": [],
   "source": [
    "all_data_under = X_res\n",
    "all_data_under['Rating'] = y_res"
   ]
  },
  {
   "cell_type": "code",
   "execution_count": 89,
   "metadata": {},
   "outputs": [],
   "source": [
    "#all_data_bal"
   ]
  },
  {
   "cell_type": "code",
   "execution_count": 90,
   "metadata": {},
   "outputs": [],
   "source": [
    "final_y_train = all_data_under['Rating'][~all_data_under['Rating'].isnull()]\n",
    "final_X_train = all_data_under[all_data_under['Dataset_Train'] == 1].drop(['Dataset_Train', 'Dataset_Test', 'Rating'], axis=1)\n",
    "\n",
    "\n",
    "final_X_test = all_data[all_data['Dataset_Test'] == 1].drop(['Dataset_Train', 'Dataset_Test', 'Rating'], axis=1)"
   ]
  },
  {
   "cell_type": "markdown",
   "metadata": {},
   "source": [
    "# XGBoost"
   ]
  },
  {
   "cell_type": "code",
   "execution_count": 91,
   "metadata": {},
   "outputs": [],
   "source": [
    "xg_X_train, xg_X_test, xg_y_train, xg_y_test = train_test_split(final_X_train, final_y_train, test_size=0.33, random_state=1234)"
   ]
  },
  {
   "cell_type": "markdown",
   "metadata": {},
   "source": [
    "xg_model = XGBClassifier(n_estimators=100, seed = 1234)\n",
    "param_dict = {'max_depth': [2, 3,4],\n",
    "              'min_child_weight': [4, 5, 6],\n",
    "              'learning_rate': [0.1,0.15, 0.2],\n",
    "              'gamma': [0.0, 0.01, 0.05],\n",
    "              'colsample_bytree':[0.5, 0.7, 1]\n",
    "}\n",
    "\n",
    "start = time()\n",
    "grid_search = GridSearchCV(xg_model, param_dict)\n",
    "grid_search.fit(xg_X_train, xg_y_train)\n",
    "print(\"GridSearch took %.2f seconds to complete.\" % (time()-start))\n",
    "display(grid_search.best_params_)"
   ]
  },
  {
   "cell_type": "code",
   "execution_count": 92,
   "metadata": {},
   "outputs": [],
   "source": [
    "xg_model = XGBClassifier(n_estimators = 1000,\n",
    "                        learning_rate = 0.1,\n",
    "                        max_depth = 3,\n",
    "                        min_child_weight = 4,\n",
    "                        gamma = 0.01,\n",
    "                        colsample_bytree = 0.5, \n",
    "                        seed = 1234,\n",
    "                        eval_metric = 'auc')"
   ]
  },
  {
   "cell_type": "code",
   "execution_count": 93,
   "metadata": {},
   "outputs": [],
   "source": [
    "from sklearn.metrics import accuracy_score"
   ]
  },
  {
   "cell_type": "code",
   "execution_count": 94,
   "metadata": {},
   "outputs": [
    {
     "name": "stdout",
     "output_type": "stream",
     "text": [
      "Model took 2.36 seconds to complete.\n",
      "0.8235087719298245\n"
     ]
    }
   ],
   "source": [
    "start = time()\n",
    "xg_model.fit(xg_X_train, xg_y_train)\n",
    "xg_preds = xg_model.predict(xg_X_test)\n",
    "print(\"Model took %.2f seconds to complete.\" % (time()-start))\n",
    "print(accuracy_score(xg_y_test, xg_preds))"
   ]
  },
  {
   "cell_type": "code",
   "execution_count": 95,
   "metadata": {},
   "outputs": [],
   "source": [
    "e = xg_model.predict_proba(xg_X_test)\n",
    "\n",
    "prob_xg = pd.DataFrame(e, columns=['prob_1', 'prob_0']) "
   ]
  },
  {
   "cell_type": "code",
   "execution_count": 96,
   "metadata": {},
   "outputs": [
    {
     "data": {
      "text/plain": [
       "0.8230742173760112"
      ]
     },
     "execution_count": 96,
     "metadata": {},
     "output_type": "execute_result"
    }
   ],
   "source": [
    "from sklearn.metrics import f1_score\n",
    "\n",
    "f1_score(xg_y_test, xg_preds)"
   ]
  },
  {
   "cell_type": "code",
   "execution_count": 97,
   "metadata": {},
   "outputs": [
    {
     "name": "stdout",
     "output_type": "stream",
     "text": [
      "Confusion matrix:\n",
      " [[1177  272]\n",
      " [ 231 1170]]\n"
     ]
    },
    {
     "data": {
      "image/png": "[encoded data removed]",
      "text/plain": [
       "<Figure size 432x288 with 2 Axes>"
      ]
     },
     "metadata": {
      "needs_background": "light"
     },
     "output_type": "display_data"
    }
   ],
   "source": [
    "from sklearn.metrics import confusion_matrix\n",
    "from matplotlib import pyplot as plt\n",
    "\n",
    "conf_mat = confusion_matrix(y_true=xg_y_test, y_pred=xg_preds)\n",
    "print('Confusion matrix:\\n', conf_mat)\n",
    "\n",
    "labels = ['Class 0', 'Class 1']\n",
    "fig = plt.figure()\n",
    "ax = fig.add_subplot(111)\n",
    "cax = ax.matshow(conf_mat, cmap=plt.cm.Blues)\n",
    "fig.colorbar(cax)\n",
    "ax.set_xticklabels([''] + labels)\n",
    "ax.set_yticklabels([''] + labels)\n",
    "plt.xlabel('Predicted')\n",
    "plt.ylabel('Expected')\n",
    "plt.show()"
   ]
  },
  {
   "cell_type": "code",
   "execution_count": 98,
   "metadata": {},
   "outputs": [
    {
     "name": "stdout",
     "output_type": "stream",
     "text": [
      "AUC: 0.824\n"
     ]
    },
    {
     "data": {
      "image/png": "[encoded data removed]",
      "text/plain": [
       "<Figure size 432x288 with 1 Axes>"
      ]
     },
     "metadata": {
      "needs_background": "light"
     },
     "output_type": "display_data"
    }
   ],
   "source": [
    "from sklearn.metrics import roc_curve\n",
    "from sklearn.metrics import roc_auc_score\n",
    "from matplotlib import pyplot\n",
    "\n",
    "auc = roc_auc_score(xg_y_test, xg_preds)\n",
    "print('AUC: %.3f' % auc)\n",
    "# calculate roc curve\n",
    "fpr, tpr, thresholds = roc_curve(xg_y_test, xg_preds)\n",
    "# plot no skill\n",
    "pyplot.plot([0, 1], [0, 1], linestyle='--')\n",
    "# plot the roc curve for the model\n",
    "pyplot.plot(fpr, tpr, marker='.')\n",
    "# show the plot\n",
    "pyplot.show()"
   ]
  },
  {
   "cell_type": "code",
   "execution_count": 99,
   "metadata": {},
   "outputs": [],
   "source": [
    "for x in range(len(final_X_train.columns)):\n",
    "  xg_model.get_booster().feature_names[x] = final_X_train.columns[x]"
   ]
  },
  {
   "cell_type": "markdown",
   "metadata": {},
   "source": [
    "from xgboost import plot_importance\n",
    "\n",
    "feature_important = xg_model.get_booster().get_score(importance_type='gain')\n",
    "keys = list(feature_important.keys())\n",
    "values = list(feature_important.values())\n",
    "\n",
    "data = pd.DataFrame(data=values, index=keys, columns=[\"score\"]).sort_values(by = \"score\", ascending=False)\n",
    "data = data.head(10)\n",
    "\n",
    "f, ax = plt.subplots(figsize =(15, 15)) \n",
    "data.plot(kind='barh', ax = ax)"
   ]
  },
  {
   "cell_type": "markdown",
   "metadata": {},
   "source": [
    "# Random Forest"
   ]
  },
  {
   "cell_type": "code",
   "execution_count": 100,
   "metadata": {},
   "outputs": [],
   "source": [
    "from sklearn.ensemble import RandomForestClassifier\n",
    "rclf = RandomForestClassifier()"
   ]
  },
  {
   "cell_type": "code",
   "execution_count": 101,
   "metadata": {},
   "outputs": [
    {
     "data": {
      "text/plain": [
       "Installs                           20.723266\n",
       "Price                               5.996427\n",
       "Size                               18.420681\n",
       "Ver Min                             8.000000\n",
       "Ver Max                             9.000000\n",
       "Rating_cat                          0.891509\n",
       "Rating_Gen                        338.000000\n",
       "Last Updated_days                   2.335644\n",
       "Current_Ver                         2.833213\n",
       "Rev_install                         1.791759\n",
       "Content Rating_Adults only 18+      1.000000\n",
       "Content Rating_Everyone             1.000000\n",
       "Content Rating_Everyone 10+         1.000000\n",
       "Content Rating_Mature 17+           1.000000\n",
       "Content Rating_Teen                 1.000000\n",
       "Content Rating_Unrated              1.000000\n",
       "dtype: float64"
      ]
     },
     "execution_count": 101,
     "metadata": {},
     "output_type": "execute_result"
    }
   ],
   "source": [
    "xg_X_train.max()"
   ]
  },
  {
   "cell_type": "code",
   "execution_count": 102,
   "metadata": {},
   "outputs": [
    {
     "data": {
      "text/plain": [
       "RandomForestClassifier()"
      ]
     },
     "execution_count": 102,
     "metadata": {},
     "output_type": "execute_result"
    }
   ],
   "source": [
    "rclf.fit(xg_X_train,xg_y_train)"
   ]
  },
  {
   "cell_type": "code",
   "execution_count": 103,
   "metadata": {},
   "outputs": [
    {
     "name": "stdout",
     "output_type": "stream",
     "text": [
      "0.8378947368421052\n"
     ]
    }
   ],
   "source": [
    "#best_random = rf_random.best_estimator_\n",
    "brf= rclf.predict(xg_X_test)\n",
    "\n",
    "print(accuracy_score(xg_y_test, brf))"
   ]
  },
  {
   "cell_type": "code",
   "execution_count": 104,
   "metadata": {},
   "outputs": [
    {
     "name": "stdout",
     "output_type": "stream",
     "text": [
      "2850\n",
      "0.8378947368421052\n"
     ]
    }
   ],
   "source": [
    "from sklearn.metrics import accuracy_score,recall_score,confusion_matrix\n",
    "rf_y_pred = brf\n",
    "print(len(xg_y_test))\n",
    "print(accuracy_score(xg_y_test,rf_y_pred))\n",
    "#print(recall_score(xg_y_test,y_pred))\n",
    "#print(confusion_matrix(xg_y_test,y_pred))"
   ]
  },
  {
   "cell_type": "code",
   "execution_count": 105,
   "metadata": {},
   "outputs": [
    {
     "name": "stdout",
     "output_type": "stream",
     "text": [
      "AUC: 0.838\n"
     ]
    },
    {
     "data": {
      "image/png": "[encoded data removed]",
      "text/plain": [
       "<Figure size 432x288 with 1 Axes>"
      ]
     },
     "metadata": {
      "needs_background": "light"
     },
     "output_type": "display_data"
    }
   ],
   "source": [
    "auc = roc_auc_score(xg_y_test, rf_y_pred)\n",
    "print('AUC: %.3f' % auc)\n",
    "# calculate roc curve\n",
    "fpr, tpr, thresholds = roc_curve(xg_y_test, rf_y_pred)\n",
    "# plot no skill\n",
    "pyplot.plot([0, 1], [0, 1], linestyle='--')\n",
    "# plot the roc curve for the model\n",
    "pyplot.plot(fpr, tpr, marker='.')\n",
    "# show the plot\n",
    "pyplot.show()"
   ]
  },
  {
   "cell_type": "code",
   "execution_count": 106,
   "metadata": {},
   "outputs": [
    {
     "data": {
      "text/plain": [
       "0.8316326530612245"
      ]
     },
     "execution_count": 106,
     "metadata": {},
     "output_type": "execute_result"
    }
   ],
   "source": [
    "from sklearn.metrics import f1_score\n",
    "\n",
    "f1_score(xg_y_test, rf_y_pred)"
   ]
  },
  {
   "cell_type": "markdown",
   "metadata": {},
   "source": [
    "# LGBM"
   ]
  },
  {
   "cell_type": "code",
   "execution_count": 107,
   "metadata": {},
   "outputs": [],
   "source": [
    "import lightgbm as lgb"
   ]
  },
  {
   "cell_type": "code",
   "execution_count": 108,
   "metadata": {},
   "outputs": [],
   "source": [
    "train_data = lgb.Dataset(xg_X_train, label=xg_y_train)\n",
    "test_data = lgb.Dataset(xg_X_test, label=xg_y_test)"
   ]
  },
  {
   "cell_type": "code",
   "execution_count": 109,
   "metadata": {},
   "outputs": [],
   "source": [
    "parameters = {\n",
    "    'application': 'binary',\n",
    "    'objective': 'binary',\n",
    "    'metric': 'auc',\n",
    "    'is_unbalance': 'true',\n",
    "    'boosting': 'gbdt',\n",
    "    'num_leaves': 31,\n",
    "    'feature_fraction': 0.5,\n",
    "    'bagging_fraction': 0.5,\n",
    "    'bagging_freq': 20,\n",
    "    'learning_rate': 0.1,\n",
    "    'verbose': 0\n",
    "}"
   ]
  },
  {
   "cell_type": "code",
   "execution_count": 110,
   "metadata": {},
   "outputs": [
    {
     "name": "stdout",
     "output_type": "stream",
     "text": [
      "[LightGBM] [Warning] objective is set=binary, application=binary will be ignored. Current value: objective=binary\n",
      "[LightGBM] [Warning] Find whitespaces in feature_names, replace with underlines\n",
      "[LightGBM] [Warning] objective is set=binary, application=binary will be ignored. Current value: objective=binary\n",
      "[LightGBM] [Warning] Auto-choosing col-wise multi-threading, the overhead of testing was 0.004403 seconds.\n",
      "You can set `force_col_wise=true` to remove the overhead.\n",
      "[LightGBM] [Warning] objective is set=binary, application=binary will be ignored. Current value: objective=binary\n",
      "[LightGBM] [Warning] Find whitespaces in feature_names, replace with underlines\n",
      "[1]\tvalid_0's auc: 0.740607\n",
      "Training until validation scores don't improve for 100 rounds\n",
      "[2]\tvalid_0's auc: 0.779405\n",
      "[3]\tvalid_0's auc: 0.815262\n",
      "[4]\tvalid_0's auc: 0.820609\n",
      "[5]\tvalid_0's auc: 0.836342\n",
      "[6]\tvalid_0's auc: 0.835588\n",
      "[7]\tvalid_0's auc: 0.845591\n",
      "[8]\tvalid_0's auc: 0.848914\n",
      "[9]\tvalid_0's auc: 0.852481\n",
      "[10]\tvalid_0's auc: 0.857217\n",
      "[11]\tvalid_0's auc: 0.855323\n",
      "[12]\tvalid_0's auc: 0.855598\n",
      "[13]\tvalid_0's auc: 0.858003\n",
      "[14]\tvalid_0's auc: 0.855649\n",
      "[15]\tvalid_0's auc: 0.856151\n",
      "[16]\tvalid_0's auc: 0.858629\n",
      "[17]\tvalid_0's auc: 0.859579\n",
      "[18]\tvalid_0's auc: 0.863187\n",
      "[19]\tvalid_0's auc: 0.861393\n",
      "[20]\tvalid_0's auc: 0.862268\n",
      "[21]\tvalid_0's auc: 0.865091\n",
      "[22]\tvalid_0's auc: 0.869392\n",
      "[23]\tvalid_0's auc: 0.871031\n",
      "[24]\tvalid_0's auc: 0.872317\n",
      "[25]\tvalid_0's auc: 0.873183\n",
      "[26]\tvalid_0's auc: 0.876476\n",
      "[27]\tvalid_0's auc: 0.878841\n",
      "[28]\tvalid_0's auc: 0.879312\n",
      "[29]\tvalid_0's auc: 0.882507\n",
      "[30]\tvalid_0's auc: 0.882819\n",
      "[31]\tvalid_0's auc: 0.884605\n",
      "[32]\tvalid_0's auc: 0.885656\n",
      "[33]\tvalid_0's auc: 0.886873\n",
      "[34]\tvalid_0's auc: 0.888852\n",
      "[35]\tvalid_0's auc: 0.8896\n",
      "[36]\tvalid_0's auc: 0.889843\n",
      "[37]\tvalid_0's auc: 0.889445\n",
      "[38]\tvalid_0's auc: 0.891074\n",
      "[39]\tvalid_0's auc: 0.892028\n",
      "[40]\tvalid_0's auc: 0.892154\n",
      "[41]\tvalid_0's auc: 0.894617\n",
      "[42]\tvalid_0's auc: 0.896249\n",
      "[43]\tvalid_0's auc: 0.896321\n",
      "[44]\tvalid_0's auc: 0.896623\n",
      "[45]\tvalid_0's auc: 0.897826\n",
      "[46]\tvalid_0's auc: 0.898873\n",
      "[47]\tvalid_0's auc: 0.899371\n",
      "[48]\tvalid_0's auc: 0.899947\n",
      "[49]\tvalid_0's auc: 0.900528\n",
      "[50]\tvalid_0's auc: 0.900996\n",
      "[51]\tvalid_0's auc: 0.90142\n",
      "[52]\tvalid_0's auc: 0.902101\n",
      "[53]\tvalid_0's auc: 0.902018\n",
      "[54]\tvalid_0's auc: 0.901811\n",
      "[55]\tvalid_0's auc: 0.90226\n",
      "[56]\tvalid_0's auc: 0.902329\n",
      "[57]\tvalid_0's auc: 0.902243\n",
      "[58]\tvalid_0's auc: 0.901672\n",
      "[59]\tvalid_0's auc: 0.901531\n",
      "[60]\tvalid_0's auc: 0.901545\n",
      "[61]\tvalid_0's auc: 0.902308\n",
      "[62]\tvalid_0's auc: 0.902449\n",
      "[63]\tvalid_0's auc: 0.90288\n",
      "[64]\tvalid_0's auc: 0.903342\n",
      "[65]\tvalid_0's auc: 0.903691\n",
      "[66]\tvalid_0's auc: 0.903999\n",
      "[67]\tvalid_0's auc: 0.904661\n",
      "[68]\tvalid_0's auc: 0.905287\n",
      "[69]\tvalid_0's auc: 0.905487\n",
      "[70]\tvalid_0's auc: 0.906167\n",
      "[71]\tvalid_0's auc: 0.906335\n",
      "[72]\tvalid_0's auc: 0.906475\n",
      "[73]\tvalid_0's auc: 0.906388\n",
      "[74]\tvalid_0's auc: 0.906414\n",
      "[75]\tvalid_0's auc: 0.90691\n",
      "[76]\tvalid_0's auc: 0.90678\n",
      "[77]\tvalid_0's auc: 0.907093\n",
      "[78]\tvalid_0's auc: 0.90724\n",
      "[79]\tvalid_0's auc: 0.907328\n",
      "[80]\tvalid_0's auc: 0.907337\n",
      "[81]\tvalid_0's auc: 0.907849\n",
      "[82]\tvalid_0's auc: 0.908024\n",
      "[83]\tvalid_0's auc: 0.907844\n",
      "[84]\tvalid_0's auc: 0.907744\n",
      "[85]\tvalid_0's auc: 0.907852\n",
      "[86]\tvalid_0's auc: 0.908167\n",
      "[87]\tvalid_0's auc: 0.908442\n",
      "[88]\tvalid_0's auc: 0.908323\n",
      "[89]\tvalid_0's auc: 0.908369\n",
      "[90]\tvalid_0's auc: 0.908078\n",
      "[91]\tvalid_0's auc: 0.908443\n",
      "[92]\tvalid_0's auc: 0.908173\n",
      "[93]\tvalid_0's auc: 0.907801\n",
      "[94]\tvalid_0's auc: 0.907829\n",
      "[95]\tvalid_0's auc: 0.907922\n",
      "[96]\tvalid_0's auc: 0.907709\n",
      "[97]\tvalid_0's auc: 0.907532\n",
      "[98]\tvalid_0's auc: 0.907513\n",
      "[99]\tvalid_0's auc: 0.90778\n",
      "[100]\tvalid_0's auc: 0.907499\n",
      "[101]\tvalid_0's auc: 0.907568\n",
      "[102]\tvalid_0's auc: 0.907917\n",
      "[103]\tvalid_0's auc: 0.907784\n",
      "[104]\tvalid_0's auc: 0.907989\n",
      "[105]\tvalid_0's auc: 0.907908\n",
      "[106]\tvalid_0's auc: 0.90817\n",
      "[107]\tvalid_0's auc: 0.908527\n",
      "[108]\tvalid_0's auc: 0.908562\n",
      "[109]\tvalid_0's auc: 0.908705\n",
      "[110]\tvalid_0's auc: 0.909093\n",
      "[111]\tvalid_0's auc: 0.909076\n",
      "[112]\tvalid_0's auc: 0.909253\n",
      "[113]\tvalid_0's auc: 0.90946\n",
      "[114]\tvalid_0's auc: 0.909526\n",
      "[115]\tvalid_0's auc: 0.909516\n",
      "[116]\tvalid_0's auc: 0.909633\n",
      "[117]\tvalid_0's auc: 0.909654\n",
      "[118]\tvalid_0's auc: 0.909725\n",
      "[119]\tvalid_0's auc: 0.909572\n",
      "[120]\tvalid_0's auc: 0.909639\n",
      "[121]\tvalid_0's auc: 0.910288\n",
      "[122]\tvalid_0's auc: 0.910567\n",
      "[123]\tvalid_0's auc: 0.910934\n",
      "[124]\tvalid_0's auc: 0.911532\n",
      "[125]\tvalid_0's auc: 0.912039\n",
      "[126]\tvalid_0's auc: 0.912636\n",
      "[127]\tvalid_0's auc: 0.913205\n",
      "[128]\tvalid_0's auc: 0.913388\n",
      "[129]\tvalid_0's auc: 0.913461\n",
      "[130]\tvalid_0's auc: 0.913725\n",
      "[131]\tvalid_0's auc: 0.91372\n",
      "[132]\tvalid_0's auc: 0.913935\n",
      "[133]\tvalid_0's auc: 0.91406\n",
      "[134]\tvalid_0's auc: 0.913952\n",
      "[135]\tvalid_0's auc: 0.914082\n",
      "[136]\tvalid_0's auc: 0.91415\n",
      "[137]\tvalid_0's auc: 0.914594\n",
      "[138]\tvalid_0's auc: 0.914696\n",
      "[139]\tvalid_0's auc: 0.914894\n",
      "[140]\tvalid_0's auc: 0.915295\n",
      "[141]\tvalid_0's auc: 0.915072\n",
      "[142]\tvalid_0's auc: 0.914977\n",
      "[143]\tvalid_0's auc: 0.915155\n",
      "[144]\tvalid_0's auc: 0.914925\n",
      "[145]\tvalid_0's auc: 0.915003\n",
      "[146]\tvalid_0's auc: 0.915146\n",
      "[147]\tvalid_0's auc: 0.915259\n",
      "[148]\tvalid_0's auc: 0.915141\n",
      "[149]\tvalid_0's auc: 0.915116\n",
      "[150]\tvalid_0's auc: 0.915047\n",
      "[151]\tvalid_0's auc: 0.914859\n",
      "[152]\tvalid_0's auc: 0.914586\n",
      "[153]\tvalid_0's auc: 0.914573\n",
      "[154]\tvalid_0's auc: 0.914351\n",
      "[155]\tvalid_0's auc: 0.914228\n",
      "[156]\tvalid_0's auc: 0.914379\n",
      "[157]\tvalid_0's auc: 0.914501\n",
      "[158]\tvalid_0's auc: 0.914836\n",
      "[159]\tvalid_0's auc: 0.914693\n",
      "[160]\tvalid_0's auc: 0.914686\n",
      "[161]\tvalid_0's auc: 0.914644\n",
      "[162]\tvalid_0's auc: 0.915011\n",
      "[163]\tvalid_0's auc: 0.915286\n",
      "[164]\tvalid_0's auc: 0.915215\n",
      "[165]\tvalid_0's auc: 0.915018\n",
      "[166]\tvalid_0's auc: 0.915122\n",
      "[167]\tvalid_0's auc: 0.914955\n",
      "[168]\tvalid_0's auc: 0.914499\n",
      "[169]\tvalid_0's auc: 0.91458\n",
      "[170]\tvalid_0's auc: 0.914746\n",
      "[171]\tvalid_0's auc: 0.914925\n",
      "[172]\tvalid_0's auc: 0.914925\n",
      "[173]\tvalid_0's auc: 0.914944\n",
      "[174]\tvalid_0's auc: 0.914885\n",
      "[175]\tvalid_0's auc: 0.914872\n",
      "[176]\tvalid_0's auc: 0.914724\n",
      "[177]\tvalid_0's auc: 0.914683\n",
      "[178]\tvalid_0's auc: 0.914474\n",
      "[179]\tvalid_0's auc: 0.914348\n",
      "[180]\tvalid_0's auc: 0.91438\n",
      "[181]\tvalid_0's auc: 0.914705\n",
      "[182]\tvalid_0's auc: 0.914908\n",
      "[183]\tvalid_0's auc: 0.915169\n",
      "[184]\tvalid_0's auc: 0.915313\n",
      "[185]\tvalid_0's auc: 0.915288\n",
      "[186]\tvalid_0's auc: 0.915498\n",
      "[187]\tvalid_0's auc: 0.915696\n",
      "[188]\tvalid_0's auc: 0.915747\n",
      "[189]\tvalid_0's auc: 0.915668\n",
      "[190]\tvalid_0's auc: 0.915469\n",
      "[191]\tvalid_0's auc: 0.915438\n",
      "[192]\tvalid_0's auc: 0.915454\n",
      "[193]\tvalid_0's auc: 0.915235\n",
      "[194]\tvalid_0's auc: 0.915409\n",
      "[195]\tvalid_0's auc: 0.915381\n",
      "[196]\tvalid_0's auc: 0.915499\n",
      "[197]\tvalid_0's auc: 0.915431\n",
      "[198]\tvalid_0's auc: 0.915407\n",
      "[199]\tvalid_0's auc: 0.915585\n",
      "[200]\tvalid_0's auc: 0.915547\n",
      "[201]\tvalid_0's auc: 0.915657\n",
      "[202]\tvalid_0's auc: 0.915913\n",
      "[203]\tvalid_0's auc: 0.915932\n",
      "[204]\tvalid_0's auc: 0.916222\n",
      "[205]\tvalid_0's auc: 0.916206\n",
      "[206]\tvalid_0's auc: 0.916093\n",
      "[207]\tvalid_0's auc: 0.915887\n",
      "[208]\tvalid_0's auc: 0.915844\n",
      "[209]\tvalid_0's auc: 0.915686\n",
      "[210]\tvalid_0's auc: 0.915749\n",
      "[211]\tvalid_0's auc: 0.915986\n",
      "[212]\tvalid_0's auc: 0.915772\n",
      "[213]\tvalid_0's auc: 0.915723\n",
      "[214]\tvalid_0's auc: 0.91565\n",
      "[215]\tvalid_0's auc: 0.915433\n",
      "[216]\tvalid_0's auc: 0.915512\n",
      "[217]\tvalid_0's auc: 0.915435\n",
      "[218]\tvalid_0's auc: 0.915236\n",
      "[219]\tvalid_0's auc: 0.915171\n",
      "[220]\tvalid_0's auc: 0.915103\n",
      "[221]\tvalid_0's auc: 0.914902\n",
      "[222]\tvalid_0's auc: 0.915279\n",
      "[223]\tvalid_0's auc: 0.915362\n",
      "[224]\tvalid_0's auc: 0.915556\n",
      "[225]\tvalid_0's auc: 0.915473\n",
      "[226]\tvalid_0's auc: 0.915338\n",
      "[227]\tvalid_0's auc: 0.915217\n",
      "[228]\tvalid_0's auc: 0.915363\n",
      "[229]\tvalid_0's auc: 0.91547\n",
      "[230]\tvalid_0's auc: 0.915623\n",
      "[231]\tvalid_0's auc: 0.91582\n",
      "[232]\tvalid_0's auc: 0.915712\n",
      "[233]\tvalid_0's auc: 0.915699\n",
      "[234]\tvalid_0's auc: 0.915878\n",
      "[235]\tvalid_0's auc: 0.915999\n",
      "[236]\tvalid_0's auc: 0.916121\n",
      "[237]\tvalid_0's auc: 0.915933\n",
      "[238]\tvalid_0's auc: 0.916\n",
      "[239]\tvalid_0's auc: 0.915936\n",
      "[240]\tvalid_0's auc: 0.91578\n",
      "[241]\tvalid_0's auc: 0.916067\n",
      "[242]\tvalid_0's auc: 0.916385\n",
      "[243]\tvalid_0's auc: 0.91643\n",
      "[244]\tvalid_0's auc: 0.916638\n",
      "[245]\tvalid_0's auc: 0.916716\n",
      "[246]\tvalid_0's auc: 0.91671\n",
      "[247]\tvalid_0's auc: 0.916685\n",
      "[248]\tvalid_0's auc: 0.916677\n",
      "[249]\tvalid_0's auc: 0.916779\n",
      "[250]\tvalid_0's auc: 0.916843\n",
      "[251]\tvalid_0's auc: 0.917144\n",
      "[252]\tvalid_0's auc: 0.917123\n",
      "[253]\tvalid_0's auc: 0.916938\n",
      "[254]\tvalid_0's auc: 0.917171\n",
      "[255]\tvalid_0's auc: 0.917286\n",
      "[256]\tvalid_0's auc: 0.917464\n",
      "[257]\tvalid_0's auc: 0.917396\n",
      "[258]\tvalid_0's auc: 0.917301\n",
      "[259]\tvalid_0's auc: 0.917493\n",
      "[260]\tvalid_0's auc: 0.917511\n",
      "[261]\tvalid_0's auc: 0.917702\n",
      "[262]\tvalid_0's auc: 0.917535\n",
      "[263]\tvalid_0's auc: 0.917398\n",
      "[264]\tvalid_0's auc: 0.917451\n",
      "[265]\tvalid_0's auc: 0.917432\n",
      "[266]\tvalid_0's auc: 0.917332\n",
      "[267]\tvalid_0's auc: 0.917531\n",
      "[268]\tvalid_0's auc: 0.91771\n",
      "[269]\tvalid_0's auc: 0.917507\n",
      "[270]\tvalid_0's auc: 0.917509\n",
      "[271]\tvalid_0's auc: 0.917565\n",
      "[272]\tvalid_0's auc: 0.917585\n",
      "[273]\tvalid_0's auc: 0.917301\n",
      "[274]\tvalid_0's auc: 0.917246\n",
      "[275]\tvalid_0's auc: 0.917232\n",
      "[276]\tvalid_0's auc: 0.917202\n",
      "[277]\tvalid_0's auc: 0.917263\n",
      "[278]\tvalid_0's auc: 0.917113\n",
      "[279]\tvalid_0's auc: 0.917102\n",
      "[280]\tvalid_0's auc: 0.916914\n",
      "[281]\tvalid_0's auc: 0.916987\n",
      "[282]\tvalid_0's auc: 0.916923\n",
      "[283]\tvalid_0's auc: 0.917209\n",
      "[284]\tvalid_0's auc: 0.9169\n",
      "[285]\tvalid_0's auc: 0.916899\n",
      "[286]\tvalid_0's auc: 0.916961\n",
      "[287]\tvalid_0's auc: 0.916937\n",
      "[288]\tvalid_0's auc: 0.917011\n",
      "[289]\tvalid_0's auc: 0.917255\n",
      "[290]\tvalid_0's auc: 0.917413\n",
      "[291]\tvalid_0's auc: 0.917603\n",
      "[292]\tvalid_0's auc: 0.917754\n",
      "[293]\tvalid_0's auc: 0.917523\n",
      "[294]\tvalid_0's auc: 0.917449\n",
      "[295]\tvalid_0's auc: 0.917474\n",
      "[296]\tvalid_0's auc: 0.917516\n",
      "[297]\tvalid_0's auc: 0.917523\n",
      "[298]\tvalid_0's auc: 0.917643\n",
      "[299]\tvalid_0's auc: 0.917604\n",
      "[300]\tvalid_0's auc: 0.917459\n",
      "[301]\tvalid_0's auc: 0.917112\n",
      "[302]\tvalid_0's auc: 0.917435\n",
      "[303]\tvalid_0's auc: 0.917508\n"
     ]
    },
    {
     "name": "stdout",
     "output_type": "stream",
     "text": [
      "[304]\tvalid_0's auc: 0.91738\n",
      "[305]\tvalid_0's auc: 0.917485\n",
      "[306]\tvalid_0's auc: 0.917369\n",
      "[307]\tvalid_0's auc: 0.917478\n",
      "[308]\tvalid_0's auc: 0.917632\n",
      "[309]\tvalid_0's auc: 0.91737\n",
      "[310]\tvalid_0's auc: 0.917457\n",
      "[311]\tvalid_0's auc: 0.917331\n",
      "[312]\tvalid_0's auc: 0.917373\n",
      "[313]\tvalid_0's auc: 0.917606\n",
      "[314]\tvalid_0's auc: 0.917572\n",
      "[315]\tvalid_0's auc: 0.917324\n",
      "[316]\tvalid_0's auc: 0.917338\n",
      "[317]\tvalid_0's auc: 0.917508\n",
      "[318]\tvalid_0's auc: 0.917323\n",
      "[319]\tvalid_0's auc: 0.917467\n",
      "[320]\tvalid_0's auc: 0.917397\n",
      "[321]\tvalid_0's auc: 0.917357\n",
      "[322]\tvalid_0's auc: 0.917157\n",
      "[323]\tvalid_0's auc: 0.917224\n",
      "[324]\tvalid_0's auc: 0.917368\n",
      "[325]\tvalid_0's auc: 0.91738\n",
      "[326]\tvalid_0's auc: 0.917524\n",
      "[327]\tvalid_0's auc: 0.917356\n",
      "[328]\tvalid_0's auc: 0.917472\n",
      "[329]\tvalid_0's auc: 0.917393\n",
      "[330]\tvalid_0's auc: 0.917477\n",
      "[331]\tvalid_0's auc: 0.917398\n",
      "[332]\tvalid_0's auc: 0.91729\n",
      "[333]\tvalid_0's auc: 0.917244\n",
      "[334]\tvalid_0's auc: 0.917087\n",
      "[335]\tvalid_0's auc: 0.917115\n",
      "[336]\tvalid_0's auc: 0.917037\n",
      "[337]\tvalid_0's auc: 0.917129\n",
      "[338]\tvalid_0's auc: 0.917317\n",
      "[339]\tvalid_0's auc: 0.917171\n",
      "[340]\tvalid_0's auc: 0.917039\n",
      "[341]\tvalid_0's auc: 0.917156\n",
      "[342]\tvalid_0's auc: 0.917409\n",
      "[343]\tvalid_0's auc: 0.917568\n",
      "[344]\tvalid_0's auc: 0.917605\n",
      "[345]\tvalid_0's auc: 0.917744\n",
      "[346]\tvalid_0's auc: 0.917653\n",
      "[347]\tvalid_0's auc: 0.917747\n",
      "[348]\tvalid_0's auc: 0.917771\n",
      "[349]\tvalid_0's auc: 0.917915\n",
      "[350]\tvalid_0's auc: 0.917804\n",
      "[351]\tvalid_0's auc: 0.917803\n",
      "[352]\tvalid_0's auc: 0.917712\n",
      "[353]\tvalid_0's auc: 0.917734\n",
      "[354]\tvalid_0's auc: 0.917668\n",
      "[355]\tvalid_0's auc: 0.917694\n",
      "[356]\tvalid_0's auc: 0.917639\n",
      "[357]\tvalid_0's auc: 0.917697\n",
      "[358]\tvalid_0's auc: 0.917753\n",
      "[359]\tvalid_0's auc: 0.917577\n",
      "[360]\tvalid_0's auc: 0.917504\n",
      "[361]\tvalid_0's auc: 0.917518\n",
      "[362]\tvalid_0's auc: 0.917581\n",
      "[363]\tvalid_0's auc: 0.917603\n",
      "[364]\tvalid_0's auc: 0.917608\n",
      "[365]\tvalid_0's auc: 0.917527\n",
      "[366]\tvalid_0's auc: 0.917381\n",
      "[367]\tvalid_0's auc: 0.917474\n",
      "[368]\tvalid_0's auc: 0.917565\n",
      "[369]\tvalid_0's auc: 0.917461\n",
      "[370]\tvalid_0's auc: 0.917474\n",
      "[371]\tvalid_0's auc: 0.917506\n",
      "[372]\tvalid_0's auc: 0.917533\n",
      "[373]\tvalid_0's auc: 0.917549\n",
      "[374]\tvalid_0's auc: 0.917508\n",
      "[375]\tvalid_0's auc: 0.917431\n",
      "[376]\tvalid_0's auc: 0.917463\n",
      "[377]\tvalid_0's auc: 0.917286\n",
      "[378]\tvalid_0's auc: 0.917271\n",
      "[379]\tvalid_0's auc: 0.917223\n",
      "[380]\tvalid_0's auc: 0.917088\n",
      "[381]\tvalid_0's auc: 0.917485\n",
      "[382]\tvalid_0's auc: 0.917612\n",
      "[383]\tvalid_0's auc: 0.917737\n",
      "[384]\tvalid_0's auc: 0.917825\n",
      "[385]\tvalid_0's auc: 0.917773\n",
      "[386]\tvalid_0's auc: 0.917841\n",
      "[387]\tvalid_0's auc: 0.918001\n",
      "[388]\tvalid_0's auc: 0.918277\n",
      "[389]\tvalid_0's auc: 0.91825\n",
      "[390]\tvalid_0's auc: 0.918259\n",
      "[391]\tvalid_0's auc: 0.918208\n",
      "[392]\tvalid_0's auc: 0.918164\n",
      "[393]\tvalid_0's auc: 0.918313\n",
      "[394]\tvalid_0's auc: 0.918254\n",
      "[395]\tvalid_0's auc: 0.918269\n",
      "[396]\tvalid_0's auc: 0.91833\n",
      "[397]\tvalid_0's auc: 0.918315\n",
      "[398]\tvalid_0's auc: 0.918345\n",
      "[399]\tvalid_0's auc: 0.918496\n",
      "[400]\tvalid_0's auc: 0.91859\n",
      "[401]\tvalid_0's auc: 0.918592\n",
      "[402]\tvalid_0's auc: 0.918547\n",
      "[403]\tvalid_0's auc: 0.91858\n",
      "[404]\tvalid_0's auc: 0.918656\n",
      "[405]\tvalid_0's auc: 0.91868\n",
      "[406]\tvalid_0's auc: 0.918675\n",
      "[407]\tvalid_0's auc: 0.918631\n",
      "[408]\tvalid_0's auc: 0.918551\n",
      "[409]\tvalid_0's auc: 0.918486\n",
      "[410]\tvalid_0's auc: 0.918508\n",
      "[411]\tvalid_0's auc: 0.91848\n",
      "[412]\tvalid_0's auc: 0.918486\n",
      "[413]\tvalid_0's auc: 0.918489\n",
      "[414]\tvalid_0's auc: 0.918564\n",
      "[415]\tvalid_0's auc: 0.91848\n",
      "[416]\tvalid_0's auc: 0.918405\n",
      "[417]\tvalid_0's auc: 0.918301\n",
      "[418]\tvalid_0's auc: 0.918226\n",
      "[419]\tvalid_0's auc: 0.91816\n",
      "[420]\tvalid_0's auc: 0.918201\n",
      "[421]\tvalid_0's auc: 0.918297\n",
      "[422]\tvalid_0's auc: 0.918299\n",
      "[423]\tvalid_0's auc: 0.918284\n",
      "[424]\tvalid_0's auc: 0.918482\n",
      "[425]\tvalid_0's auc: 0.918442\n",
      "[426]\tvalid_0's auc: 0.918571\n",
      "[427]\tvalid_0's auc: 0.918595\n",
      "[428]\tvalid_0's auc: 0.918743\n",
      "[429]\tvalid_0's auc: 0.918799\n",
      "[430]\tvalid_0's auc: 0.918691\n",
      "[431]\tvalid_0's auc: 0.918585\n",
      "[432]\tvalid_0's auc: 0.918475\n",
      "[433]\tvalid_0's auc: 0.918437\n",
      "[434]\tvalid_0's auc: 0.918519\n",
      "[435]\tvalid_0's auc: 0.918406\n",
      "[436]\tvalid_0's auc: 0.918413\n",
      "[437]\tvalid_0's auc: 0.918398\n",
      "[438]\tvalid_0's auc: 0.918474\n",
      "[439]\tvalid_0's auc: 0.918399\n",
      "[440]\tvalid_0's auc: 0.918327\n",
      "[441]\tvalid_0's auc: 0.918375\n",
      "[442]\tvalid_0's auc: 0.918499\n",
      "[443]\tvalid_0's auc: 0.918514\n",
      "[444]\tvalid_0's auc: 0.918439\n",
      "[445]\tvalid_0's auc: 0.918333\n",
      "[446]\tvalid_0's auc: 0.918032\n",
      "[447]\tvalid_0's auc: 0.918035\n",
      "[448]\tvalid_0's auc: 0.918102\n",
      "[449]\tvalid_0's auc: 0.918154\n",
      "[450]\tvalid_0's auc: 0.918183\n",
      "[451]\tvalid_0's auc: 0.91835\n",
      "[452]\tvalid_0's auc: 0.918488\n",
      "[453]\tvalid_0's auc: 0.918517\n",
      "[454]\tvalid_0's auc: 0.918445\n",
      "[455]\tvalid_0's auc: 0.918334\n",
      "[456]\tvalid_0's auc: 0.918244\n",
      "[457]\tvalid_0's auc: 0.918287\n",
      "[458]\tvalid_0's auc: 0.918281\n",
      "[459]\tvalid_0's auc: 0.918237\n",
      "[460]\tvalid_0's auc: 0.918243\n",
      "[461]\tvalid_0's auc: 0.918064\n",
      "[462]\tvalid_0's auc: 0.918099\n",
      "[463]\tvalid_0's auc: 0.918213\n",
      "[464]\tvalid_0's auc: 0.918247\n",
      "[465]\tvalid_0's auc: 0.91813\n",
      "[466]\tvalid_0's auc: 0.917973\n",
      "[467]\tvalid_0's auc: 0.918169\n",
      "[468]\tvalid_0's auc: 0.918224\n",
      "[469]\tvalid_0's auc: 0.918131\n",
      "[470]\tvalid_0's auc: 0.918224\n",
      "[471]\tvalid_0's auc: 0.918121\n",
      "[472]\tvalid_0's auc: 0.918165\n",
      "[473]\tvalid_0's auc: 0.918163\n",
      "[474]\tvalid_0's auc: 0.918065\n",
      "[475]\tvalid_0's auc: 0.917998\n",
      "[476]\tvalid_0's auc: 0.91779\n",
      "[477]\tvalid_0's auc: 0.91774\n",
      "[478]\tvalid_0's auc: 0.917701\n",
      "[479]\tvalid_0's auc: 0.917636\n",
      "[480]\tvalid_0's auc: 0.917745\n",
      "[481]\tvalid_0's auc: 0.917783\n",
      "[482]\tvalid_0's auc: 0.917838\n",
      "[483]\tvalid_0's auc: 0.917853\n",
      "[484]\tvalid_0's auc: 0.917905\n",
      "[485]\tvalid_0's auc: 0.917915\n",
      "[486]\tvalid_0's auc: 0.918051\n",
      "[487]\tvalid_0's auc: 0.917923\n",
      "[488]\tvalid_0's auc: 0.917786\n",
      "[489]\tvalid_0's auc: 0.917705\n",
      "[490]\tvalid_0's auc: 0.917733\n",
      "[491]\tvalid_0's auc: 0.917598\n",
      "[492]\tvalid_0's auc: 0.917571\n",
      "[493]\tvalid_0's auc: 0.917572\n",
      "[494]\tvalid_0's auc: 0.91744\n",
      "[495]\tvalid_0's auc: 0.917508\n",
      "[496]\tvalid_0's auc: 0.917549\n",
      "[497]\tvalid_0's auc: 0.91754\n",
      "[498]\tvalid_0's auc: 0.917434\n",
      "[499]\tvalid_0's auc: 0.917364\n",
      "[500]\tvalid_0's auc: 0.917293\n",
      "[501]\tvalid_0's auc: 0.917399\n",
      "[502]\tvalid_0's auc: 0.917328\n",
      "[503]\tvalid_0's auc: 0.917429\n",
      "[504]\tvalid_0's auc: 0.917249\n",
      "[505]\tvalid_0's auc: 0.917251\n",
      "[506]\tvalid_0's auc: 0.917297\n",
      "[507]\tvalid_0's auc: 0.917363\n",
      "[508]\tvalid_0's auc: 0.917362\n",
      "[509]\tvalid_0's auc: 0.917495\n",
      "[510]\tvalid_0's auc: 0.917647\n",
      "[511]\tvalid_0's auc: 0.91769\n",
      "[512]\tvalid_0's auc: 0.917562\n",
      "[513]\tvalid_0's auc: 0.917572\n",
      "[514]\tvalid_0's auc: 0.917609\n",
      "[515]\tvalid_0's auc: 0.917677\n",
      "[516]\tvalid_0's auc: 0.917656\n",
      "[517]\tvalid_0's auc: 0.917719\n",
      "[518]\tvalid_0's auc: 0.917755\n",
      "[519]\tvalid_0's auc: 0.917678\n",
      "[520]\tvalid_0's auc: 0.917707\n",
      "[521]\tvalid_0's auc: 0.917766\n",
      "[522]\tvalid_0's auc: 0.917667\n",
      "[523]\tvalid_0's auc: 0.917661\n",
      "[524]\tvalid_0's auc: 0.917781\n",
      "[525]\tvalid_0's auc: 0.91784\n",
      "[526]\tvalid_0's auc: 0.917964\n",
      "[527]\tvalid_0's auc: 0.918019\n",
      "[528]\tvalid_0's auc: 0.918068\n",
      "[529]\tvalid_0's auc: 0.918124\n",
      "Early stopping, best iteration is:\n",
      "[429]\tvalid_0's auc: 0.918799\n"
     ]
    }
   ],
   "source": [
    "model_lgbm = lgb.train(parameters,\n",
    "                       train_data,\n",
    "                       valid_sets=test_data,\n",
    "                       num_boost_round=20000,\n",
    "                       early_stopping_rounds=100)"
   ]
  },
  {
   "cell_type": "code",
   "execution_count": 111,
   "metadata": {},
   "outputs": [],
   "source": [
    "#Prediction\n",
    "y_pred_lg =  model_lgbm.predict(xg_X_test)"
   ]
  },
  {
   "cell_type": "code",
   "execution_count": 112,
   "metadata": {},
   "outputs": [],
   "source": [
    "#convert into binary values\n",
    "for i in range(0,len(y_pred_lg)):\n",
    "    if y_pred_lg[i]>=.5:       # setting threshold to .5\n",
    "       y_pred_lg[i]=1\n",
    "    else:  \n",
    "       y_pred_lg[i]=0"
   ]
  },
  {
   "cell_type": "code",
   "execution_count": 113,
   "metadata": {},
   "outputs": [
    {
     "data": {
      "text/plain": [
       "0.8377518557794273"
      ]
     },
     "execution_count": 113,
     "metadata": {},
     "output_type": "execute_result"
    }
   ],
   "source": [
    "from sklearn.metrics import f1_score\n",
    "\n",
    "f1_score(xg_y_test, y_pred_lg)"
   ]
  },
  {
   "cell_type": "code",
   "execution_count": 114,
   "metadata": {},
   "outputs": [
    {
     "name": "stdout",
     "output_type": "stream",
     "text": [
      "AUC: 0.839\n"
     ]
    },
    {
     "data": {
      "image/png": "[encoded data removed]",
      "text/plain": [
       "<Figure size 432x288 with 1 Axes>"
      ]
     },
     "metadata": {
      "needs_background": "light"
     },
     "output_type": "display_data"
    }
   ],
   "source": [
    "auc = roc_auc_score(xg_y_test, y_pred_lg)\n",
    "print('AUC: %.3f' % auc)\n",
    "# calculate roc curve\n",
    "fpr, tpr, thresholds = roc_curve(xg_y_test, y_pred_lg)\n",
    "# plot no skill\n",
    "pyplot.plot([0, 1], [0, 1], linestyle='--')\n",
    "# plot the roc curve for the model\n",
    "pyplot.plot(fpr, tpr, marker='.')\n",
    "# show the plot\n",
    "pyplot.show()"
   ]
  },
  {
   "cell_type": "markdown",
   "metadata": {},
   "source": [
    "# CatBoost"
   ]
  },
  {
   "cell_type": "code",
   "execution_count": 115,
   "metadata": {},
   "outputs": [],
   "source": [
    "from catboost import CatBoostClassifier"
   ]
  },
  {
   "cell_type": "code",
   "execution_count": 116,
   "metadata": {},
   "outputs": [],
   "source": [
    "cat_features = [0, 1]\n",
    "\n",
    "model_cb = CatBoostClassifier(iterations=2,\n",
    "                           learning_rate=1,\n",
    "                           depth=2)"
   ]
  },
  {
   "cell_type": "code",
   "execution_count": 117,
   "metadata": {},
   "outputs": [
    {
     "name": "stdout",
     "output_type": "stream",
     "text": [
      "0:\tlearn: 0.6302841\ttotal: 99.3ms\tremaining: 99.3ms\n",
      "1:\tlearn: 0.6053132\ttotal: 104ms\tremaining: 0us\n"
     ]
    },
    {
     "data": {
      "text/plain": [
       "<catboost.core.CatBoostClassifier at 0x21058087b80>"
      ]
     },
     "execution_count": 117,
     "metadata": {},
     "output_type": "execute_result"
    }
   ],
   "source": [
    "# Fit model\n",
    "model_cb.fit(xg_X_train, xg_y_train)"
   ]
  },
  {
   "cell_type": "markdown",
   "metadata": {},
   "source": [
    "# Grid Search - Maximizing the F1-Score"
   ]
  },
  {
   "cell_type": "code",
   "execution_count": 118,
   "metadata": {},
   "outputs": [],
   "source": [
    "cv_params = {'max_depth': [4,5,6], 'min_child_weight': [2,3,4], 'learning_rate':  [0,1, 0.2,0.5], 'subsample': [0.8,0.9,1], 'max_delta_step': [1,2], 'colsample_bytree': [0.7, 0.9, 1] }    # parameters to be tries in the grid search\n",
    "fix_params = {'objective': 'binary:logistic'}   #other parameters, fixed for the moment \n",
    "csv = GridSearchCV(XGBClassifier(**fix_params), cv_params, scoring = 'f1', cv = 5)"
   ]
  },
  {
   "cell_type": "code",
   "execution_count": 119,
   "metadata": {},
   "outputs": [
    {
     "name": "stdout",
     "output_type": "stream",
     "text": [
      "Model took 0.00 seconds to complete.\n"
     ]
    }
   ],
   "source": [
    "start = time()\n",
    "#csv.fit(xg_X_train, xg_y_train)\n",
    "print(\"Model took %.2f seconds to complete.\" % (time()-start))"
   ]
  },
  {
   "cell_type": "code",
   "execution_count": 120,
   "metadata": {},
   "outputs": [],
   "source": [
    "#csv.best_params_"
   ]
  },
  {
   "cell_type": "code",
   "execution_count": 121,
   "metadata": {},
   "outputs": [],
   "source": [
    "xg_model = XGBClassifier(n_estimators = 1000,\n",
    "                        learning_rate = 0.2,\n",
    "                        max_delta_step = 1,\n",
    "                        max_depth = 4,\n",
    "                        min_child_weight = 2,\n",
    "                        gamma = 0.01,\n",
    "                        subsample = 0.9, \n",
    "                        colsample_bytree = 0.9, \n",
    "                        seed = 1234,\n",
    "                        objective= 'binary:logistic',\n",
    "                        eval_metric = 'auc')"
   ]
  },
  {
   "cell_type": "code",
   "execution_count": 122,
   "metadata": {},
   "outputs": [
    {
     "name": "stdout",
     "output_type": "stream",
     "text": [
      "Model took 4.59 seconds to complete.\n",
      "0.8375438596491228\n"
     ]
    }
   ],
   "source": [
    "start = time()\n",
    "xg_model.fit(xg_X_train, xg_y_train)\n",
    "xg_preds = xg_model.predict(xg_X_test)\n",
    "print(\"Model took %.2f seconds to complete.\" % (time()-start))\n",
    "print(accuracy_score(xg_y_test, xg_preds))"
   ]
  },
  {
   "cell_type": "code",
   "execution_count": 123,
   "metadata": {},
   "outputs": [
    {
     "data": {
      "text/plain": [
       "0.8363379285966772"
      ]
     },
     "execution_count": 123,
     "metadata": {},
     "output_type": "execute_result"
    }
   ],
   "source": [
    "from sklearn.metrics import f1_score\n",
    "\n",
    "f1_score(xg_y_test, xg_preds)"
   ]
  },
  {
   "cell_type": "markdown",
   "metadata": {},
   "source": [
    "# Modelo de ensamble"
   ]
  },
  {
   "cell_type": "code",
   "execution_count": 141,
   "metadata": {},
   "outputs": [],
   "source": [
    "xg_preds = xg_model.predict(xg_X_test)\n",
    "rf_preds = rclf.predict(xg_X_test)\n",
    "lg_preds=y_pred_lg"
   ]
  },
  {
   "cell_type": "code",
   "execution_count": 142,
   "metadata": {},
   "outputs": [],
   "source": [
    "df_total = pd.DataFrame(xg_preds, columns=['pred_xg']) \n",
    "df_total['pred_rf'] = pd.DataFrame(rf_preds, columns=['pred_rf']) \n",
    "df_total['pred_lg'] = pd.DataFrame(lg_preds, columns=['pred_lg']) "
   ]
  },
  {
   "cell_type": "code",
   "execution_count": 143,
   "metadata": {},
   "outputs": [],
   "source": [
    "df_total['Final'] = df_total['pred_xg']*(1/3) + df_total['pred_rf']*(1/3) + df_total['pred_lg']*(1/3)"
   ]
  },
  {
   "cell_type": "code",
   "execution_count": 144,
   "metadata": {},
   "outputs": [],
   "source": [
    "#Prediction\n",
    "y_pred_en= df_total['Final'] \n",
    "#convert into binary values\n",
    "for i in range(0,len(y_pred_en)):\n",
    "    if y_pred_en[i]>=.5:       # setting threshold to .5\n",
    "       y_pred_en[i]=1\n",
    "    else:  \n",
    "       y_pred_en[i]=0"
   ]
  },
  {
   "cell_type": "code",
   "execution_count": 145,
   "metadata": {},
   "outputs": [
    {
     "data": {
      "text/plain": [
       "0.8462633451957295"
      ]
     },
     "execution_count": 145,
     "metadata": {},
     "output_type": "execute_result"
    }
   ],
   "source": [
    "from sklearn.metrics import f1_score\n",
    "\n",
    "f1_score(xg_y_test, y_pred_en)"
   ]
  },
  {
   "cell_type": "code",
   "execution_count": 146,
   "metadata": {},
   "outputs": [
    {
     "name": "stdout",
     "output_type": "stream",
     "text": [
      "AUC: 0.848\n"
     ]
    },
    {
     "data": {
      "image/png": "[encoded data removed]",
      "text/plain": [
       "<Figure size 432x288 with 1 Axes>"
      ]
     },
     "metadata": {
      "needs_background": "light"
     },
     "output_type": "display_data"
    }
   ],
   "source": [
    "auc = roc_auc_score(xg_y_test, y_pred_en)\n",
    "print('AUC: %.3f' % auc)\n",
    "# calculate roc curve\n",
    "fpr, tpr, thresholds = roc_curve(xg_y_test, y_pred_en)\n",
    "# plot no skill\n",
    "pyplot.plot([0, 1], [0, 1], linestyle='--')\n",
    "# plot the roc curve for the model\n",
    "pyplot.plot(fpr, tpr, marker='.')\n",
    "# show the plot\n",
    "pyplot.show()"
   ]
  },
  {
   "cell_type": "markdown",
   "metadata": {},
   "source": [
    "# Predicción"
   ]
  },
  {
   "cell_type": "code",
   "execution_count": 152,
   "metadata": {},
   "outputs": [],
   "source": [
    "xg_preds = xg_model.predict(final_X_test)\n",
    "rf_preds = rclf.predict(final_X_test)\n",
    "lg_preds= model_lgbm.predict(final_X_test)"
   ]
  },
  {
   "cell_type": "code",
   "execution_count": 153,
   "metadata": {},
   "outputs": [],
   "source": [
    "#convert into binary values\n",
    "for i in range(0,len(lg_preds)):\n",
    "    if lg_preds[i]>=.5:       # setting threshold to .5\n",
    "       lg_preds[i]=1\n",
    "    else:  \n",
    "       lg_preds[i]=0"
   ]
  },
  {
   "cell_type": "code",
   "execution_count": 154,
   "metadata": {},
   "outputs": [],
   "source": [
    "df_total = pd.DataFrame(xg_preds, columns=['pred_xg']) \n",
    "df_total['pred_rf'] = pd.DataFrame(rf_preds, columns=['pred_rf']) \n",
    "df_total['pred_lg'] = pd.DataFrame(lg_preds, columns=['pred_lg']) "
   ]
  },
  {
   "cell_type": "code",
   "execution_count": 155,
   "metadata": {},
   "outputs": [],
   "source": [
    "df_total['Final'] = df_total['pred_xg']*(1/3) + df_total['pred_rf']*(1/3) + df_total['pred_lg']*(1/3)"
   ]
  },
  {
   "cell_type": "code",
   "execution_count": 156,
   "metadata": {},
   "outputs": [],
   "source": [
    "#Prediction\n",
    "xg_preds= df_total['Final'] \n",
    "#convert into binary values\n",
    "for i in range(0,len(xg_preds)):\n",
    "    if xg_preds[i]>=.5:       # setting threshold to .5\n",
    "       xg_preds[i]=1\n",
    "    else:  \n",
    "       xg_preds[i]=0"
   ]
  },
  {
   "cell_type": "code",
   "execution_count": 157,
   "metadata": {},
   "outputs": [],
   "source": [
    "sub = pd.DataFrame()\n",
    "sub['id'] = test_id\n",
    "sub['rating'] = xg_preds"
   ]
  },
  {
   "cell_type": "code",
   "execution_count": 158,
   "metadata": {},
   "outputs": [],
   "source": [
    "sub.to_csv('../data/Submission_i.csv', index=False)"
   ]
  },
  {
   "cell_type": "code",
   "execution_count": null,
   "metadata": {},
   "outputs": [],
   "source": []
  }
 ],
 "metadata": {
  "kernelspec": {
   "display_name": "Python 3",
   "language": "python",
   "name": "python3"
  },
  "language_info": {
   "codemirror_mode": {
    "name": "ipython",
    "version": 3
   },
   "file_extension": ".py",
   "mimetype": "text/x-python",
   "name": "python",
   "nbconvert_exporter": "python",
   "pygments_lexer": "ipython3",
   "version": "3.8.3"
  }
 },
 "nbformat": 4,
 "nbformat_minor": 4
}
