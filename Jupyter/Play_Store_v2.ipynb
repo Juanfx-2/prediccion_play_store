{
 "cells": [
  {
   "cell_type": "markdown",
   "metadata": {},
   "source": [
    "# Prediciendo El Rating De Las Aplicaciones En Google Play Store"
   ]
  },
  {
   "cell_type": "markdown",
   "metadata": {},
   "source": [
    "### Descripción\n",
    "\n",
    "El mercado de las aplicaciones móviles cada vez es más competitivo y entender que variables pueden favorecer a la hora de diseñar dichas aplicaciones puede ser de gran ayuda en la toma de decisiones de negocio.  \n",
    "\n",
    "El objetivo de esta competencia será analizar y clasificar el rating de las aplicaciones móviles en el mercado Android de Google Play Store. "
   ]
  },
  {
   "cell_type": "markdown",
   "metadata": {},
   "source": [
    "\n",
    "### Dataset\n",
    "\n",
    "El conjunto de datos contiene características principales de las aplicaciones en el mercado de Google Play Store. \n",
    "\n",
    "Definición de variables:\n",
    "\n",
    "#### ID  = Identificador único de la aplicación\n",
    "#### App  = Nombre de la aplicación\n",
    "#### Category  =  Categoría de la aplicación \n",
    "#### Reviews = Numero de reseñas de la aplicación \n",
    "#### Size  = Tamaño de la aplicación \n",
    "#### Installs  = Numero de descargas/instalaciones en el equipo\n",
    "#### Type = Gratis (Free) o Paid (Paga)\n",
    "#### Price  = Precio de la aplicación en dólares\n",
    "#### Content rating = Calificación de contenido\n",
    "#### Genres = Géneros\n",
    "#### Last Updated = Ultimo día de actualización \n",
    "#### Current Ver = Versión actual de la aplicación \n",
    "#### Android Ver = Versión de Android requerida\n",
    "#### Rating = Calificación de la aplicación "
   ]
  },
  {
   "cell_type": "markdown",
   "metadata": {},
   "source": [
    "# Loading & Exploring the Data Structure"
   ]
  },
  {
   "cell_type": "markdown",
   "metadata": {},
   "source": [
    "Cargue de librerias"
   ]
  },
  {
   "cell_type": "code",
   "execution_count": 1,
   "metadata": {},
   "outputs": [],
   "source": [
    "import pandas as pd\n",
    "import numpy as np\n",
    "import matplotlib.pyplot as plt\n",
    "import seaborn as sns\n",
    "import missingno as msno\n",
    "from time import time\n",
    "\n",
    "from math import sqrt\n",
    "import statsmodels.api as sm\n",
    "from statsmodels.formula.api import ols\n",
    "import scipy.stats as st\n",
    "from scipy.special import boxcox1p\n",
    "\n",
    "from sklearn.cluster import KMeans\n",
    "from sklearn import svm\n",
    "from sklearn.metrics import mean_absolute_error, mean_squared_error\n",
    "from sklearn.model_selection import train_test_split, KFold, cross_val_score, GridSearchCV\n",
    "from sklearn.preprocessing import RobustScaler, LabelEncoder, StandardScaler\n",
    "from sklearn.linear_model import Lasso, Ridge\n",
    "from sklearn.pipeline import make_pipeline\n",
    "from xgboost.sklearn import XGBClassifier"
   ]
  },
  {
   "cell_type": "markdown",
   "metadata": {},
   "source": [
    "Cargue de datasets"
   ]
  },
  {
   "cell_type": "code",
   "execution_count": 2,
   "metadata": {},
   "outputs": [],
   "source": [
    "train = pd.read_csv(\"../data/Train.csv\")\n",
    "test = pd.read_csv(\"../data/Test.csv\")"
   ]
  },
  {
   "cell_type": "code",
   "execution_count": 3,
   "metadata": {},
   "outputs": [
    {
     "name": "stdout",
     "output_type": "stream",
     "text": [
      "Dimensions of Train Dataset:(5788, 14)\n",
      "Dimensions of Test Dataset:(1448, 13)\n"
     ]
    }
   ],
   "source": [
    "print(\"Dimensions of Train Dataset:\" + str(train.shape))\n",
    "print(\"Dimensions of Test Dataset:\" + str(test.shape))"
   ]
  },
  {
   "cell_type": "code",
   "execution_count": 4,
   "metadata": {},
   "outputs": [
    {
     "data": {
      "text/plain": [
       "array([1., 0.])"
      ]
     },
     "execution_count": 4,
     "metadata": {},
     "output_type": "execute_result"
    }
   ],
   "source": [
    "train['Rating'].unique()"
   ]
  },
  {
   "cell_type": "code",
   "execution_count": 5,
   "metadata": {},
   "outputs": [
    {
     "name": "stdout",
     "output_type": "stream",
     "text": [
      "<class 'pandas.core.frame.DataFrame'>\n",
      "RangeIndex: 5788 entries, 0 to 5787\n",
      "Data columns (total 14 columns):\n",
      " #   Column          Non-Null Count  Dtype  \n",
      "---  ------          --------------  -----  \n",
      " 0   ID              5788 non-null   int64  \n",
      " 1   App             5788 non-null   object \n",
      " 2   Category        5788 non-null   object \n",
      " 3   Rating          5788 non-null   float64\n",
      " 4   Reviews         5788 non-null   int64  \n",
      " 5   Size            5788 non-null   object \n",
      " 6   Installs        5788 non-null   object \n",
      " 7   Type            5788 non-null   object \n",
      " 8   Price           5788 non-null   object \n",
      " 9   Content Rating  5788 non-null   object \n",
      " 10  Genres          5788 non-null   object \n",
      " 11  Last Updated    5788 non-null   object \n",
      " 12  Current Ver     5788 non-null   object \n",
      " 13  Android Ver     5788 non-null   object \n",
      "dtypes: float64(1), int64(2), object(11)\n",
      "memory usage: 633.2+ KB\n"
     ]
    }
   ],
   "source": [
    "train.iloc[:,0:18].info()"
   ]
  },
  {
   "cell_type": "markdown",
   "metadata": {},
   "source": [
    "A continuación, vamos a definir algunas variables que se utilizarán en análisis posteriores, además de ser necesarias para el archivo de envío."
   ]
  },
  {
   "cell_type": "code",
   "execution_count": 6,
   "metadata": {},
   "outputs": [],
   "source": [
    "y_train = train['Rating']\n",
    "test_id = test['ID']\n",
    "\n",
    "#Tamaño de los datasets\n",
    "ntrain = train.shape[0]\n",
    "ntest = test.shape[0]"
   ]
  },
  {
   "cell_type": "markdown",
   "metadata": {},
   "source": [
    "ahora vamos a combinar la base train y test para explorar los datos e imputar los valores faltantes."
   ]
  },
  {
   "cell_type": "code",
   "execution_count": 7,
   "metadata": {},
   "outputs": [],
   "source": [
    "all_data = pd.concat((train, test), sort=True).reset_index(drop=True)\n",
    "all_data['Dataset'] = np.repeat(['Train', 'Test'], [ntrain, ntest], axis=0)\n",
    "all_data.drop('ID', axis=1,inplace=True)"
   ]
  },
  {
   "cell_type": "markdown",
   "metadata": {},
   "source": [
    "# Exploring the Variables\n",
    "\n",
    "## Exploracion variable de respuesta"
   ]
  },
  {
   "cell_type": "markdown",
   "metadata": {},
   "source": [
    "Dado que es un ranking normalmente debería ser una variable continua (1 - 5) sin embargo esat variable solo tiene 1 y 0"
   ]
  },
  {
   "cell_type": "markdown",
   "metadata": {},
   "source": [
    "# Data Imputation\n",
    "\n",
    "\n",
    "Completitud de los datos\n",
    "\n",
    "Solo encontramos que los datos de Rating del data frame Test son las faltantes, de resto no hay datos faltantes"
   ]
  },
  {
   "cell_type": "code",
   "execution_count": 8,
   "metadata": {
    "scrolled": true
   },
   "outputs": [
    {
     "data": {
      "text/html": [
       "<div>\n",
       "<style scoped>\n",
       "    .dataframe tbody tr th:only-of-type {\n",
       "        vertical-align: middle;\n",
       "    }\n",
       "\n",
       "    .dataframe tbody tr th {\n",
       "        vertical-align: top;\n",
       "    }\n",
       "\n",
       "    .dataframe thead th {\n",
       "        text-align: right;\n",
       "    }\n",
       "</style>\n",
       "<table border=\"1\" class=\"dataframe\">\n",
       "  <thead>\n",
       "    <tr style=\"text-align: right;\">\n",
       "      <th></th>\n",
       "      <th>Number of Missing Values</th>\n",
       "    </tr>\n",
       "  </thead>\n",
       "  <tbody>\n",
       "    <tr>\n",
       "      <th>Rating</th>\n",
       "      <td>1448</td>\n",
       "    </tr>\n",
       "  </tbody>\n",
       "</table>\n",
       "</div>"
      ],
      "text/plain": [
       "        Number of Missing Values\n",
       "Rating                      1448"
      ]
     },
     "metadata": {},
     "output_type": "display_data"
    }
   ],
   "source": [
    "cols_with_missing_values = all_data.isnull().sum().sort_values(ascending=False)\n",
    "display(pd.DataFrame(cols_with_missing_values[cols_with_missing_values[cols_with_missing_values > 0].index], \n",
    "                     columns=[\"Number of Missing Values\"]))"
   ]
  },
  {
   "cell_type": "markdown",
   "metadata": {},
   "source": [
    "# Feature Engineering"
   ]
  },
  {
   "cell_type": "code",
   "execution_count": 9,
   "metadata": {},
   "outputs": [
    {
     "data": {
      "text/html": [
       "<div>\n",
       "<style scoped>\n",
       "    .dataframe tbody tr th:only-of-type {\n",
       "        vertical-align: middle;\n",
       "    }\n",
       "\n",
       "    .dataframe tbody tr th {\n",
       "        vertical-align: top;\n",
       "    }\n",
       "\n",
       "    .dataframe thead th {\n",
       "        text-align: right;\n",
       "    }\n",
       "</style>\n",
       "<table border=\"1\" class=\"dataframe\">\n",
       "  <thead>\n",
       "    <tr style=\"text-align: right;\">\n",
       "      <th></th>\n",
       "      <th>Android Ver</th>\n",
       "      <th>App</th>\n",
       "      <th>Category</th>\n",
       "      <th>Content Rating</th>\n",
       "      <th>Current Ver</th>\n",
       "      <th>Genres</th>\n",
       "      <th>Installs</th>\n",
       "      <th>Last Updated</th>\n",
       "      <th>Price</th>\n",
       "      <th>Rating</th>\n",
       "      <th>Reviews</th>\n",
       "      <th>Size</th>\n",
       "      <th>Type</th>\n",
       "      <th>Dataset</th>\n",
       "    </tr>\n",
       "  </thead>\n",
       "  <tbody>\n",
       "    <tr>\n",
       "      <th>0</th>\n",
       "      <td>4.0 and up</td>\n",
       "      <td>GPS Status &amp; Toolbox</td>\n",
       "      <td>TRAVEL_AND_LOCAL</td>\n",
       "      <td>Everyone</td>\n",
       "      <td>8.1.171</td>\n",
       "      <td>Travel &amp; Local</td>\n",
       "      <td>10,000,000+</td>\n",
       "      <td>June 13, 2018</td>\n",
       "      <td>0</td>\n",
       "      <td>1.0</td>\n",
       "      <td>149723</td>\n",
       "      <td>4.1M</td>\n",
       "      <td>Free</td>\n",
       "      <td>Train</td>\n",
       "    </tr>\n",
       "    <tr>\n",
       "      <th>1</th>\n",
       "      <td>4.1 and up</td>\n",
       "      <td>Fish|Hunt FL</td>\n",
       "      <td>LIFESTYLE</td>\n",
       "      <td>Everyone</td>\n",
       "      <td>3.2.0</td>\n",
       "      <td>Lifestyle</td>\n",
       "      <td>100,000+</td>\n",
       "      <td>March 22, 2018</td>\n",
       "      <td>0</td>\n",
       "      <td>0.0</td>\n",
       "      <td>853</td>\n",
       "      <td>34M</td>\n",
       "      <td>Free</td>\n",
       "      <td>Train</td>\n",
       "    </tr>\n",
       "    <tr>\n",
       "      <th>2</th>\n",
       "      <td>Varies with device</td>\n",
       "      <td>Allrecipes Dinner Spinner</td>\n",
       "      <td>FOOD_AND_DRINK</td>\n",
       "      <td>Everyone</td>\n",
       "      <td>Varies with device</td>\n",
       "      <td>Food &amp; Drink</td>\n",
       "      <td>5,000,000+</td>\n",
       "      <td>April 10, 2018</td>\n",
       "      <td>0</td>\n",
       "      <td>1.0</td>\n",
       "      <td>61881</td>\n",
       "      <td>Varies with device</td>\n",
       "      <td>Free</td>\n",
       "      <td>Train</td>\n",
       "    </tr>\n",
       "    <tr>\n",
       "      <th>3</th>\n",
       "      <td>2.3 and up</td>\n",
       "      <td>Don't touch my phone</td>\n",
       "      <td>TOOLS</td>\n",
       "      <td>Everyone</td>\n",
       "      <td>30</td>\n",
       "      <td>Tools</td>\n",
       "      <td>5,000,000+</td>\n",
       "      <td>October 19, 2016</td>\n",
       "      <td>0</td>\n",
       "      <td>0.0</td>\n",
       "      <td>21943</td>\n",
       "      <td>2.3M</td>\n",
       "      <td>Free</td>\n",
       "      <td>Train</td>\n",
       "    </tr>\n",
       "    <tr>\n",
       "      <th>4</th>\n",
       "      <td>4.1 and up</td>\n",
       "      <td>BM SPM Practice</td>\n",
       "      <td>FAMILY</td>\n",
       "      <td>Everyone</td>\n",
       "      <td>1.0</td>\n",
       "      <td>Education</td>\n",
       "      <td>1,000+</td>\n",
       "      <td>January 24, 2018</td>\n",
       "      <td>0</td>\n",
       "      <td>1.0</td>\n",
       "      <td>6</td>\n",
       "      <td>9.2M</td>\n",
       "      <td>Free</td>\n",
       "      <td>Train</td>\n",
       "    </tr>\n",
       "  </tbody>\n",
       "</table>\n",
       "</div>"
      ],
      "text/plain": [
       "          Android Ver                        App          Category  \\\n",
       "0          4.0 and up       GPS Status & Toolbox  TRAVEL_AND_LOCAL   \n",
       "1          4.1 and up               Fish|Hunt FL         LIFESTYLE   \n",
       "2  Varies with device  Allrecipes Dinner Spinner    FOOD_AND_DRINK   \n",
       "3          2.3 and up       Don't touch my phone             TOOLS   \n",
       "4          4.1 and up            BM SPM Practice            FAMILY   \n",
       "\n",
       "  Content Rating         Current Ver          Genres     Installs  \\\n",
       "0       Everyone             8.1.171  Travel & Local  10,000,000+   \n",
       "1       Everyone               3.2.0       Lifestyle     100,000+   \n",
       "2       Everyone  Varies with device    Food & Drink   5,000,000+   \n",
       "3       Everyone                  30           Tools   5,000,000+   \n",
       "4       Everyone                 1.0       Education       1,000+   \n",
       "\n",
       "       Last Updated Price  Rating  Reviews                Size  Type Dataset  \n",
       "0     June 13, 2018     0     1.0   149723                4.1M  Free   Train  \n",
       "1    March 22, 2018     0     0.0      853                 34M  Free   Train  \n",
       "2    April 10, 2018     0     1.0    61881  Varies with device  Free   Train  \n",
       "3  October 19, 2016     0     0.0    21943                2.3M  Free   Train  \n",
       "4  January 24, 2018     0     1.0        6                9.2M  Free   Train  "
      ]
     },
     "execution_count": 9,
     "metadata": {},
     "output_type": "execute_result"
    }
   ],
   "source": [
    "all_data.head()"
   ]
  },
  {
   "cell_type": "markdown",
   "metadata": {},
   "source": [
    "### Android Ver\n",
    "\n",
    "Vamos a crear dos columnas nuevas, la primera es la versión minima de android, la segunda la versión maxima"
   ]
  },
  {
   "cell_type": "code",
   "execution_count": 10,
   "metadata": {},
   "outputs": [],
   "source": [
    "#version minima \n",
    "all_data['Ver Min'] =  pd.to_numeric(all_data['Android Ver'].str[:3], errors='coerce') "
   ]
  },
  {
   "cell_type": "code",
   "execution_count": 11,
   "metadata": {},
   "outputs": [],
   "source": [
    "#Reemplazamos por la mediana\n",
    "all_data['Ver Min'].fillna(all_data['Ver Min'].median(), inplace=True)"
   ]
  },
  {
   "cell_type": "code",
   "execution_count": 12,
   "metadata": {},
   "outputs": [],
   "source": [
    "#version maxima\n",
    "all_data['Ver Max'] = all_data['Android Ver'].str[-5:]"
   ]
  },
  {
   "cell_type": "code",
   "execution_count": 13,
   "metadata": {},
   "outputs": [
    {
     "data": {
      "text/plain": [
       "array(['nd up', 'evice', '7.1.1', '- 8.0', '- 6.0'], dtype=object)"
      ]
     },
     "execution_count": 13,
     "metadata": {},
     "output_type": "execute_result"
    }
   ],
   "source": [
    "all_data['Ver Max'].unique()"
   ]
  },
  {
   "cell_type": "code",
   "execution_count": 14,
   "metadata": {},
   "outputs": [],
   "source": [
    "all_data['Ver Max'] = all_data['Ver Max'].replace('7.1.1', '7.1')\n",
    "all_data['Ver Max'] = all_data['Ver Max'].replace('- 8.0', '8.0')\n",
    "all_data['Ver Max'] = all_data['Ver Max'].replace('- 6.0', '6.0')\n",
    "all_data['Ver Max'] = all_data['Ver Max'].replace('nd up', '9.0') #Version vigente para la fecha del data frame"
   ]
  },
  {
   "cell_type": "code",
   "execution_count": 15,
   "metadata": {},
   "outputs": [],
   "source": [
    "#Convertimos en numerica\n",
    "all_data['Ver Max'] =  pd.to_numeric(all_data['Ver Max'].str[:3], errors='coerce') "
   ]
  },
  {
   "cell_type": "code",
   "execution_count": 16,
   "metadata": {},
   "outputs": [],
   "source": [
    "#Reemplazamos por la mediana\n",
    "all_data['Ver Max'].fillna(all_data['Ver Max'].median(), inplace=True)"
   ]
  },
  {
   "cell_type": "code",
   "execution_count": 17,
   "metadata": {},
   "outputs": [],
   "source": [
    "#Eliminamos la variable de version original\n",
    "\n",
    "all_data.drop(['Android Ver'], axis=1, inplace=True)"
   ]
  },
  {
   "cell_type": "markdown",
   "metadata": {},
   "source": [
    "### Category"
   ]
  },
  {
   "cell_type": "code",
   "execution_count": 18,
   "metadata": {},
   "outputs": [],
   "source": [
    "Category_agrup =  all_data[['Category', 'Rating']].groupby(['Category']).agg(['mean', 'count'])"
   ]
  },
  {
   "cell_type": "code",
   "execution_count": 19,
   "metadata": {},
   "outputs": [],
   "source": [
    "Category_agrup.columns = ['mean', 'count']\n",
    "Category_agrup.reset_index(inplace=True)"
   ]
  },
  {
   "cell_type": "code",
   "execution_count": 20,
   "metadata": {},
   "outputs": [],
   "source": [
    "#Category_agrup.sort_values(by=['mean'], ascending=False)"
   ]
  },
  {
   "cell_type": "code",
   "execution_count": 21,
   "metadata": {},
   "outputs": [],
   "source": [
    "R_by_category =  all_data[all_data['Dataset'] == 'Train'].groupby(['Category']).mean()"
   ]
  },
  {
   "cell_type": "code",
   "execution_count": 22,
   "metadata": {},
   "outputs": [],
   "source": [
    "R_by_category.reset_index(level=0, inplace=True)"
   ]
  },
  {
   "cell_type": "code",
   "execution_count": 23,
   "metadata": {},
   "outputs": [],
   "source": [
    "R_by_category.drop(['Reviews', 'Ver Min', 'Ver Max'], axis=1, inplace=True)"
   ]
  },
  {
   "cell_type": "code",
   "execution_count": 24,
   "metadata": {},
   "outputs": [],
   "source": [
    "R_by_category.columns = ['Category', 'Rating_cat']"
   ]
  },
  {
   "cell_type": "code",
   "execution_count": 25,
   "metadata": {},
   "outputs": [],
   "source": [
    "all_data = pd.merge(all_data, R_by_category[['Category', 'Rating_cat']], left_on= ['Category'], right_on=['Category'], how = 'left')"
   ]
  },
  {
   "cell_type": "code",
   "execution_count": 26,
   "metadata": {},
   "outputs": [],
   "source": [
    "#Eliminamos la variable de version original\n",
    "\n",
    "all_data.drop(['Category'], axis=1, inplace=True)"
   ]
  },
  {
   "cell_type": "markdown",
   "metadata": {},
   "source": [
    "### Genres"
   ]
  },
  {
   "cell_type": "code",
   "execution_count": 27,
   "metadata": {},
   "outputs": [
    {
     "data": {
      "text/plain": [
       "Index(['App', 'Content Rating', 'Current Ver', 'Genres', 'Installs',\n",
       "       'Last Updated', 'Price', 'Rating', 'Reviews', 'Size', 'Type', 'Dataset',\n",
       "       'Ver Min', 'Ver Max', 'Rating_cat'],\n",
       "      dtype='object')"
      ]
     },
     "execution_count": 27,
     "metadata": {},
     "output_type": "execute_result"
    }
   ],
   "source": [
    "all_data.columns"
   ]
  },
  {
   "cell_type": "code",
   "execution_count": 28,
   "metadata": {},
   "outputs": [],
   "source": [
    "a = all_data['Genres'].str.split(\";\", n = 1, expand = True)"
   ]
  },
  {
   "cell_type": "code",
   "execution_count": 29,
   "metadata": {},
   "outputs": [],
   "source": [
    "a.columns = ['Genre_1', 'Genre_2']"
   ]
  },
  {
   "cell_type": "code",
   "execution_count": 30,
   "metadata": {},
   "outputs": [],
   "source": [
    "all_data['Genres'] = a['Genre_1']"
   ]
  },
  {
   "cell_type": "code",
   "execution_count": 31,
   "metadata": {},
   "outputs": [],
   "source": [
    "R_by_Genre =  all_data[all_data['Dataset'] == 'Train'].groupby(['Genres']).sum()"
   ]
  },
  {
   "cell_type": "code",
   "execution_count": 32,
   "metadata": {},
   "outputs": [],
   "source": [
    "R_by_Genre.reset_index(level=0, inplace=True)"
   ]
  },
  {
   "cell_type": "code",
   "execution_count": 33,
   "metadata": {},
   "outputs": [],
   "source": [
    "R_by_Genre.drop(['Reviews', 'Ver Min', 'Ver Max', 'Rating_cat'], axis=1, inplace=True)"
   ]
  },
  {
   "cell_type": "code",
   "execution_count": 34,
   "metadata": {},
   "outputs": [],
   "source": [
    "R_by_Genre.columns = ['Genres', 'Rating_Gen']"
   ]
  },
  {
   "cell_type": "code",
   "execution_count": 35,
   "metadata": {},
   "outputs": [],
   "source": [
    "all_data = pd.merge(all_data, R_by_Genre[['Genres', 'Rating_Gen']], left_on= ['Genres'], right_on=['Genres'], how = 'left')"
   ]
  },
  {
   "cell_type": "code",
   "execution_count": 36,
   "metadata": {},
   "outputs": [],
   "source": [
    "all_data.drop(['Genres'], axis=1, inplace=True)"
   ]
  },
  {
   "cell_type": "markdown",
   "metadata": {},
   "source": [
    "## Last Update"
   ]
  },
  {
   "cell_type": "code",
   "execution_count": 37,
   "metadata": {},
   "outputs": [],
   "source": [
    "all_data['Last Updated']  = all_data['Last Updated'] = pd.to_datetime(all_data['Last Updated'])"
   ]
  },
  {
   "cell_type": "code",
   "execution_count": 38,
   "metadata": {},
   "outputs": [],
   "source": [
    "all_data['Last Updated_days']  = all_data['Last Updated'] .max() - all_data['Last Updated']"
   ]
  },
  {
   "cell_type": "code",
   "execution_count": 39,
   "metadata": {},
   "outputs": [],
   "source": [
    "all_data['Last Updated_days'] = all_data['Last Updated_days'].apply(lambda x: x.days)"
   ]
  },
  {
   "cell_type": "code",
   "execution_count": 40,
   "metadata": {},
   "outputs": [],
   "source": [
    "all_data['Last Updated_days'] = all_data['Last Updated_days']/360"
   ]
  },
  {
   "cell_type": "code",
   "execution_count": 41,
   "metadata": {},
   "outputs": [],
   "source": [
    "all_data.drop(['Last Updated'], axis=1, inplace=True)"
   ]
  },
  {
   "cell_type": "markdown",
   "metadata": {},
   "source": [
    "## Installs"
   ]
  },
  {
   "cell_type": "code",
   "execution_count": 42,
   "metadata": {},
   "outputs": [],
   "source": [
    "install_agrup =  all_data[['Installs', 'Rating']].groupby(['Installs']).agg(['mean', 'count'])"
   ]
  },
  {
   "cell_type": "code",
   "execution_count": 43,
   "metadata": {},
   "outputs": [],
   "source": [
    "all_data['Installs'] = all_data['Installs'].str.replace(r'\\D', '')"
   ]
  },
  {
   "cell_type": "code",
   "execution_count": 44,
   "metadata": {},
   "outputs": [],
   "source": [
    "all_data['Installs'] = all_data['Installs'].astype(float)"
   ]
  },
  {
   "cell_type": "code",
   "execution_count": 45,
   "metadata": {},
   "outputs": [
    {
     "data": {
      "text/plain": [
       "7236"
      ]
     },
     "execution_count": 45,
     "metadata": {},
     "output_type": "execute_result"
    }
   ],
   "source": [
    "len(all_data)"
   ]
  },
  {
   "cell_type": "code",
   "execution_count": 46,
   "metadata": {},
   "outputs": [],
   "source": [
    "#elimnamos del DF los que tengan menos de 1 instalaciones \n",
    "#all_data = all_data[all_data['Installs'] >= 1]"
   ]
  },
  {
   "cell_type": "markdown",
   "metadata": {},
   "source": [
    "## Price"
   ]
  },
  {
   "cell_type": "code",
   "execution_count": 47,
   "metadata": {},
   "outputs": [],
   "source": [
    "all_data['Price'] = all_data['Price'].str.replace(r'$', '')"
   ]
  },
  {
   "cell_type": "code",
   "execution_count": 48,
   "metadata": {},
   "outputs": [],
   "source": [
    "all_data['Price'] = all_data['Price'].astype(float)"
   ]
  },
  {
   "cell_type": "markdown",
   "metadata": {},
   "source": [
    "## Size"
   ]
  },
  {
   "cell_type": "code",
   "execution_count": 49,
   "metadata": {},
   "outputs": [],
   "source": [
    "all_data['Size_a'] = all_data['Size'].str[-1:]"
   ]
  },
  {
   "cell_type": "code",
   "execution_count": 50,
   "metadata": {},
   "outputs": [],
   "source": [
    "all_data['Size_a'] = all_data['Size_a'].replace('e', np.NaN)\n",
    "all_data['Size_a'] = all_data['Size_a'].replace('M', 1000000)\n",
    "all_data['Size_a'] = all_data['Size_a'].replace('k', 1000)"
   ]
  },
  {
   "cell_type": "code",
   "execution_count": 51,
   "metadata": {},
   "outputs": [
    {
     "data": {
      "text/plain": [
       "array([1000000.,      nan,    1000.])"
      ]
     },
     "execution_count": 51,
     "metadata": {},
     "output_type": "execute_result"
    }
   ],
   "source": [
    "all_data['Size_a'].unique()"
   ]
  },
  {
   "cell_type": "code",
   "execution_count": 52,
   "metadata": {},
   "outputs": [],
   "source": [
    "all_data['Size'] = all_data['Size'].str.replace(r'[aA-zZ]+', '')"
   ]
  },
  {
   "cell_type": "code",
   "execution_count": 53,
   "metadata": {},
   "outputs": [],
   "source": [
    "all_data['Size'] =  pd.to_numeric(all_data['Size'], errors='coerce') \n",
    "all_data['Size_a'] =  pd.to_numeric(all_data['Size_a'], errors='coerce') "
   ]
  },
  {
   "cell_type": "code",
   "execution_count": 54,
   "metadata": {},
   "outputs": [],
   "source": [
    "all_data['Size'] =  all_data['Size'] * all_data['Size_a'] "
   ]
  },
  {
   "cell_type": "code",
   "execution_count": 55,
   "metadata": {},
   "outputs": [],
   "source": [
    "all_data['Size'] = all_data['Size'].fillna(all_data['Size'].mean())"
   ]
  },
  {
   "cell_type": "code",
   "execution_count": 56,
   "metadata": {},
   "outputs": [],
   "source": [
    "all_data.drop(['Size_a'], axis=1, inplace=True)"
   ]
  },
  {
   "cell_type": "markdown",
   "metadata": {},
   "source": [
    "## Current Ver"
   ]
  },
  {
   "cell_type": "code",
   "execution_count": 57,
   "metadata": {},
   "outputs": [],
   "source": [
    "all_data['Current Ver'] = all_data['Current Ver'].str.replace(r'[aA-zZ]+', '')"
   ]
  },
  {
   "cell_type": "code",
   "execution_count": 58,
   "metadata": {},
   "outputs": [],
   "source": [
    "a = all_data['Current Ver'].str.split(\".\", n = 4, expand = True)"
   ]
  },
  {
   "cell_type": "code",
   "execution_count": 59,
   "metadata": {},
   "outputs": [],
   "source": [
    "a.columns = ['Version', 'Sub_ver', 'Sub_ver_2', 'Sub_ver_3', 'Sub_ver_4']"
   ]
  },
  {
   "cell_type": "code",
   "execution_count": 60,
   "metadata": {},
   "outputs": [],
   "source": [
    "a = a.fillna(0)"
   ]
  },
  {
   "cell_type": "code",
   "execution_count": 61,
   "metadata": {},
   "outputs": [],
   "source": [
    "#a['Version'] = a['Version'].astype(int)\n",
    "#a['Sub_ver'] = a['Sub_ver'].astype(int)\n",
    "#a['Sub_ver_2'] = a['Sub_ver_2'].astype(int)"
   ]
  },
  {
   "cell_type": "code",
   "execution_count": 62,
   "metadata": {},
   "outputs": [],
   "source": [
    "#all_data['Current_Ver_exp'] = a['Version']*a['Sub_ver']*a['Sub_ver_2']"
   ]
  },
  {
   "cell_type": "code",
   "execution_count": 63,
   "metadata": {},
   "outputs": [],
   "source": [
    "#all_data['Current_Ver'] = all_data['Current_Ver'].fillna(all_data['Current_Ver'].median())"
   ]
  },
  {
   "cell_type": "code",
   "execution_count": 64,
   "metadata": {},
   "outputs": [],
   "source": [
    "all_data['Current_Ver'] = a['Version']\n",
    "#all_data['Current_Ver_2'] = a['Sub_ver']"
   ]
  },
  {
   "cell_type": "code",
   "execution_count": 65,
   "metadata": {},
   "outputs": [],
   "source": [
    "#Convertimos en numerica\n",
    "all_data['Current_Ver'] =  pd.to_numeric(all_data['Current_Ver'], errors='coerce') \n",
    "#all_data['Current_Ver_2'] =  pd.to_numeric(all_data['Current_Ver'], errors='coerce') "
   ]
  },
  {
   "cell_type": "code",
   "execution_count": 66,
   "metadata": {},
   "outputs": [],
   "source": [
    "all_data['Current_Ver'] = all_data['Current_Ver'].replace(0, np.NaN)"
   ]
  },
  {
   "cell_type": "code",
   "execution_count": 67,
   "metadata": {},
   "outputs": [],
   "source": [
    "all_data['Current_Ver'] = all_data['Current_Ver'].apply(lambda x: np.where(x > 15,np.nan,x))\n",
    "all_data['Current_Ver'] = all_data['Current_Ver'].apply(lambda x: np.where(x < 0,np.nan,x))"
   ]
  },
  {
   "cell_type": "code",
   "execution_count": 68,
   "metadata": {},
   "outputs": [],
   "source": [
    "train_Current_Ver = all_data[~all_data.Current_Ver.isnull()]\n",
    "test_Current_Ver = all_data[all_data.Current_Ver.isnull()]"
   ]
  },
  {
   "cell_type": "code",
   "execution_count": 69,
   "metadata": {},
   "outputs": [
    {
     "data": {
      "image/png": "[encoded data removed]",
      "text/plain": [
       "<Figure size 1152x288 with 2 Axes>"
      ]
     },
     "metadata": {
      "needs_background": "light"
     },
     "output_type": "display_data"
    }
   ],
   "source": [
    "fig, ax = plt.subplots(1,2, figsize=(16,4))\n",
    "sns.boxplot(train_Current_Ver['Current_Ver'], ax=ax[0])\n",
    "\n",
    "sns.distplot(train_Current_Ver['Current_Ver'], ax=ax[1], fit=st.norm, fit_kws={\"color\":\"red\"})\n",
    "(mu, sigma) = st.norm.fit(train_Current_Ver['Current_Ver'])\n",
    "plt.legend(['Normal Distribution \\n ($\\mu=$ {:.2f} and  $\\sigma=$ {:.2f} )'.format(mu, sigma)],\n",
    "            loc='best', fancybox=True)\n",
    "plt.show()"
   ]
  },
  {
   "cell_type": "code",
   "execution_count": 70,
   "metadata": {},
   "outputs": [],
   "source": [
    "all_data['Current_Ver'] = all_data['Current_Ver'].fillna(all_data['Current_Ver'].median())"
   ]
  },
  {
   "cell_type": "code",
   "execution_count": 71,
   "metadata": {},
   "outputs": [],
   "source": [
    "all_data.drop(['Current Ver'], axis=1, inplace=True)"
   ]
  },
  {
   "cell_type": "code",
   "execution_count": 72,
   "metadata": {},
   "outputs": [],
   "source": [
    "all_data['Type'] = all_data['Type'].replace('Free', 0)\n",
    "all_data['Type'] = all_data['Type'].replace('Paid', 1)\n",
    "all_data['Type'] = all_data['Type'].astype(int)"
   ]
  },
  {
   "cell_type": "code",
   "execution_count": 73,
   "metadata": {},
   "outputs": [
    {
     "data": {
      "text/plain": [
       "Index(['App', 'Content Rating', 'Installs', 'Price', 'Rating', 'Reviews',\n",
       "       'Size', 'Type', 'Dataset', 'Ver Min', 'Ver Max', 'Rating_cat',\n",
       "       'Rating_Gen', 'Last Updated_days', 'Current_Ver'],\n",
       "      dtype='object')"
      ]
     },
     "execution_count": 73,
     "metadata": {},
     "output_type": "execute_result"
    }
   ],
   "source": [
    "all_data.columns"
   ]
  },
  {
   "cell_type": "code",
   "execution_count": 74,
   "metadata": {},
   "outputs": [],
   "source": [
    "all_data['Rev_install'] = all_data['Reviews'] / all_data['Installs']   "
   ]
  },
  {
   "cell_type": "code",
   "execution_count": 75,
   "metadata": {},
   "outputs": [],
   "source": [
    "#all_data['Reviews_year'] = all_data['Reviews'] / all_data['Last Updated_days']   \n",
    "#all_data['Reviews_year'] = all_data['Reviews_year'].fillna(0)\n",
    "\n",
    "all_data['Rev_install'] = all_data['Rev_install'].fillna(0)\n",
    "\n",
    "#all_data['Reviews_year'] =  all_data['Reviews_year'].replace(-np.inf, np.nan)\n",
    "\n",
    "#all_data['Rev_install'] = all_data['Rev_install'].fillna(0)"
   ]
  },
  {
   "cell_type": "code",
   "execution_count": 76,
   "metadata": {},
   "outputs": [],
   "source": [
    "#from numpy import inf\n",
    "#all_data['Reviews_year'] [all_data['Reviews_year']  == inf] = 0"
   ]
  },
  {
   "cell_type": "code",
   "execution_count": 77,
   "metadata": {},
   "outputs": [],
   "source": [
    "#all_data.max()"
   ]
  },
  {
   "cell_type": "code",
   "execution_count": 78,
   "metadata": {},
   "outputs": [
    {
     "data": {
      "text/plain": [
       "Index(['App', 'Content Rating', 'Installs', 'Price', 'Rating', 'Reviews',\n",
       "       'Size', 'Type', 'Dataset', 'Ver Min', 'Ver Max', 'Rating_cat',\n",
       "       'Rating_Gen', 'Last Updated_days', 'Current_Ver', 'Rev_install'],\n",
       "      dtype='object')"
      ]
     },
     "execution_count": 78,
     "metadata": {},
     "output_type": "execute_result"
    }
   ],
   "source": [
    "all_data.columns"
   ]
  },
  {
   "cell_type": "markdown",
   "metadata": {},
   "source": [
    "# Skewness & Normalization of Numeric Variables"
   ]
  },
  {
   "cell_type": "code",
   "execution_count": 79,
   "metadata": {},
   "outputs": [
    {
     "data": {
      "text/html": [
       "<div>\n",
       "<style scoped>\n",
       "    .dataframe tbody tr th:only-of-type {\n",
       "        vertical-align: middle;\n",
       "    }\n",
       "\n",
       "    .dataframe tbody tr th {\n",
       "        vertical-align: top;\n",
       "    }\n",
       "\n",
       "    .dataframe thead th {\n",
       "        text-align: right;\n",
       "    }\n",
       "</style>\n",
       "<table border=\"1\" class=\"dataframe\">\n",
       "  <thead>\n",
       "    <tr style=\"text-align: right;\">\n",
       "      <th></th>\n",
       "      <th>Skew Before Transformation</th>\n",
       "      <th>Skew After Transformation</th>\n",
       "    </tr>\n",
       "  </thead>\n",
       "  <tbody>\n",
       "    <tr>\n",
       "      <th>Reviews</th>\n",
       "      <td>26.794373</td>\n",
       "      <td>0.125382</td>\n",
       "    </tr>\n",
       "    <tr>\n",
       "      <th>Price</th>\n",
       "      <td>25.663991</td>\n",
       "      <td>6.991071</td>\n",
       "    </tr>\n",
       "    <tr>\n",
       "      <th>Rev_install</th>\n",
       "      <td>20.747723</td>\n",
       "      <td>11.477539</td>\n",
       "    </tr>\n",
       "    <tr>\n",
       "      <th>Installs</th>\n",
       "      <td>15.219577</td>\n",
       "      <td>-0.238070</td>\n",
       "    </tr>\n",
       "    <tr>\n",
       "      <th>Current_Ver</th>\n",
       "      <td>2.559536</td>\n",
       "      <td>1.515706</td>\n",
       "    </tr>\n",
       "    <tr>\n",
       "      <th>Last Updated_days</th>\n",
       "      <td>2.222751</td>\n",
       "      <td>1.437497</td>\n",
       "    </tr>\n",
       "    <tr>\n",
       "      <th>Size</th>\n",
       "      <td>1.785258</td>\n",
       "      <td>-0.981077</td>\n",
       "    </tr>\n",
       "  </tbody>\n",
       "</table>\n",
       "</div>"
      ],
      "text/plain": [
       "                   Skew Before Transformation  Skew After Transformation\n",
       "Reviews                             26.794373                   0.125382\n",
       "Price                               25.663991                   6.991071\n",
       "Rev_install                         20.747723                  11.477539\n",
       "Installs                            15.219577                  -0.238070\n",
       "Current_Ver                          2.559536                   1.515706\n",
       "Last Updated_days                    2.222751                   1.437497\n",
       "Size                                 1.785258                  -0.981077"
      ]
     },
     "execution_count": 79,
     "metadata": {},
     "output_type": "execute_result"
    }
   ],
   "source": [
    "numeric_feats = ['Installs', 'Price', 'Reviews', 'Size', 'Rating_cat', 'Rating_Gen', 'Last Updated_days', 'Current_Ver', 'Rev_install']\n",
    "\n",
    "skewed_feats = all_data[numeric_feats].apply(lambda x: st.skew(x.dropna())).sort_values(ascending=False)\n",
    "skewness = pd.DataFrame({'Skew Before Transformation' :skewed_feats})\n",
    "\n",
    "skewness = skewness[abs(skewness) > 1].dropna(axis=0)\n",
    "skewed_features = skewness.index\n",
    "for feat in skewed_features:\n",
    "    all_data[feat] = np.log1p(all_data[feat]+1)\n",
    "\n",
    "skewed_feats = all_data[skewed_features].apply(lambda x: st.skew(x.dropna())).sort_values(ascending=False)\n",
    "skewness['Skew After Transformation'] = skewed_feats\n",
    "skewness"
   ]
  },
  {
   "cell_type": "code",
   "execution_count": 80,
   "metadata": {},
   "outputs": [],
   "source": [
    "all_data.drop(['App', 'Reviews'], axis=1, inplace=True)"
   ]
  },
  {
   "cell_type": "code",
   "execution_count": 81,
   "metadata": {},
   "outputs": [],
   "source": [
    "all_data.drop(['Type'], axis=1, inplace=True)"
   ]
  },
  {
   "cell_type": "code",
   "execution_count": 82,
   "metadata": {},
   "outputs": [
    {
     "data": {
      "image/png": "[encoded data removed]",
      "text/plain": [
       "<Figure size 1080x1080 with 2 Axes>"
      ]
     },
     "metadata": {
      "needs_background": "light"
     },
     "output_type": "display_data"
    }
   ],
   "source": [
    "corr = all_data.corr()\n",
    "mask = np.zeros_like(corr, dtype=np.bool)\n",
    "mask[np.triu_indices_from(mask)] = True\n",
    "\n",
    "f, ax = plt.subplots(figsize=(15, 15))\n",
    "cmap = sns.diverging_palette(220, 10, as_cmap=True)\n",
    "\n",
    "sns.heatmap(corr, mask=mask, cmap=cmap,\n",
    "            center=0, square=True, linewidths = .5)\n",
    "plt.show()"
   ]
  },
  {
   "cell_type": "code",
   "execution_count": 83,
   "metadata": {},
   "outputs": [
    {
     "name": "stdout",
     "output_type": "stream",
     "text": [
      "(7236, 19)\n"
     ]
    },
    {
     "data": {
      "text/html": [
       "<div>\n",
       "<style scoped>\n",
       "    .dataframe tbody tr th:only-of-type {\n",
       "        vertical-align: middle;\n",
       "    }\n",
       "\n",
       "    .dataframe tbody tr th {\n",
       "        vertical-align: top;\n",
       "    }\n",
       "\n",
       "    .dataframe thead th {\n",
       "        text-align: right;\n",
       "    }\n",
       "</style>\n",
       "<table border=\"1\" class=\"dataframe\">\n",
       "  <thead>\n",
       "    <tr style=\"text-align: right;\">\n",
       "      <th></th>\n",
       "      <th>Installs</th>\n",
       "      <th>Price</th>\n",
       "      <th>Rating</th>\n",
       "      <th>Size</th>\n",
       "      <th>Ver Min</th>\n",
       "      <th>Ver Max</th>\n",
       "      <th>Rating_cat</th>\n",
       "      <th>Rating_Gen</th>\n",
       "      <th>Last Updated_days</th>\n",
       "      <th>Current_Ver</th>\n",
       "      <th>Rev_install</th>\n",
       "      <th>Content Rating_Adults only 18+</th>\n",
       "      <th>Content Rating_Everyone</th>\n",
       "      <th>Content Rating_Everyone 10+</th>\n",
       "      <th>Content Rating_Mature 17+</th>\n",
       "      <th>Content Rating_Teen</th>\n",
       "      <th>Content Rating_Unrated</th>\n",
       "      <th>Dataset_Test</th>\n",
       "      <th>Dataset_Train</th>\n",
       "    </tr>\n",
       "  </thead>\n",
       "  <tbody>\n",
       "    <tr>\n",
       "      <th>0</th>\n",
       "      <td>16.118096</td>\n",
       "      <td>0.693147</td>\n",
       "      <td>1.0</td>\n",
       "      <td>15.226498</td>\n",
       "      <td>4.0</td>\n",
       "      <td>9.0</td>\n",
       "      <td>0.699248</td>\n",
       "      <td>93.0</td>\n",
       "      <td>0.768048</td>\n",
       "      <td>2.302585</td>\n",
       "      <td>0.700605</td>\n",
       "      <td>0</td>\n",
       "      <td>1</td>\n",
       "      <td>0</td>\n",
       "      <td>0</td>\n",
       "      <td>0</td>\n",
       "      <td>0</td>\n",
       "      <td>0</td>\n",
       "      <td>1</td>\n",
       "    </tr>\n",
       "    <tr>\n",
       "      <th>1</th>\n",
       "      <td>11.512945</td>\n",
       "      <td>0.693147</td>\n",
       "      <td>0.0</td>\n",
       "      <td>17.341871</td>\n",
       "      <td>4.1</td>\n",
       "      <td>9.0</td>\n",
       "      <td>0.657534</td>\n",
       "      <td>144.0</td>\n",
       "      <td>0.869665</td>\n",
       "      <td>1.609438</td>\n",
       "      <td>0.697403</td>\n",
       "      <td>0</td>\n",
       "      <td>1</td>\n",
       "      <td>0</td>\n",
       "      <td>0</td>\n",
       "      <td>0</td>\n",
       "      <td>0</td>\n",
       "      <td>0</td>\n",
       "      <td>1</td>\n",
       "    </tr>\n",
       "    <tr>\n",
       "      <th>2</th>\n",
       "      <td>15.424949</td>\n",
       "      <td>0.693147</td>\n",
       "      <td>1.0</td>\n",
       "      <td>16.817655</td>\n",
       "      <td>4.0</td>\n",
       "      <td>9.0</td>\n",
       "      <td>0.731343</td>\n",
       "      <td>49.0</td>\n",
       "      <td>0.847298</td>\n",
       "      <td>1.098612</td>\n",
       "      <td>0.699316</td>\n",
       "      <td>0</td>\n",
       "      <td>1</td>\n",
       "      <td>0</td>\n",
       "      <td>0</td>\n",
       "      <td>0</td>\n",
       "      <td>0</td>\n",
       "      <td>0</td>\n",
       "      <td>1</td>\n",
       "    </tr>\n",
       "  </tbody>\n",
       "</table>\n",
       "</div>"
      ],
      "text/plain": [
       "    Installs     Price  Rating       Size  Ver Min  Ver Max  Rating_cat  \\\n",
       "0  16.118096  0.693147     1.0  15.226498      4.0      9.0    0.699248   \n",
       "1  11.512945  0.693147     0.0  17.341871      4.1      9.0    0.657534   \n",
       "2  15.424949  0.693147     1.0  16.817655      4.0      9.0    0.731343   \n",
       "\n",
       "   Rating_Gen  Last Updated_days  Current_Ver  Rev_install  \\\n",
       "0        93.0           0.768048     2.302585     0.700605   \n",
       "1       144.0           0.869665     1.609438     0.697403   \n",
       "2        49.0           0.847298     1.098612     0.699316   \n",
       "\n",
       "   Content Rating_Adults only 18+  Content Rating_Everyone  \\\n",
       "0                               0                        1   \n",
       "1                               0                        1   \n",
       "2                               0                        1   \n",
       "\n",
       "   Content Rating_Everyone 10+  Content Rating_Mature 17+  \\\n",
       "0                            0                          0   \n",
       "1                            0                          0   \n",
       "2                            0                          0   \n",
       "\n",
       "   Content Rating_Teen  Content Rating_Unrated  Dataset_Test  Dataset_Train  \n",
       "0                    0                       0             0              1  \n",
       "1                    0                       0             0              1  \n",
       "2                    0                       0             0              1  "
      ]
     },
     "execution_count": 83,
     "metadata": {},
     "output_type": "execute_result"
    }
   ],
   "source": [
    "all_data = pd.get_dummies(all_data)\n",
    "print(all_data.shape)\n",
    "all_data.head(3)"
   ]
  },
  {
   "cell_type": "code",
   "execution_count": 84,
   "metadata": {},
   "outputs": [],
   "source": [
    "all_data_bal = all_data[~all_data['Rating'].isnull()]"
   ]
  },
  {
   "cell_type": "code",
   "execution_count": 85,
   "metadata": {},
   "outputs": [],
   "source": [
    "# Class count\n",
    "count_class_0, count_class_1 = all_data_bal.Rating.value_counts()\n",
    "\n",
    "# Divide by class\n",
    "df_class_0 = all_data_bal[all_data_bal['Rating'] == 0]\n",
    "df_class_1 = all_data_bal[all_data_bal['Rating'] == 1]"
   ]
  },
  {
   "cell_type": "code",
   "execution_count": 86,
   "metadata": {},
   "outputs": [],
   "source": [
    "df_class_0_under = df_class_1.sample(count_class_1, random_state = 1111)\n",
    "all_data_under = pd.concat([df_class_0_under, df_class_0], axis=0)"
   ]
  },
  {
   "cell_type": "code",
   "execution_count": 87,
   "metadata": {},
   "outputs": [
    {
     "data": {
      "text/plain": [
       "Rating\n",
       "0.0    1471\n",
       "1.0    1471\n",
       "dtype: int64"
      ]
     },
     "execution_count": 87,
     "metadata": {},
     "output_type": "execute_result"
    }
   ],
   "source": [
    "all_data_under[~all_data_under['Rating'].isnull()].groupby(\"Rating\").size()"
   ]
  },
  {
   "cell_type": "code",
   "execution_count": 88,
   "metadata": {},
   "outputs": [],
   "source": [
    "final_y_train = all_data_under['Rating'][~all_data_under['Rating'].isnull()]\n",
    "final_X_train = all_data_under[all_data_under['Dataset_Train'] == 1].drop(['Dataset_Train', 'Dataset_Test', 'Rating'], axis=1)\n",
    "\n",
    "\n",
    "final_X_test = all_data[all_data['Dataset_Test'] == 1].drop(['Dataset_Train', 'Dataset_Test', 'Rating'], axis=1)"
   ]
  },
  {
   "cell_type": "markdown",
   "metadata": {},
   "source": [
    "# XGBoost"
   ]
  },
  {
   "cell_type": "code",
   "execution_count": 89,
   "metadata": {},
   "outputs": [],
   "source": [
    "xg_X_train, xg_X_test, xg_y_train, xg_y_test = train_test_split(final_X_train, final_y_train, test_size=0.33, random_state=1234)"
   ]
  },
  {
   "cell_type": "markdown",
   "metadata": {},
   "source": [
    "xg_model = XGBClassifier(n_estimators=100, seed = 1234)\n",
    "param_dict = {'max_depth': [2, 3,4],\n",
    "              'min_child_weight': [4, 5, 6],\n",
    "              'learning_rate': [0.1,0.15, 0.2],\n",
    "              'gamma': [0.0, 0.01, 0.05],\n",
    "              'colsample_bytree':[0.5, 0.7, 1]\n",
    "}\n",
    "\n",
    "start = time()\n",
    "grid_search = GridSearchCV(xg_model, param_dict)\n",
    "grid_search.fit(xg_X_train, xg_y_train)\n",
    "print(\"GridSearch took %.2f seconds to complete.\" % (time()-start))\n",
    "display(grid_search.best_params_)"
   ]
  },
  {
   "cell_type": "code",
   "execution_count": 90,
   "metadata": {},
   "outputs": [],
   "source": [
    "xg_model = XGBClassifier(n_estimators = 1000,\n",
    "                        learning_rate = 0.1,\n",
    "                        max_depth = 3,\n",
    "                        min_child_weight = 4,\n",
    "                        gamma = 0.01,\n",
    "                        colsample_bytree = 0.5, \n",
    "                        seed = 1234,\n",
    "                        eval_metric = 'auc')"
   ]
  },
  {
   "cell_type": "code",
   "execution_count": 91,
   "metadata": {},
   "outputs": [],
   "source": [
    "from sklearn.metrics import accuracy_score"
   ]
  },
  {
   "cell_type": "code",
   "execution_count": 92,
   "metadata": {},
   "outputs": [
    {
     "name": "stdout",
     "output_type": "stream",
     "text": [
      "Model took 0.66 seconds to complete.\n",
      "0.6652935118434603\n"
     ]
    }
   ],
   "source": [
    "start = time()\n",
    "xg_model.fit(xg_X_train, xg_y_train)\n",
    "xg_preds = xg_model.predict(xg_X_test)\n",
    "print(\"Model took %.2f seconds to complete.\" % (time()-start))\n",
    "print(accuracy_score(xg_y_test, xg_preds))"
   ]
  },
  {
   "cell_type": "code",
   "execution_count": 93,
   "metadata": {},
   "outputs": [],
   "source": [
    "e = xg_model.predict_proba(xg_X_test)\n",
    "\n",
    "prob_xg = pd.DataFrame(e, columns=['prob_1', 'prob_0']) "
   ]
  },
  {
   "cell_type": "code",
   "execution_count": 94,
   "metadata": {},
   "outputs": [
    {
     "data": {
      "text/plain": [
       "0.6546227417640808"
      ]
     },
     "execution_count": 94,
     "metadata": {},
     "output_type": "execute_result"
    }
   ],
   "source": [
    "from sklearn.metrics import f1_score\n",
    "\n",
    "f1_score(xg_y_test, xg_preds)"
   ]
  },
  {
   "cell_type": "code",
   "execution_count": 95,
   "metadata": {},
   "outputs": [
    {
     "name": "stdout",
     "output_type": "stream",
     "text": [
      "Confusion matrix:\n",
      " [[338 150]\n",
      " [175 308]]\n"
     ]
    },
    {
     "data": {
      "image/png": "[encoded data removed]",
      "text/plain": [
       "<Figure size 432x288 with 2 Axes>"
      ]
     },
     "metadata": {
      "needs_background": "light"
     },
     "output_type": "display_data"
    }
   ],
   "source": [
    "from sklearn.metrics import confusion_matrix\n",
    "from matplotlib import pyplot as plt\n",
    "\n",
    "conf_mat = confusion_matrix(y_true=xg_y_test, y_pred=xg_preds)\n",
    "print('Confusion matrix:\\n', conf_mat)\n",
    "\n",
    "labels = ['Class 0', 'Class 1']\n",
    "fig = plt.figure()\n",
    "ax = fig.add_subplot(111)\n",
    "cax = ax.matshow(conf_mat, cmap=plt.cm.Blues)\n",
    "fig.colorbar(cax)\n",
    "ax.set_xticklabels([''] + labels)\n",
    "ax.set_yticklabels([''] + labels)\n",
    "plt.xlabel('Predicted')\n",
    "plt.ylabel('Expected')\n",
    "plt.show()"
   ]
  },
  {
   "cell_type": "code",
   "execution_count": 96,
   "metadata": {},
   "outputs": [
    {
     "name": "stdout",
     "output_type": "stream",
     "text": [
      "AUC: 0.665\n"
     ]
    },
    {
     "data": {
      "image/png": "[encoded data removed]",
      "text/plain": [
       "<Figure size 432x288 with 1 Axes>"
      ]
     },
     "metadata": {
      "needs_background": "light"
     },
     "output_type": "display_data"
    }
   ],
   "source": [
    "from sklearn.metrics import roc_curve\n",
    "from sklearn.metrics import roc_auc_score\n",
    "from matplotlib import pyplot\n",
    "\n",
    "auc = roc_auc_score(xg_y_test, xg_preds)\n",
    "print('AUC: %.3f' % auc)\n",
    "# calculate roc curve\n",
    "fpr, tpr, thresholds = roc_curve(xg_y_test, xg_preds)\n",
    "# plot no skill\n",
    "pyplot.plot([0, 1], [0, 1], linestyle='--')\n",
    "# plot the roc curve for the model\n",
    "pyplot.plot(fpr, tpr, marker='.')\n",
    "# show the plot\n",
    "pyplot.show()"
   ]
  },
  {
   "cell_type": "code",
   "execution_count": 97,
   "metadata": {},
   "outputs": [],
   "source": [
    "for x in range(len(final_X_train.columns)):\n",
    "  xg_model.get_booster().feature_names[x] = final_X_train.columns[x]"
   ]
  },
  {
   "cell_type": "code",
   "execution_count": 98,
   "metadata": {
    "scrolled": true
   },
   "outputs": [
    {
     "data": {
      "text/plain": [
       "<matplotlib.axes._subplots.AxesSubplot at 0x23aeea678e0>"
      ]
     },
     "execution_count": 98,
     "metadata": {},
     "output_type": "execute_result"
    },
    {
     "data": {
      "image/png": "[encoded data removed]",
      "text/plain": [
       "<Figure size 1080x1080 with 1 Axes>"
      ]
     },
     "metadata": {
      "needs_background": "light"
     },
     "output_type": "display_data"
    }
   ],
   "source": [
    "from xgboost import plot_importance\n",
    "\n",
    "feature_important = xg_model.get_booster().get_score(importance_type='gain')\n",
    "keys = list(feature_important.keys())\n",
    "values = list(feature_important.values())\n",
    "\n",
    "data = pd.DataFrame(data=values, index=keys, columns=[\"score\"]).sort_values(by = \"score\", ascending=False)\n",
    "data = data.head(10)\n",
    "\n",
    "f, ax = plt.subplots(figsize =(15, 15)) \n",
    "data.plot(kind='barh', ax = ax)"
   ]
  },
  {
   "cell_type": "markdown",
   "metadata": {},
   "source": [
    "# Random Forest"
   ]
  },
  {
   "cell_type": "code",
   "execution_count": 99,
   "metadata": {},
   "outputs": [],
   "source": [
    "from sklearn.ensemble import RandomForestClassifier\n",
    "rclf = RandomForestClassifier()"
   ]
  },
  {
   "cell_type": "code",
   "execution_count": 100,
   "metadata": {},
   "outputs": [
    {
     "data": {
      "text/plain": [
       "RandomForestClassifier()"
      ]
     },
     "execution_count": 100,
     "metadata": {},
     "output_type": "execute_result"
    }
   ],
   "source": [
    "rclf.fit(xg_X_train,xg_y_train)"
   ]
  },
  {
   "cell_type": "code",
   "execution_count": 101,
   "metadata": {},
   "outputs": [
    {
     "name": "stdout",
     "output_type": "stream",
     "text": [
      "0.7023686920700309\n"
     ]
    }
   ],
   "source": [
    "#best_random = rf_random.best_estimator_\n",
    "brf= rclf.predict(xg_X_test)\n",
    "\n",
    "print(accuracy_score(xg_y_test, brf))"
   ]
  },
  {
   "cell_type": "code",
   "execution_count": 102,
   "metadata": {},
   "outputs": [
    {
     "name": "stdout",
     "output_type": "stream",
     "text": [
      "971\n",
      "0.7023686920700309\n"
     ]
    }
   ],
   "source": [
    "from sklearn.metrics import accuracy_score,recall_score,confusion_matrix\n",
    "rf_y_pred = brf\n",
    "print(len(xg_y_test))\n",
    "print(accuracy_score(xg_y_test,rf_y_pred))\n",
    "#print(recall_score(xg_y_test,y_pred))\n",
    "#print(confusion_matrix(xg_y_test,y_pred))"
   ]
  },
  {
   "cell_type": "code",
   "execution_count": 103,
   "metadata": {},
   "outputs": [
    {
     "name": "stdout",
     "output_type": "stream",
     "text": [
      "AUC: 0.702\n"
     ]
    },
    {
     "data": {
      "image/png": "[encoded data removed]",
      "text/plain": [
       "<Figure size 432x288 with 1 Axes>"
      ]
     },
     "metadata": {
      "needs_background": "light"
     },
     "output_type": "display_data"
    }
   ],
   "source": [
    "auc = roc_auc_score(xg_y_test, rf_y_pred)\n",
    "print('AUC: %.3f' % auc)\n",
    "# calculate roc curve\n",
    "fpr, tpr, thresholds = roc_curve(xg_y_test, rf_y_pred)\n",
    "# plot no skill\n",
    "pyplot.plot([0, 1], [0, 1], linestyle='--')\n",
    "# plot the roc curve for the model\n",
    "pyplot.plot(fpr, tpr, marker='.')\n",
    "# show the plot\n",
    "pyplot.show()"
   ]
  },
  {
   "cell_type": "code",
   "execution_count": 104,
   "metadata": {},
   "outputs": [
    {
     "data": {
      "text/plain": [
       "0.6895810955961331"
      ]
     },
     "execution_count": 104,
     "metadata": {},
     "output_type": "execute_result"
    }
   ],
   "source": [
    "from sklearn.metrics import f1_score\n",
    "\n",
    "f1_score(xg_y_test, rf_y_pred)"
   ]
  },
  {
   "cell_type": "markdown",
   "metadata": {},
   "source": [
    "# LGBM"
   ]
  },
  {
   "cell_type": "code",
   "execution_count": 105,
   "metadata": {},
   "outputs": [
    {
     "name": "stdout",
     "output_type": "stream",
     "text": [
      "[LightGBM] [Warning] Find whitespaces in feature_names, replace with underlines\n",
      "[LightGBM] [Info] Number of positive: 988, number of negative: 983\n",
      "[LightGBM] [Warning] Auto-choosing row-wise multi-threading, the overhead of testing was 0.000321 seconds.\n",
      "You can set `force_row_wise=true` to remove the overhead.\n",
      "And if memory is not enough, you can set `force_col_wise=true`.\n",
      "[LightGBM] [Info] Total Bins 871\n",
      "[LightGBM] [Info] Number of data points in the train set: 1971, number of used features: 13\n",
      "[LightGBM] [Info] [binary:BoostFromScore]: pavg=0.501268 -> initscore=0.005074\n",
      "[LightGBM] [Info] Start training from score 0.005074\n"
     ]
    }
   ],
   "source": [
    "import lightgbm as lgb\n",
    "d_train = lgb.Dataset(xg_X_train, label=xg_y_train)\n",
    "params = {}\n",
    "params['learning_rate'] = 0.003\n",
    "params['boosting_type'] = 'gbdt'\n",
    "params['objective'] = 'binary'\n",
    "params['metric'] = 'auc'\n",
    "params['sub_feature'] = 0.5\n",
    "params['num_leaves'] = 10\n",
    "params['min_data'] = 50\n",
    "params['max_depth'] = 10\n",
    "clf = lgb.train(params, d_train, 100)"
   ]
  },
  {
   "cell_type": "code",
   "execution_count": 106,
   "metadata": {},
   "outputs": [],
   "source": [
    "#Prediction\n",
    "y_pred_lg=clf.predict(xg_X_test)\n",
    "#convert into binary values\n",
    "for i in range(0,len(y_pred_lg)):\n",
    "    if y_pred_lg[i]>=.5:       # setting threshold to .5\n",
    "       y_pred_lg[i]=1\n",
    "    else:  \n",
    "       y_pred_lg[i]=0"
   ]
  },
  {
   "cell_type": "code",
   "execution_count": 107,
   "metadata": {},
   "outputs": [
    {
     "data": {
      "text/plain": [
       "0.6769570011025359"
      ]
     },
     "execution_count": 107,
     "metadata": {},
     "output_type": "execute_result"
    }
   ],
   "source": [
    "from sklearn.metrics import f1_score\n",
    "\n",
    "f1_score(xg_y_test, y_pred_lg)"
   ]
  },
  {
   "cell_type": "code",
   "execution_count": 108,
   "metadata": {},
   "outputs": [
    {
     "name": "stdout",
     "output_type": "stream",
     "text": [
      "AUC: 0.698\n"
     ]
    },
    {
     "data": {
      "image/png": "[encoded data removed]",
      "text/plain": [
       "<Figure size 432x288 with 1 Axes>"
      ]
     },
     "metadata": {
      "needs_background": "light"
     },
     "output_type": "display_data"
    }
   ],
   "source": [
    "auc = roc_auc_score(xg_y_test, y_pred_lg)\n",
    "print('AUC: %.3f' % auc)\n",
    "# calculate roc curve\n",
    "fpr, tpr, thresholds = roc_curve(xg_y_test, y_pred_lg)\n",
    "# plot no skill\n",
    "pyplot.plot([0, 1], [0, 1], linestyle='--')\n",
    "# plot the roc curve for the model\n",
    "pyplot.plot(fpr, tpr, marker='.')\n",
    "# show the plot\n",
    "pyplot.show()"
   ]
  },
  {
   "cell_type": "markdown",
   "metadata": {},
   "source": [
    "# Grid Search - Maximizing the F1-Score"
   ]
  },
  {
   "cell_type": "code",
   "execution_count": 109,
   "metadata": {},
   "outputs": [],
   "source": [
    "cv_params = {'max_depth': [4,5,6], 'min_child_weight': [2,3,4], 'learning_rate':  [0,1, 0.2,0.5], 'subsample': [0.8,0.9,1], 'max_delta_step': [1,2], 'colsample_bytree': [0.7, 0.9, 1] }    # parameters to be tries in the grid search\n",
    "fix_params = {'objective': 'binary:logistic'}   #other parameters, fixed for the moment \n",
    "csv = GridSearchCV(XGBClassifier(**fix_params), cv_params, scoring = 'f1', cv = 5)"
   ]
  },
  {
   "cell_type": "code",
   "execution_count": 110,
   "metadata": {},
   "outputs": [
    {
     "name": "stdout",
     "output_type": "stream",
     "text": [
      "Model took 0.00 seconds to complete.\n"
     ]
    }
   ],
   "source": [
    "start = time()\n",
    "#csv.fit(xg_X_train, xg_y_train)\n",
    "print(\"Model took %.2f seconds to complete.\" % (time()-start))"
   ]
  },
  {
   "cell_type": "code",
   "execution_count": 111,
   "metadata": {},
   "outputs": [],
   "source": [
    "#csv.best_params_"
   ]
  },
  {
   "cell_type": "code",
   "execution_count": 112,
   "metadata": {},
   "outputs": [],
   "source": [
    "xg_model = XGBClassifier(n_estimators = 1000,\n",
    "                        learning_rate = 0.2,\n",
    "                        max_delta_step = 1,\n",
    "                        max_depth = 4,\n",
    "                        min_child_weight = 2,\n",
    "                        gamma = 0.01,\n",
    "                        subsample = 0.9, \n",
    "                        colsample_bytree = 0.9, \n",
    "                        seed = 1234,\n",
    "                        objective= 'binary:logistic',\n",
    "                        eval_metric = 'auc')"
   ]
  },
  {
   "cell_type": "code",
   "execution_count": 113,
   "metadata": {},
   "outputs": [
    {
     "name": "stdout",
     "output_type": "stream",
     "text": [
      "Model took 1.19 seconds to complete.\n",
      "0.6652935118434603\n"
     ]
    }
   ],
   "source": [
    "start = time()\n",
    "xg_model.fit(xg_X_train, xg_y_train)\n",
    "xg_preds = xg_model.predict(xg_X_test)\n",
    "print(\"Model took %.2f seconds to complete.\" % (time()-start))\n",
    "print(accuracy_score(xg_y_test, xg_preds))"
   ]
  },
  {
   "cell_type": "code",
   "execution_count": 114,
   "metadata": {},
   "outputs": [
    {
     "data": {
      "text/plain": [
       "0.6652935118434603"
      ]
     },
     "execution_count": 114,
     "metadata": {},
     "output_type": "execute_result"
    }
   ],
   "source": [
    "from sklearn.metrics import f1_score\n",
    "\n",
    "f1_score(xg_y_test, xg_preds)"
   ]
  },
  {
   "cell_type": "markdown",
   "metadata": {},
   "source": [
    "# Modelo de ensamble"
   ]
  },
  {
   "cell_type": "code",
   "execution_count": 115,
   "metadata": {},
   "outputs": [],
   "source": [
    "xg_preds = xg_model.predict(xg_X_test)\n",
    "rf_preds = rclf.predict(xg_X_test)\n",
    "lg_preds=y_pred_lg"
   ]
  },
  {
   "cell_type": "code",
   "execution_count": 116,
   "metadata": {},
   "outputs": [],
   "source": [
    "df_total = pd.DataFrame(xg_preds, columns=['pred_xg']) \n",
    "df_total['pred_rf'] = pd.DataFrame(rf_preds, columns=['pred_rf']) \n",
    "df_total['pred_lg'] = pd.DataFrame(lg_preds, columns=['pred_lg']) "
   ]
  },
  {
   "cell_type": "code",
   "execution_count": 117,
   "metadata": {},
   "outputs": [],
   "source": [
    "df_total['Final'] = df_total['pred_xg']*(1/3) + df_total['pred_rf']*(1/3) + df_total['pred_lg']*(1/3)"
   ]
  },
  {
   "cell_type": "code",
   "execution_count": 118,
   "metadata": {},
   "outputs": [],
   "source": [
    "#Prediction\n",
    "y_pred_en= df_total['Final'] \n",
    "#convert into binary values\n",
    "for i in range(0,len(y_pred_en)):\n",
    "    if y_pred_en[i]>=.5:       # setting threshold to .5\n",
    "       y_pred_en[i]=1\n",
    "    else:  \n",
    "       y_pred_en[i]=0"
   ]
  },
  {
   "cell_type": "code",
   "execution_count": 119,
   "metadata": {},
   "outputs": [
    {
     "data": {
      "text/plain": [
       "0.6876355748373102"
      ]
     },
     "execution_count": 119,
     "metadata": {},
     "output_type": "execute_result"
    }
   ],
   "source": [
    "from sklearn.metrics import f1_score\n",
    "\n",
    "f1_score(xg_y_test, y_pred_en)"
   ]
  },
  {
   "cell_type": "code",
   "execution_count": 120,
   "metadata": {},
   "outputs": [
    {
     "name": "stdout",
     "output_type": "stream",
     "text": [
      "AUC: 0.703\n"
     ]
    },
    {
     "data": {
      "image/png": "[encoded data removed]",
      "text/plain": [
       "<Figure size 432x288 with 1 Axes>"
      ]
     },
     "metadata": {
      "needs_background": "light"
     },
     "output_type": "display_data"
    }
   ],
   "source": [
    "auc = roc_auc_score(xg_y_test, y_pred_en)\n",
    "print('AUC: %.3f' % auc)\n",
    "# calculate roc curve\n",
    "fpr, tpr, thresholds = roc_curve(xg_y_test, y_pred_en)\n",
    "# plot no skill\n",
    "pyplot.plot([0, 1], [0, 1], linestyle='--')\n",
    "# plot the roc curve for the model\n",
    "pyplot.plot(fpr, tpr, marker='.')\n",
    "# show the plot\n",
    "pyplot.show()"
   ]
  },
  {
   "cell_type": "markdown",
   "metadata": {},
   "source": [
    "# Predicción"
   ]
  },
  {
   "cell_type": "code",
   "execution_count": 121,
   "metadata": {},
   "outputs": [],
   "source": [
    "xg_preds = xg_model.predict(final_X_test)\n",
    "rf_preds = rclf.predict(final_X_test)\n",
    "lg_preds=clf.predict(final_X_test)"
   ]
  },
  {
   "cell_type": "code",
   "execution_count": 122,
   "metadata": {},
   "outputs": [],
   "source": [
    "#convert into binary values\n",
    "for i in range(0,len(lg_preds)):\n",
    "    if lg_preds[i]>=.5:       # setting threshold to .5\n",
    "       lg_preds[i]=1\n",
    "    else:  \n",
    "       lg_preds[i]=0"
   ]
  },
  {
   "cell_type": "code",
   "execution_count": 123,
   "metadata": {},
   "outputs": [],
   "source": [
    "df_total = pd.DataFrame(xg_preds, columns=['pred_xg']) \n",
    "df_total['pred_rf'] = pd.DataFrame(rf_preds, columns=['pred_rf']) \n",
    "df_total['pred_lg'] = pd.DataFrame(lg_preds, columns=['pred_lg']) "
   ]
  },
  {
   "cell_type": "code",
   "execution_count": 124,
   "metadata": {},
   "outputs": [],
   "source": [
    "df_total['Final'] = df_total['pred_xg']*(1/4) + df_total['pred_rf']*(1/2) + df_total['pred_lg']*(1/4)"
   ]
  },
  {
   "cell_type": "code",
   "execution_count": 125,
   "metadata": {},
   "outputs": [],
   "source": [
    "#Prediction\n",
    "xg_preds= df_total['Final'] \n",
    "#convert into binary values\n",
    "for i in range(0,len(xg_preds)):\n",
    "    if xg_preds[i]>=.5:       # setting threshold to .5\n",
    "       xg_preds[i]=1\n",
    "    else:  \n",
    "       xg_preds[i]=0"
   ]
  },
  {
   "cell_type": "code",
   "execution_count": 126,
   "metadata": {},
   "outputs": [],
   "source": [
    "sub = pd.DataFrame()\n",
    "sub['id'] = test_id\n",
    "sub['rating'] = xg_preds"
   ]
  },
  {
   "cell_type": "code",
   "execution_count": 127,
   "metadata": {},
   "outputs": [],
   "source": [
    "sub.to_csv('../data/Submission_i.csv', index=False)"
   ]
  },
  {
   "cell_type": "code",
   "execution_count": null,
   "metadata": {},
   "outputs": [],
   "source": []
  }
 ],
 "metadata": {
  "kernelspec": {
   "display_name": "Python 3",
   "language": "python",
   "name": "python3"
  },
  "language_info": {
   "codemirror_mode": {
    "name": "ipython",
    "version": 3
   },
   "file_extension": ".py",
   "mimetype": "text/x-python",
   "name": "python",
   "nbconvert_exporter": "python",
   "pygments_lexer": "ipython3",
   "version": "3.8.3"
  }
 },
 "nbformat": 4,
 "nbformat_minor": 4
}
